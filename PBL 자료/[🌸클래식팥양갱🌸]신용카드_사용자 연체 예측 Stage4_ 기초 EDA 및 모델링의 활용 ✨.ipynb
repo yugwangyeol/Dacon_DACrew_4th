{
 "cells": [
  {
   "cell_type": "markdown",
   "id": "e21c2076-a944-459f-a7c1-8e40930abea9",
   "metadata": {},
   "source": [
    "# Stage 4\n",
    "  \n",
    "     "
   ]
  },
  {
   "cell_type": "markdown",
   "id": "4aeec665-18f4-44af-ae60-621a620ed7cb",
   "metadata": {},
   "source": [
    "<p align=\"center\"><img src='https://drive.google.com/uc?export=download&id=1fnhrOpxChyB01EyZ5pNBINkrHUzBYG_9' align=\"center\" /></p><br>\n",
    "\n",
    "# Intro\n",
    "\n",
    "안녕하세요~ 여러분!!  😊 \n",
    "\n",
    "Stage3에서는 모델링의 기초와 성능지표를 배워 성능 평가 및 Submission을 제출해 보았습니다.  \n",
    "\n",
    "Stage4에서는 Modeling&Ensemble 단계에서 다양한 모델과 <font color=\"coral\">**파라미터**</font>를 활용하여 성능을 향상시켜보겠습니다.  \n",
    "\n",
    "추가적으로 Data Preprocessing 단계에서 데이터 이해와 성능 향상에 도움을 주는 <font color=\"green\">**EDA**</font>에 대해 배워 볼 예정입니다.  🎉\n"
   ]
  },
  {
   "cell_type": "markdown",
   "id": "c3da506b-8ab7-4625-a075-56b260755455",
   "metadata": {},
   "source": [
    "# 1.  데이터 불러오기"
   ]
  },
  {
   "cell_type": "markdown",
   "id": "86ca0200-a9fa-42df-9648-f1d69b9ff5cd",
   "metadata": {},
   "source": [
    "먼저 전처리 된 train/test 파일을 불러와 볼께요!!  \n",
    "불러온 데이터는 Stage3에서 배운 train/validation/test 형태로 만들어 줄께요."
   ]
  },
  {
   "cell_type": "code",
   "execution_count": 1,
   "id": "d7150a3c-f70a-4c0c-b2ce-5a42dca2ace6",
   "metadata": {},
   "outputs": [],
   "source": [
    "# pandas 불러오기\n",
    "import pandas as pd\n",
    "\n",
    "#train, test, submission 데이터 불러오기\n",
    "train = pd.read_csv('train_pre.csv')\n",
    "test = pd.read_csv('test_pre.csv')\n",
    "submission = pd.read_csv('sample_submission.csv')"
   ]
  },
  {
   "cell_type": "code",
   "execution_count": 2,
   "id": "655179e2-45cb-41d8-bf25-d20c7734a793",
   "metadata": {},
   "outputs": [],
   "source": [
    "# data, target 만들기\n",
    "\n",
    "data = train.iloc[:,:-1]\n",
    "target = train['credit']"
   ]
  },
  {
   "cell_type": "code",
   "execution_count": 3,
   "id": "8ac026b4-a82f-42d4-a8cf-4988ed12404b",
   "metadata": {},
   "outputs": [],
   "source": [
    "# train, validation 만들기\n",
    "\n",
    "from sklearn.model_selection import train_test_split\n",
    "\n",
    "X_train, X_valid, y_train, y_valid = train_test_split(data, target, test_size=0.3)"
   ]
  },
  {
   "cell_type": "markdown",
   "id": "f4594088-ab2b-438c-b737-91437ca3f6c4",
   "metadata": {},
   "source": [
    "사용할 데이터의 shape을 확인해 볼께요."
   ]
  },
  {
   "cell_type": "code",
   "execution_count": 4,
   "id": "0f32b960-33ae-46fc-8a74-5b682597b5f5",
   "metadata": {},
   "outputs": [
    {
     "name": "stdout",
     "output_type": "stream",
     "text": [
      "(18519, 18)\n",
      "(18519,)\n",
      "(7938, 18)\n",
      "(7938,)\n",
      "(10000, 18)\n"
     ]
    }
   ],
   "source": [
    "print(X_train.shape)\n",
    "print(y_train.shape)\n",
    "print(X_valid.shape)\n",
    "print(y_valid.shape)\n",
    "print(test.shape)"
   ]
  },
  {
   "cell_type": "markdown",
   "id": "848f3621-65b9-4f56-96ed-12560ba6205f",
   "metadata": {},
   "source": [
    "# 2. 다양한 모델"
   ]
  },
  {
   "cell_type": "markdown",
   "id": "54e32220-1c60-445e-a7cb-f7774d5cbc31",
   "metadata": {},
   "source": [
    "데이터 분석은 같은 문제라도 다양한 모델을 활용하여 해결할 수 있습니다.  \n",
    "\n",
    "**주어진 데이터, 해결해야 하는 문제, 성능**에 따라 최적의 모델을 선정하여 문제를 해결합니다.  \n",
    "\n",
    "해당 문제는 Target 값이 0,1,2로 되어있으므로, 분류 모델을 사용합니다.  \n",
    "\n",
    "이번 시간에는 분류 문제에서 사용되는 다양한 모델과 예시를 한번 보겠습니다.\n",
    "\n",
    "---"
   ]
  },
  {
   "cell_type": "markdown",
   "id": "8dbffa72-7b4c-4b37-add0-3a8e2a692360",
   "metadata": {},
   "source": [
    "분류 모델에는 다음과 같은 모델들이 존재 합니다.  \n",
    "\n",
    "> - Linear 모델\n",
    "> - Tree 모델\n",
    "> - Boosting 모델\n",
    "  \n",
    "해당 모델들에 대한 종류와 예시를 한번 살펴보겠습니다."
   ]
  },
  {
   "cell_type": "markdown",
   "id": "0720df4a-3b55-4569-8017-f7a2b2547083",
   "metadata": {},
   "source": [
    "### 2.1 Linear 모델"
   ]
  },
  {
   "cell_type": "markdown",
   "id": "284a0f5a-79b6-47ef-8f7e-b3d1c9e69e5e",
   "metadata": {},
   "source": [
    "<p align=\"center\"><img src='https://miro.medium.com/max/1400/1*44qV8LhNzE5hPnta2PaaHw.png' width=\"500\" height =\"500\" align=\"center\" /></p><br>\n",
    "<p style='text-align: right;'> 출처 : miro.medium </p>"
   ]
  },
  {
   "cell_type": "markdown",
   "id": "32b6d21b-8e60-4fdb-963c-35e95e5e46f7",
   "metadata": {},
   "source": [
    "Linear 기반 모델의 대표적인 모델은 **LogisticRegression** 모델이 있습니다.  \n",
    "**LogisticRegression** 모델은 회귀 모델이지만 이진 분류에서 자주 사용되는 Linear 모델입니다.  \n",
    "선형으로 된 모델을 Logistic 함수에 넣어 output을 생성합니다."
   ]
  },
  {
   "cell_type": "code",
   "execution_count": 5,
   "id": "d871861b-b2f6-434c-952f-edb9353ae82b",
   "metadata": {},
   "outputs": [
    {
     "data": {
      "text/plain": [
       "LogisticRegression()"
      ]
     },
     "execution_count": 5,
     "metadata": {},
     "output_type": "execute_result"
    }
   ],
   "source": [
    "# LinearReegression 예시\n",
    "\n",
    "# LinearRegression Import\n",
    "from sklearn.linear_model import LogisticRegression\n",
    "\n",
    "# Train\n",
    "lr_model = LogisticRegression() # 모델 지정\n",
    "lr_model.fit(X_train,y_train) # 모델 학습"
   ]
  },
  {
   "cell_type": "code",
   "execution_count": 6,
   "id": "55d64c7c-4a03-4b76-bdf3-5cbb02719027",
   "metadata": {},
   "outputs": [
    {
     "name": "stdout",
     "output_type": "stream",
     "text": [
      "accuracy_score :  0.6379440665154951\n",
      "log_loss :  0.8824192876595736\n"
     ]
    }
   ],
   "source": [
    "# evaluation\n",
    "\n",
    "from sklearn.metrics import accuracy_score, log_loss\n",
    "\n",
    "val_pred = lr_model.predict(X_valid) # validation 예측\n",
    "print('accuracy_score : ' ,accuracy_score(y_valid,val_pred))\n",
    "\n",
    "val_pred2 = lr_model.predict_proba(X_valid) # validation 확률 예측\n",
    "print('log_loss : ' ,log_loss(y_valid,val_pred2))"
   ]
  },
  {
   "cell_type": "markdown",
   "id": "2f06a0e6-618f-407a-b5f6-5117f9691391",
   "metadata": {},
   "source": [
    "> accuracy score 같은 경우에는 predict를, Logloss 같은 경우에는 predict_proba를 활용하여 모델 성능을 평가합니다."
   ]
  },
  {
   "cell_type": "code",
   "execution_count": 7,
   "id": "22e9b825-81ac-4cac-b393-e48356cd48ba",
   "metadata": {},
   "outputs": [
    {
     "data": {
      "text/html": [
       "<div>\n",
       "<style scoped>\n",
       "    .dataframe tbody tr th:only-of-type {\n",
       "        vertical-align: middle;\n",
       "    }\n",
       "\n",
       "    .dataframe tbody tr th {\n",
       "        vertical-align: top;\n",
       "    }\n",
       "\n",
       "    .dataframe thead th {\n",
       "        text-align: right;\n",
       "    }\n",
       "</style>\n",
       "<table border=\"1\" class=\"dataframe\">\n",
       "  <thead>\n",
       "    <tr style=\"text-align: right;\">\n",
       "      <th></th>\n",
       "      <th>index</th>\n",
       "      <th>0</th>\n",
       "      <th>1</th>\n",
       "      <th>2</th>\n",
       "    </tr>\n",
       "  </thead>\n",
       "  <tbody>\n",
       "    <tr>\n",
       "      <th>0</th>\n",
       "      <td>26457</td>\n",
       "      <td>0.087498</td>\n",
       "      <td>0.176297</td>\n",
       "      <td>0.736204</td>\n",
       "    </tr>\n",
       "    <tr>\n",
       "      <th>1</th>\n",
       "      <td>26458</td>\n",
       "      <td>0.130702</td>\n",
       "      <td>0.219923</td>\n",
       "      <td>0.649375</td>\n",
       "    </tr>\n",
       "    <tr>\n",
       "      <th>2</th>\n",
       "      <td>26459</td>\n",
       "      <td>0.104584</td>\n",
       "      <td>0.205436</td>\n",
       "      <td>0.689979</td>\n",
       "    </tr>\n",
       "    <tr>\n",
       "      <th>3</th>\n",
       "      <td>26460</td>\n",
       "      <td>0.113885</td>\n",
       "      <td>0.199303</td>\n",
       "      <td>0.686812</td>\n",
       "    </tr>\n",
       "    <tr>\n",
       "      <th>4</th>\n",
       "      <td>26461</td>\n",
       "      <td>0.163703</td>\n",
       "      <td>0.265294</td>\n",
       "      <td>0.571003</td>\n",
       "    </tr>\n",
       "    <tr>\n",
       "      <th>...</th>\n",
       "      <td>...</td>\n",
       "      <td>...</td>\n",
       "      <td>...</td>\n",
       "      <td>...</td>\n",
       "    </tr>\n",
       "    <tr>\n",
       "      <th>9995</th>\n",
       "      <td>36452</td>\n",
       "      <td>0.118075</td>\n",
       "      <td>0.217639</td>\n",
       "      <td>0.664286</td>\n",
       "    </tr>\n",
       "    <tr>\n",
       "      <th>9996</th>\n",
       "      <td>36453</td>\n",
       "      <td>0.149447</td>\n",
       "      <td>0.201125</td>\n",
       "      <td>0.649428</td>\n",
       "    </tr>\n",
       "    <tr>\n",
       "      <th>9997</th>\n",
       "      <td>36454</td>\n",
       "      <td>0.077167</td>\n",
       "      <td>0.164629</td>\n",
       "      <td>0.758204</td>\n",
       "    </tr>\n",
       "    <tr>\n",
       "      <th>9998</th>\n",
       "      <td>36455</td>\n",
       "      <td>0.133855</td>\n",
       "      <td>0.191683</td>\n",
       "      <td>0.674462</td>\n",
       "    </tr>\n",
       "    <tr>\n",
       "      <th>9999</th>\n",
       "      <td>36456</td>\n",
       "      <td>0.233017</td>\n",
       "      <td>0.258842</td>\n",
       "      <td>0.508141</td>\n",
       "    </tr>\n",
       "  </tbody>\n",
       "</table>\n",
       "<p>10000 rows × 4 columns</p>\n",
       "</div>"
      ],
      "text/plain": [
       "      index         0         1         2\n",
       "0     26457  0.087498  0.176297  0.736204\n",
       "1     26458  0.130702  0.219923  0.649375\n",
       "2     26459  0.104584  0.205436  0.689979\n",
       "3     26460  0.113885  0.199303  0.686812\n",
       "4     26461  0.163703  0.265294  0.571003\n",
       "...     ...       ...       ...       ...\n",
       "9995  36452  0.118075  0.217639  0.664286\n",
       "9996  36453  0.149447  0.201125  0.649428\n",
       "9997  36454  0.077167  0.164629  0.758204\n",
       "9998  36455  0.133855  0.191683  0.674462\n",
       "9999  36456  0.233017  0.258842  0.508141\n",
       "\n",
       "[10000 rows x 4 columns]"
      ]
     },
     "execution_count": 7,
     "metadata": {},
     "output_type": "execute_result"
    }
   ],
   "source": [
    "# Predict\n",
    "\n",
    "test_pred = lr_model.predict_proba(test) # test 예측\n",
    "submission.iloc[:,1:] = test_pred # DataFrame 생성\n",
    "submission"
   ]
  },
  {
   "cell_type": "code",
   "execution_count": null,
   "id": "c8cfd576-f5a8-4078-b4f1-f4f5aa5b400e",
   "metadata": {},
   "outputs": [],
   "source": [
    "# Submission 생성\n",
    "submission.to_csv('submission_LogisticRegression.csv')"
   ]
  },
  {
   "cell_type": "markdown",
   "id": "058fa9b0-230b-411c-991d-899217a9f5df",
   "metadata": {},
   "source": [
    "### 2.2 Tree 모델"
   ]
  },
  {
   "cell_type": "markdown",
   "id": "ca816aae-465b-45b6-858b-4739f339c56e",
   "metadata": {},
   "source": [
    "<p align=\"center\"><img src='https://hleecaster.com/wp-content/uploads/2020/01/dct01.png' width=\"800\" height =\"500\" align=\"center\" /></p><br>\n",
    "<p style='text-align: right;'> 출처 : 아무튼 워라밸 </p>"
   ]
  },
  {
   "cell_type": "markdown",
   "id": "457ab2e4-6cc4-478b-bb7b-14f56c2e6a27",
   "metadata": {},
   "source": [
    "Tree기반의 대표적인 모델로는 **DecisionTree Model**이 있습니다.  \n",
    "이외에도 **RandomForest, Extratree Model**이 존재합니다.  \n",
    "**RandomForest**는 DecisionTree를 여러개 합쳐놓은 모델입니다.  \n",
    "RandomForest에서는 **Bagging** 방법을 사용하는데 이는 **Stage6**에서 더 자세히 설명하겠습니다~  \n",
    "**Extratree**는 RandomForest를 여러개 합쳐놓은 Tree기반 모델입니다.  \n",
    "Stage3에서 DecisionTree Model로 진행했기에 Stage4에서도 **DecisionTree Model**을 예시로 들어보겠습니다.  "
   ]
  },
  {
   "cell_type": "code",
   "execution_count": 9,
   "id": "31088579-6a68-49c3-8c79-06edc3e9c69e",
   "metadata": {},
   "outputs": [
    {
     "data": {
      "text/plain": [
       "DecisionTreeClassifier()"
      ]
     },
     "execution_count": 9,
     "metadata": {},
     "output_type": "execute_result"
    }
   ],
   "source": [
    "# DecisionTreeClassifier 예시\n",
    "\n",
    "# DecisionTreeClassifier Import\n",
    "from sklearn.tree import DecisionTreeClassifier\n",
    "\n",
    "# Train\n",
    "dt_model = DecisionTreeClassifier() # 모델 지정\n",
    "dt_model.fit(X_train,y_train) # 모델 학습"
   ]
  },
  {
   "cell_type": "code",
   "execution_count": 10,
   "id": "4af997a0-7d9d-4974-9f27-914f9e1efa08",
   "metadata": {},
   "outputs": [
    {
     "name": "stdout",
     "output_type": "stream",
     "text": [
      "accuracy_score :  0.5006298815822625\n",
      "log_loss :  17.247632858330306\n"
     ]
    }
   ],
   "source": [
    "# evaluation\n",
    "\n",
    "from sklearn.metrics import accuracy_score, log_loss\n",
    "\n",
    "val_pred = dt_model.predict(X_valid) # validation 예측\n",
    "print('accuracy_score : ' ,accuracy_score(y_valid,val_pred))\n",
    "\n",
    "val_pred2 = dt_model.predict_proba(X_valid) # validation 확률 예측\n",
    "print('log_loss : ' ,log_loss(y_valid,val_pred2))"
   ]
  },
  {
   "cell_type": "code",
   "execution_count": 11,
   "id": "e49fbb4b-1735-40eb-86f4-efda7b01984e",
   "metadata": {},
   "outputs": [
    {
     "data": {
      "text/html": [
       "<div>\n",
       "<style scoped>\n",
       "    .dataframe tbody tr th:only-of-type {\n",
       "        vertical-align: middle;\n",
       "    }\n",
       "\n",
       "    .dataframe tbody tr th {\n",
       "        vertical-align: top;\n",
       "    }\n",
       "\n",
       "    .dataframe thead th {\n",
       "        text-align: right;\n",
       "    }\n",
       "</style>\n",
       "<table border=\"1\" class=\"dataframe\">\n",
       "  <thead>\n",
       "    <tr style=\"text-align: right;\">\n",
       "      <th></th>\n",
       "      <th>index</th>\n",
       "      <th>0</th>\n",
       "      <th>1</th>\n",
       "      <th>2</th>\n",
       "    </tr>\n",
       "  </thead>\n",
       "  <tbody>\n",
       "    <tr>\n",
       "      <th>0</th>\n",
       "      <td>26457</td>\n",
       "      <td>0.0</td>\n",
       "      <td>0.0</td>\n",
       "      <td>1.0</td>\n",
       "    </tr>\n",
       "    <tr>\n",
       "      <th>1</th>\n",
       "      <td>26458</td>\n",
       "      <td>0.0</td>\n",
       "      <td>0.0</td>\n",
       "      <td>1.0</td>\n",
       "    </tr>\n",
       "    <tr>\n",
       "      <th>2</th>\n",
       "      <td>26459</td>\n",
       "      <td>0.0</td>\n",
       "      <td>0.0</td>\n",
       "      <td>1.0</td>\n",
       "    </tr>\n",
       "    <tr>\n",
       "      <th>3</th>\n",
       "      <td>26460</td>\n",
       "      <td>0.0</td>\n",
       "      <td>0.0</td>\n",
       "      <td>1.0</td>\n",
       "    </tr>\n",
       "    <tr>\n",
       "      <th>4</th>\n",
       "      <td>26461</td>\n",
       "      <td>0.0</td>\n",
       "      <td>0.0</td>\n",
       "      <td>1.0</td>\n",
       "    </tr>\n",
       "    <tr>\n",
       "      <th>...</th>\n",
       "      <td>...</td>\n",
       "      <td>...</td>\n",
       "      <td>...</td>\n",
       "      <td>...</td>\n",
       "    </tr>\n",
       "    <tr>\n",
       "      <th>9995</th>\n",
       "      <td>36452</td>\n",
       "      <td>0.0</td>\n",
       "      <td>0.0</td>\n",
       "      <td>1.0</td>\n",
       "    </tr>\n",
       "    <tr>\n",
       "      <th>9996</th>\n",
       "      <td>36453</td>\n",
       "      <td>0.0</td>\n",
       "      <td>1.0</td>\n",
       "      <td>0.0</td>\n",
       "    </tr>\n",
       "    <tr>\n",
       "      <th>9997</th>\n",
       "      <td>36454</td>\n",
       "      <td>0.0</td>\n",
       "      <td>0.0</td>\n",
       "      <td>1.0</td>\n",
       "    </tr>\n",
       "    <tr>\n",
       "      <th>9998</th>\n",
       "      <td>36455</td>\n",
       "      <td>0.0</td>\n",
       "      <td>0.0</td>\n",
       "      <td>1.0</td>\n",
       "    </tr>\n",
       "    <tr>\n",
       "      <th>9999</th>\n",
       "      <td>36456</td>\n",
       "      <td>0.0</td>\n",
       "      <td>0.0</td>\n",
       "      <td>1.0</td>\n",
       "    </tr>\n",
       "  </tbody>\n",
       "</table>\n",
       "<p>10000 rows × 4 columns</p>\n",
       "</div>"
      ],
      "text/plain": [
       "      index    0    1    2\n",
       "0     26457  0.0  0.0  1.0\n",
       "1     26458  0.0  0.0  1.0\n",
       "2     26459  0.0  0.0  1.0\n",
       "3     26460  0.0  0.0  1.0\n",
       "4     26461  0.0  0.0  1.0\n",
       "...     ...  ...  ...  ...\n",
       "9995  36452  0.0  0.0  1.0\n",
       "9996  36453  0.0  1.0  0.0\n",
       "9997  36454  0.0  0.0  1.0\n",
       "9998  36455  0.0  0.0  1.0\n",
       "9999  36456  0.0  0.0  1.0\n",
       "\n",
       "[10000 rows x 4 columns]"
      ]
     },
     "execution_count": 11,
     "metadata": {},
     "output_type": "execute_result"
    }
   ],
   "source": [
    "# Predict\n",
    "\n",
    "test_pred = dt_model.predict_proba(test) # test 예측\n",
    "submission.iloc[:,1:] = test_pred # DataFrame 생성\n",
    "submission"
   ]
  },
  {
   "cell_type": "code",
   "execution_count": null,
   "id": "49db14d3-99ac-406c-80f5-32bc7dbbd732",
   "metadata": {},
   "outputs": [],
   "source": [
    "# Submission 생성\n",
    "submission.to_csv('submission_DecisionTreeClassifier.csv')"
   ]
  },
  {
   "cell_type": "markdown",
   "id": "fc18f13d-9e86-4bc3-bdf4-a3106de7dbfb",
   "metadata": {},
   "source": [
    "### 2.3 Boosting 모델"
   ]
  },
  {
   "cell_type": "markdown",
   "id": "fa6395b0-00dc-4ff8-97c9-c8040d2e68f3",
   "metadata": {},
   "source": [
    "Boosting기반의 대표적인 모델로는 **GBM**모델이 있습니다.  \n",
    "그이외에도 XGB,LGBM,Catboost 등 다양한 모델이 존재합니다.  \n",
    "XGB, LGBM, CatBoost 모델 같은 경우에는 별도의 모델 설치가 필요합니다.    \n",
    "Boosting에 대해서는 **Stage6**에서 자세하게 설명할 예정입니다~"
   ]
  },
  {
   "cell_type": "code",
   "execution_count": 12,
   "id": "526c4b0a-3158-486e-8b8c-baceffff6b2f",
   "metadata": {},
   "outputs": [
    {
     "data": {
      "text/plain": [
       "GradientBoostingClassifier()"
      ]
     },
     "execution_count": 12,
     "metadata": {},
     "output_type": "execute_result"
    }
   ],
   "source": [
    "# GradientBoostingClassifier 예시\n",
    "\n",
    "# GradientBoostingClassifier Import\n",
    "from sklearn.ensemble import GradientBoostingClassifier\n",
    "\n",
    "# Train\n",
    "gbm_model = GradientBoostingClassifier() # 모델 지정\n",
    "gbm_model.fit(X_train,y_train) # 모델 학습"
   ]
  },
  {
   "cell_type": "code",
   "execution_count": 13,
   "id": "c479b7db-74fd-4253-b9c5-aab1b9094cf5",
   "metadata": {},
   "outputs": [
    {
     "name": "stdout",
     "output_type": "stream",
     "text": [
      "accuracy_score :  0.63567649281935\n",
      "log_loss :  0.8682403823172201\n"
     ]
    }
   ],
   "source": [
    "# evaluation\n",
    "\n",
    "from sklearn.metrics import accuracy_score, log_loss\n",
    "\n",
    "val_pred = gbm_model.predict(X_valid) # validation 예측\n",
    "print('accuracy_score : ' ,accuracy_score(y_valid,val_pred))\n",
    "\n",
    "val_pred2 = gbm_model.predict_proba(X_valid) # validation 확률 예측\n",
    "print('log_loss : ' ,log_loss(y_valid,val_pred2))"
   ]
  },
  {
   "cell_type": "code",
   "execution_count": 14,
   "id": "30fcea9e-720b-418b-bb45-569440b6ad62",
   "metadata": {},
   "outputs": [
    {
     "data": {
      "text/html": [
       "<div>\n",
       "<style scoped>\n",
       "    .dataframe tbody tr th:only-of-type {\n",
       "        vertical-align: middle;\n",
       "    }\n",
       "\n",
       "    .dataframe tbody tr th {\n",
       "        vertical-align: top;\n",
       "    }\n",
       "\n",
       "    .dataframe thead th {\n",
       "        text-align: right;\n",
       "    }\n",
       "</style>\n",
       "<table border=\"1\" class=\"dataframe\">\n",
       "  <thead>\n",
       "    <tr style=\"text-align: right;\">\n",
       "      <th></th>\n",
       "      <th>index</th>\n",
       "      <th>0</th>\n",
       "      <th>1</th>\n",
       "      <th>2</th>\n",
       "    </tr>\n",
       "  </thead>\n",
       "  <tbody>\n",
       "    <tr>\n",
       "      <th>0</th>\n",
       "      <td>26457</td>\n",
       "      <td>0.083172</td>\n",
       "      <td>0.233319</td>\n",
       "      <td>0.683509</td>\n",
       "    </tr>\n",
       "    <tr>\n",
       "      <th>1</th>\n",
       "      <td>26458</td>\n",
       "      <td>0.034971</td>\n",
       "      <td>0.148685</td>\n",
       "      <td>0.816344</td>\n",
       "    </tr>\n",
       "    <tr>\n",
       "      <th>2</th>\n",
       "      <td>26459</td>\n",
       "      <td>0.113165</td>\n",
       "      <td>0.482460</td>\n",
       "      <td>0.404375</td>\n",
       "    </tr>\n",
       "    <tr>\n",
       "      <th>3</th>\n",
       "      <td>26460</td>\n",
       "      <td>0.147531</td>\n",
       "      <td>0.335902</td>\n",
       "      <td>0.516567</td>\n",
       "    </tr>\n",
       "    <tr>\n",
       "      <th>4</th>\n",
       "      <td>26461</td>\n",
       "      <td>0.153932</td>\n",
       "      <td>0.538616</td>\n",
       "      <td>0.307452</td>\n",
       "    </tr>\n",
       "    <tr>\n",
       "      <th>...</th>\n",
       "      <td>...</td>\n",
       "      <td>...</td>\n",
       "      <td>...</td>\n",
       "      <td>...</td>\n",
       "    </tr>\n",
       "    <tr>\n",
       "      <th>9995</th>\n",
       "      <td>36452</td>\n",
       "      <td>0.094491</td>\n",
       "      <td>0.505645</td>\n",
       "      <td>0.399864</td>\n",
       "    </tr>\n",
       "    <tr>\n",
       "      <th>9996</th>\n",
       "      <td>36453</td>\n",
       "      <td>0.109339</td>\n",
       "      <td>0.520148</td>\n",
       "      <td>0.370513</td>\n",
       "    </tr>\n",
       "    <tr>\n",
       "      <th>9997</th>\n",
       "      <td>36454</td>\n",
       "      <td>0.033107</td>\n",
       "      <td>0.124740</td>\n",
       "      <td>0.842153</td>\n",
       "    </tr>\n",
       "    <tr>\n",
       "      <th>9998</th>\n",
       "      <td>36455</td>\n",
       "      <td>0.054833</td>\n",
       "      <td>0.166225</td>\n",
       "      <td>0.778942</td>\n",
       "    </tr>\n",
       "    <tr>\n",
       "      <th>9999</th>\n",
       "      <td>36456</td>\n",
       "      <td>0.064657</td>\n",
       "      <td>0.219509</td>\n",
       "      <td>0.715833</td>\n",
       "    </tr>\n",
       "  </tbody>\n",
       "</table>\n",
       "<p>10000 rows × 4 columns</p>\n",
       "</div>"
      ],
      "text/plain": [
       "      index         0         1         2\n",
       "0     26457  0.083172  0.233319  0.683509\n",
       "1     26458  0.034971  0.148685  0.816344\n",
       "2     26459  0.113165  0.482460  0.404375\n",
       "3     26460  0.147531  0.335902  0.516567\n",
       "4     26461  0.153932  0.538616  0.307452\n",
       "...     ...       ...       ...       ...\n",
       "9995  36452  0.094491  0.505645  0.399864\n",
       "9996  36453  0.109339  0.520148  0.370513\n",
       "9997  36454  0.033107  0.124740  0.842153\n",
       "9998  36455  0.054833  0.166225  0.778942\n",
       "9999  36456  0.064657  0.219509  0.715833\n",
       "\n",
       "[10000 rows x 4 columns]"
      ]
     },
     "execution_count": 14,
     "metadata": {},
     "output_type": "execute_result"
    }
   ],
   "source": [
    "# Predict\n",
    "\n",
    "test_pred = gbm_model.predict_proba(test) # test 예측\n",
    "submission.iloc[:,1:] = test_pred # DataFrame 생성\n",
    "submission"
   ]
  },
  {
   "cell_type": "code",
   "execution_count": null,
   "id": "00194241-81f6-4d66-834a-44e765f60483",
   "metadata": {},
   "outputs": [],
   "source": [
    "# Submission 생성\n",
    "submission.to_csv('submission_GradientBoostingClassifier.csv')"
   ]
  },
  {
   "cell_type": "markdown",
   "id": "b0056641-7bc8-47d3-8255-e14b95ef57b0",
   "metadata": {
    "tags": []
   },
   "source": [
    "### Inst.\n",
    "\n",
    "- RandomForest 모델을 활용하여 evaluation&Submission을 만들어 보세요.\n",
    "- evaluation 점수를 확인하세요.\n",
    "- 대회에 Submission을 제출해 보세요."
   ]
  },
  {
   "cell_type": "code",
   "execution_count": null,
   "id": "1d3a02b5-927c-4a3f-8402-2ae1971aa37a",
   "metadata": {},
   "outputs": [],
   "source": [
    "# 모델 Import\n",
    "\n",
    "# Train\n"
   ]
  },
  {
   "cell_type": "code",
   "execution_count": null,
   "id": "9351d19f-be96-498e-a0f0-071c733b5f45",
   "metadata": {},
   "outputs": [],
   "source": [
    "# evaluation\n"
   ]
  },
  {
   "cell_type": "code",
   "execution_count": null,
   "id": "7ead46db-f7ef-42ac-992d-ecf4079896af",
   "metadata": {},
   "outputs": [],
   "source": [
    "# Predict\n"
   ]
  },
  {
   "cell_type": "code",
   "execution_count": null,
   "id": "68b87318-c0d1-4df4-b8a6-a50122041984",
   "metadata": {},
   "outputs": [],
   "source": [
    "# Submission 생성\n"
   ]
  },
  {
   "cell_type": "markdown",
   "id": "66dd0bc1-a8f6-4cf1-b70c-650084492f76",
   "metadata": {},
   "source": [
    "### Hint."
   ]
  },
  {
   "cell_type": "markdown",
   "id": "2a250d55-721d-46be-b721-16742604e4dd",
   "metadata": {},
   "source": [
    "- Tab을 활용하면 해당 게열의 모델을 확인 할 수 있어요.\n",
    "- 모델 Import와 변수명만 바꾸면 쉽게 진행 할 수 있어요."
   ]
  },
  {
   "cell_type": "markdown",
   "id": "14bc4cbc-8923-48a7-83e3-45a2d5ba9076",
   "metadata": {
    "tags": []
   },
   "source": [
    "### Solution."
   ]
  },
  {
   "cell_type": "code",
   "execution_count": 15,
   "id": "4d59367b-c90a-4f57-957e-d8d745249075",
   "metadata": {},
   "outputs": [
    {
     "data": {
      "text/plain": [
       "RandomForestClassifier()"
      ]
     },
     "execution_count": 15,
     "metadata": {},
     "output_type": "execute_result"
    }
   ],
   "source": [
    "# RandomForestClassifier 예시\n",
    "\n",
    "# RandomForestClassifier Import\n",
    "from sklearn.ensemble import RandomForestClassifier\n",
    "\n",
    "# Train\n",
    "rf_model = RandomForestClassifier() # 모델 지정\n",
    "rf_model.fit(X_train,y_train) # 모델 학습"
   ]
  },
  {
   "cell_type": "code",
   "execution_count": 16,
   "id": "77e61667-0a5e-4c5e-ac12-629cde4dd137",
   "metadata": {},
   "outputs": [
    {
     "name": "stdout",
     "output_type": "stream",
     "text": [
      "accuracy_score :  0.6162761400856639\n",
      "log_loss :  1.0529320600122476\n"
     ]
    }
   ],
   "source": [
    "# evaluation\n",
    "\n",
    "from sklearn.metrics import accuracy_score, log_loss\n",
    "\n",
    "val_pred = rf_model.predict(X_valid) # validation 예측\n",
    "print('accuracy_score : ' ,accuracy_score(y_valid,val_pred))\n",
    "\n",
    "val_pred2 = rf_model.predict_proba(X_valid) # validation 확률 예측\n",
    "print('log_loss : ' ,log_loss(y_valid,val_pred2))"
   ]
  },
  {
   "cell_type": "code",
   "execution_count": 17,
   "id": "2b754e19-656e-4fee-bf70-25f0a34268b5",
   "metadata": {},
   "outputs": [
    {
     "data": {
      "text/html": [
       "<div>\n",
       "<style scoped>\n",
       "    .dataframe tbody tr th:only-of-type {\n",
       "        vertical-align: middle;\n",
       "    }\n",
       "\n",
       "    .dataframe tbody tr th {\n",
       "        vertical-align: top;\n",
       "    }\n",
       "\n",
       "    .dataframe thead th {\n",
       "        text-align: right;\n",
       "    }\n",
       "</style>\n",
       "<table border=\"1\" class=\"dataframe\">\n",
       "  <thead>\n",
       "    <tr style=\"text-align: right;\">\n",
       "      <th></th>\n",
       "      <th>index</th>\n",
       "      <th>0</th>\n",
       "      <th>1</th>\n",
       "      <th>2</th>\n",
       "    </tr>\n",
       "  </thead>\n",
       "  <tbody>\n",
       "    <tr>\n",
       "      <th>0</th>\n",
       "      <td>26457</td>\n",
       "      <td>0.18</td>\n",
       "      <td>0.26</td>\n",
       "      <td>0.56</td>\n",
       "    </tr>\n",
       "    <tr>\n",
       "      <th>1</th>\n",
       "      <td>26458</td>\n",
       "      <td>0.11</td>\n",
       "      <td>0.24</td>\n",
       "      <td>0.65</td>\n",
       "    </tr>\n",
       "    <tr>\n",
       "      <th>2</th>\n",
       "      <td>26459</td>\n",
       "      <td>0.08</td>\n",
       "      <td>0.25</td>\n",
       "      <td>0.67</td>\n",
       "    </tr>\n",
       "    <tr>\n",
       "      <th>3</th>\n",
       "      <td>26460</td>\n",
       "      <td>0.14</td>\n",
       "      <td>0.24</td>\n",
       "      <td>0.62</td>\n",
       "    </tr>\n",
       "    <tr>\n",
       "      <th>4</th>\n",
       "      <td>26461</td>\n",
       "      <td>0.18</td>\n",
       "      <td>0.33</td>\n",
       "      <td>0.49</td>\n",
       "    </tr>\n",
       "    <tr>\n",
       "      <th>...</th>\n",
       "      <td>...</td>\n",
       "      <td>...</td>\n",
       "      <td>...</td>\n",
       "      <td>...</td>\n",
       "    </tr>\n",
       "    <tr>\n",
       "      <th>9995</th>\n",
       "      <td>36452</td>\n",
       "      <td>0.11</td>\n",
       "      <td>0.36</td>\n",
       "      <td>0.53</td>\n",
       "    </tr>\n",
       "    <tr>\n",
       "      <th>9996</th>\n",
       "      <td>36453</td>\n",
       "      <td>0.19</td>\n",
       "      <td>0.49</td>\n",
       "      <td>0.32</td>\n",
       "    </tr>\n",
       "    <tr>\n",
       "      <th>9997</th>\n",
       "      <td>36454</td>\n",
       "      <td>0.11</td>\n",
       "      <td>0.24</td>\n",
       "      <td>0.65</td>\n",
       "    </tr>\n",
       "    <tr>\n",
       "      <th>9998</th>\n",
       "      <td>36455</td>\n",
       "      <td>0.11</td>\n",
       "      <td>0.33</td>\n",
       "      <td>0.56</td>\n",
       "    </tr>\n",
       "    <tr>\n",
       "      <th>9999</th>\n",
       "      <td>36456</td>\n",
       "      <td>0.09</td>\n",
       "      <td>0.39</td>\n",
       "      <td>0.52</td>\n",
       "    </tr>\n",
       "  </tbody>\n",
       "</table>\n",
       "<p>10000 rows × 4 columns</p>\n",
       "</div>"
      ],
      "text/plain": [
       "      index     0     1     2\n",
       "0     26457  0.18  0.26  0.56\n",
       "1     26458  0.11  0.24  0.65\n",
       "2     26459  0.08  0.25  0.67\n",
       "3     26460  0.14  0.24  0.62\n",
       "4     26461  0.18  0.33  0.49\n",
       "...     ...   ...   ...   ...\n",
       "9995  36452  0.11  0.36  0.53\n",
       "9996  36453  0.19  0.49  0.32\n",
       "9997  36454  0.11  0.24  0.65\n",
       "9998  36455  0.11  0.33  0.56\n",
       "9999  36456  0.09  0.39  0.52\n",
       "\n",
       "[10000 rows x 4 columns]"
      ]
     },
     "execution_count": 17,
     "metadata": {},
     "output_type": "execute_result"
    }
   ],
   "source": [
    "# Predict\n",
    "\n",
    "test_pred = rf_model.predict_proba(test) # test 예측\n",
    "submission.iloc[:,1:] = test_pred # DataFrame 생성\n",
    "submission"
   ]
  },
  {
   "cell_type": "code",
   "execution_count": null,
   "id": "3af8a2ce-1aff-4417-b480-c40731ac90e7",
   "metadata": {},
   "outputs": [],
   "source": [
    "# Submission 생성\n",
    "submission.to_csv('submission_RandomForestClassifier.csv')"
   ]
  },
  {
   "cell_type": "markdown",
   "id": "3b817fb1-d33a-48ef-8b64-db7be63082d1",
   "metadata": {},
   "source": [
    "# 3. Hyperparameter Tuning"
   ]
  },
  {
   "cell_type": "markdown",
   "id": "b6ea225f-8e7e-4920-86d5-345dc64dc837",
   "metadata": {},
   "source": [
    "앞선 내용을 통해 다양한 모델에 대해 알아보았다면, 이번에는 모델의 구성에 대해 알아보겠습니다.  \n",
    "\n",
    "**Hyperparameter**란 엔지니어가 직접 설정해 주어야 하는 변수값으로, 값을 어떻게 설정하느냐에 따라 모델의 성능을 개선시킬 수도, 저하시킬 수도 있습니다.  \n",
    "\n",
    "같은 모델이라도 모델을 구성하고 있는 **Hyperparameter**에 따라 모델 성능이 많이 달라질 수 있습니다.  "
   ]
  },
  {
   "cell_type": "markdown",
   "id": "86bcc6f2-27d2-4b97-9310-62ce5ca3eeac",
   "metadata": {},
   "source": [
    "### 3.1 Hyperparameter"
   ]
  },
  {
   "cell_type": "markdown",
   "id": "cfe9430c-d88b-4cc6-8b7c-5f9197e24cd5",
   "metadata": {},
   "source": [
    "먼저, 2.2에서 사용한 **DecisionTree**의 대표적인 **Hyperparameter** 몇 개만 알아보겠습니다.  \n",
    "다른 모델의 Hyperparameter가 궁금하면 구글링을 통해 알아보세요~"
   ]
  },
  {
   "cell_type": "markdown",
   "id": "b43b0b36-63ec-4b95-bcb6-e4122deb69c4",
   "metadata": {},
   "source": [
    "---\n",
    "DecisionTree의 대표적인 **Hyperparameter**는\n",
    "  \n",
    "\n",
    "> - max_depth : 트리의 최대 깊이\n",
    "> - min_samples_leaf : 리프노드가 되기 위해 필요한 최소한의 샘플 데이터 수\n",
    "> - min_samples_split : 노드를 분할하기 위해 최소한의 샘플 데이터 수\n",
    "\n",
    "\n",
    "이외에도 다양한 Hyperparameter가 존재합니다.\n",
    "\n",
    "---"
   ]
  },
  {
   "cell_type": "markdown",
   "id": "8da8709a-f7fc-49df-948d-51bffd3cb04b",
   "metadata": {},
   "source": [
    "그러면 3개의 Hyperparameter를 가지고 2.2 모델을 돌려보겠습니다.  \n",
    "Hyperparameter를 다음과 같이 설정하면\n",
    "\n",
    "> - max_depth : 10\n",
    "> - min_samples_leaf : 5\n",
    "> - min_samples_split : 5"
   ]
  },
  {
   "cell_type": "code",
   "execution_count": 18,
   "id": "8d6fef9c-ce79-407d-8e2e-6bc3218d2fca",
   "metadata": {},
   "outputs": [
    {
     "data": {
      "text/plain": [
       "DecisionTreeClassifier(max_depth=10, min_samples_leaf=5, min_samples_split=5)"
      ]
     },
     "execution_count": 18,
     "metadata": {},
     "output_type": "execute_result"
    }
   ],
   "source": [
    "# DecisionTreeClassifier 예시\n",
    "\n",
    "# DecisionTreeClassifier Import\n",
    "from sklearn.tree import DecisionTreeClassifier\n",
    "\n",
    "# Train\n",
    "dt_model = DecisionTreeClassifier(max_depth=10, min_samples_leaf=5, min_samples_split=5) # 모델 지정 + Hyperparameter 설정\n",
    "dt_model.fit(X_train,y_train) # 모델 학습"
   ]
  },
  {
   "cell_type": "code",
   "execution_count": 19,
   "id": "4f4e0fa6-018e-41ee-83d8-c793bad7d3c9",
   "metadata": {},
   "outputs": [
    {
     "name": "stdout",
     "output_type": "stream",
     "text": [
      "accuracy_score :  0.6201814058956916\n",
      "log_loss :  1.7549330560700716\n"
     ]
    }
   ],
   "source": [
    "# evaluation\n",
    "\n",
    "from sklearn.metrics import accuracy_score, log_loss\n",
    "\n",
    "val_pred = dt_model.predict(X_valid) # validation 예측\n",
    "print('accuracy_score : ' ,accuracy_score(y_valid,val_pred))\n",
    "\n",
    "val_pred2 = dt_model.predict_proba(X_valid) # validation 확률 예측\n",
    "print('log_loss : ' ,log_loss(y_valid,val_pred2))"
   ]
  },
  {
   "cell_type": "markdown",
   "id": "14489a3c-8913-4cdb-8934-483addd548cd",
   "metadata": {},
   "source": [
    "> 2.2에서 만든 DecisionTree 모델과 accuracy_score와 log_loss 점수가 바뀐 것을 확인할 수 있습니다."
   ]
  },
  {
   "cell_type": "code",
   "execution_count": 20,
   "id": "9ac297c0-c4cb-4990-b7c3-83c93c97e071",
   "metadata": {},
   "outputs": [
    {
     "data": {
      "text/html": [
       "<div>\n",
       "<style scoped>\n",
       "    .dataframe tbody tr th:only-of-type {\n",
       "        vertical-align: middle;\n",
       "    }\n",
       "\n",
       "    .dataframe tbody tr th {\n",
       "        vertical-align: top;\n",
       "    }\n",
       "\n",
       "    .dataframe thead th {\n",
       "        text-align: right;\n",
       "    }\n",
       "</style>\n",
       "<table border=\"1\" class=\"dataframe\">\n",
       "  <thead>\n",
       "    <tr style=\"text-align: right;\">\n",
       "      <th></th>\n",
       "      <th>index</th>\n",
       "      <th>0</th>\n",
       "      <th>1</th>\n",
       "      <th>2</th>\n",
       "    </tr>\n",
       "  </thead>\n",
       "  <tbody>\n",
       "    <tr>\n",
       "      <th>0</th>\n",
       "      <td>26457</td>\n",
       "      <td>0.142857</td>\n",
       "      <td>0.714286</td>\n",
       "      <td>0.142857</td>\n",
       "    </tr>\n",
       "    <tr>\n",
       "      <th>1</th>\n",
       "      <td>26458</td>\n",
       "      <td>0.000000</td>\n",
       "      <td>0.222222</td>\n",
       "      <td>0.777778</td>\n",
       "    </tr>\n",
       "    <tr>\n",
       "      <th>2</th>\n",
       "      <td>26459</td>\n",
       "      <td>0.000000</td>\n",
       "      <td>0.222222</td>\n",
       "      <td>0.777778</td>\n",
       "    </tr>\n",
       "    <tr>\n",
       "      <th>3</th>\n",
       "      <td>26460</td>\n",
       "      <td>0.142857</td>\n",
       "      <td>0.714286</td>\n",
       "      <td>0.142857</td>\n",
       "    </tr>\n",
       "    <tr>\n",
       "      <th>4</th>\n",
       "      <td>26461</td>\n",
       "      <td>0.134328</td>\n",
       "      <td>0.268657</td>\n",
       "      <td>0.597015</td>\n",
       "    </tr>\n",
       "    <tr>\n",
       "      <th>...</th>\n",
       "      <td>...</td>\n",
       "      <td>...</td>\n",
       "      <td>...</td>\n",
       "      <td>...</td>\n",
       "    </tr>\n",
       "    <tr>\n",
       "      <th>9995</th>\n",
       "      <td>36452</td>\n",
       "      <td>0.142857</td>\n",
       "      <td>0.714286</td>\n",
       "      <td>0.142857</td>\n",
       "    </tr>\n",
       "    <tr>\n",
       "      <th>9996</th>\n",
       "      <td>36453</td>\n",
       "      <td>0.111111</td>\n",
       "      <td>0.333333</td>\n",
       "      <td>0.555556</td>\n",
       "    </tr>\n",
       "    <tr>\n",
       "      <th>9997</th>\n",
       "      <td>36454</td>\n",
       "      <td>0.000000</td>\n",
       "      <td>0.222222</td>\n",
       "      <td>0.777778</td>\n",
       "    </tr>\n",
       "    <tr>\n",
       "      <th>9998</th>\n",
       "      <td>36455</td>\n",
       "      <td>0.142857</td>\n",
       "      <td>0.714286</td>\n",
       "      <td>0.142857</td>\n",
       "    </tr>\n",
       "    <tr>\n",
       "      <th>9999</th>\n",
       "      <td>36456</td>\n",
       "      <td>0.100000</td>\n",
       "      <td>0.200000</td>\n",
       "      <td>0.700000</td>\n",
       "    </tr>\n",
       "  </tbody>\n",
       "</table>\n",
       "<p>10000 rows × 4 columns</p>\n",
       "</div>"
      ],
      "text/plain": [
       "      index         0         1         2\n",
       "0     26457  0.142857  0.714286  0.142857\n",
       "1     26458  0.000000  0.222222  0.777778\n",
       "2     26459  0.000000  0.222222  0.777778\n",
       "3     26460  0.142857  0.714286  0.142857\n",
       "4     26461  0.134328  0.268657  0.597015\n",
       "...     ...       ...       ...       ...\n",
       "9995  36452  0.142857  0.714286  0.142857\n",
       "9996  36453  0.111111  0.333333  0.555556\n",
       "9997  36454  0.000000  0.222222  0.777778\n",
       "9998  36455  0.142857  0.714286  0.142857\n",
       "9999  36456  0.100000  0.200000  0.700000\n",
       "\n",
       "[10000 rows x 4 columns]"
      ]
     },
     "execution_count": 20,
     "metadata": {},
     "output_type": "execute_result"
    }
   ],
   "source": [
    "# Predict\n",
    "\n",
    "test_pred = dt_model.predict_proba(test) # test 예측\n",
    "submission.iloc[:,1:] = test_pred # DataFrame 생성\n",
    "submission"
   ]
  },
  {
   "cell_type": "code",
   "execution_count": null,
   "id": "ffea7adc-5cbf-4d7a-948b-1e0a7e514d66",
   "metadata": {},
   "outputs": [],
   "source": [
    "# Submission 생성\n",
    "submission.to_csv('submission_DecisionTreeClassifier_tuning.csv')"
   ]
  },
  {
   "cell_type": "markdown",
   "id": "0f9fcb98-2197-4a70-9f48-385af167d1ab",
   "metadata": {},
   "source": [
    "### 3.2 RandomSearch VS GridSearch"
   ]
  },
  {
   "cell_type": "markdown",
   "id": "a9198a00-6fcb-487a-86e6-eb542f20e3f1",
   "metadata": {},
   "source": [
    "3.1에서 확인한 것처럼 Hyperparameter에 따라 모델의 성능을 결정된다는 것을 알 수 있습니다.  \n",
    "문제를 해결하기 위해서는 데이터와 문제에 맞는 Hyperparameter를 설정 할 필요가 있습니다.  \n",
    "그러나 **Hyperparameter를 사람이 일일히 설정 할 수 없으니** 최적의 Hyperparameter 찾아주는 <font color=\"green\">**RandomSearch**</font>와 <font color=\"coral\">**GridSearch**</font>에 대해 알아보겠습니다.\n",
    "\n",
    "\n",
    "---"
   ]
  },
  {
   "cell_type": "markdown",
   "id": "e2cd69d6-9c7a-4148-8841-3bb9becb95e6",
   "metadata": {},
   "source": [
    "<p align=\"center\"><img src='https://velog.velcdn.com/images%2Fcrosstar1228%2Fpost%2F86ed2303-4861-4f30-8738-1ada436b4e32%2Fimage.png' width=\"800\" height =\"500\" align=\"center\" /></p><br>\n",
    "<p style='text-align: right;'> 출처 : 데이터리안 </p>"
   ]
  },
  {
   "cell_type": "markdown",
   "id": "f1cc7ed4-8610-48d5-a656-f5bb9996a68e",
   "metadata": {},
   "source": [
    "**GridSearch란**\n",
    "> - 간단하고 광범위하게 사용되는 hyperparameter 탐색 알고리즘입니다\n",
    "> - 해당 범위 및 Step의 모든 경우의 수를 탐색한다\n",
    "> - 범위를 넓게 가져갈수록, Step을 작게 설정할 수록 최적해를 찾을 가능성이 높이지지만 시간이 오래 걸립니다\n",
    "> - 일반적으로 넓은 범위와 큰 Step으로 설정한 후 범위를 좁혀 나가는 방식을 사용하여 시간을 단축한다\n",
    ">> **parameters**\n",
    ">> - estimator : 측정에 이용되는 model\n",
    ">> - param_grid : gridsearch에 사용되는 search space\n",
    ">> - scoring : 성능 측정 metric. 'accuracy', 'roc_auc', 'r2', 'neg_mean_squared_error' 등\n",
    ">> - n_jobs : gridsearch 시, multicore processor일 경우 병렬처리할 횟수\n",
    ">> - cv : cross-validation 시 fold 수\n",
    "---"
   ]
  },
  {
   "cell_type": "markdown",
   "id": "e518df43-b0d8-4235-b5c4-dee88e1f96af",
   "metadata": {},
   "source": [
    "**RandomSearch란**\n",
    "> - 정해진 범위 내에서 Random하게 선택합니다\n",
    "> - 기본적으로는 더 빠르고 효율적이기 때문에 GridSearch보다 권장되는 방법이다\n",
    "> - Grid Serach보다 속도가 빠르지만 optimzed solution이 아닐 수 있습니다\n",
    "> - Sample의 수가 많다면 Random Sampling을 통해 최적해를 찾을 가능성이 높아진다\n",
    ">>**parameters**\n",
    ">> - gridsearch와 겹치는 paramter 생략\n",
    ">> - n_iter : random하게 골라지는 hyperpareter 조합의 수를 특정\n",
    ">> - random_state : random 변수 생성 시 seed 값\n",
    "\n",
    "---"
   ]
  },
  {
   "cell_type": "markdown",
   "id": "72d0fec7-1755-43ee-9966-928f0c6d77b2",
   "metadata": {},
   "source": [
    "3.1에서 진행한 DecisionTree에 **GridSearch**를 이용해보겠습니다."
   ]
  },
  {
   "cell_type": "code",
   "execution_count": 5,
   "id": "61aae8e0-86ed-4a57-9066-1f36a5648203",
   "metadata": {},
   "outputs": [],
   "source": [
    "# GridSearchCV 예시\n",
    "\n",
    "# GridSearchCV Import\n",
    "from sklearn.model_selection import GridSearchCV\n",
    "\n",
    "# parameter setting\n",
    "\n",
    "params ={\n",
    "    'max_depth' : [6,8,10,12],\n",
    "    'min_samples_leaf' : [8,12,18],\n",
    "    'min_samples_split' : [8,12,18]\n",
    "}"
   ]
  },
  {
   "cell_type": "code",
   "execution_count": 11,
   "id": "931ce8fe-b040-4244-950a-9276613bcf44",
   "metadata": {},
   "outputs": [
    {
     "data": {
      "text/plain": [
       "GridSearchCV(cv=2, estimator=DecisionTreeClassifier(), n_jobs=1,\n",
       "             param_grid={'max_depth': [6, 8, 10, 12],\n",
       "                         'min_samples_leaf': [8, 12, 18],\n",
       "                         'min_samples_split': [8, 12, 18]},\n",
       "             scoring=make_scorer(log_loss, greater_is_better=False, needs_proba=True))"
      ]
     },
     "execution_count": 11,
     "metadata": {},
     "output_type": "execute_result"
    }
   ],
   "source": [
    "# DecisionTreeClassifier Import\n",
    "from sklearn.tree import DecisionTreeClassifier\n",
    "from sklearn.metrics import log_loss, make_scorer\n",
    "\n",
    "\n",
    "# GridSearchCV 진행\n",
    "dt_clf = DecisionTreeClassifier()\n",
    "\n",
    "# GridSearchCV에서 Logloss가 작동하지 않아서 설정\n",
    "LogLoss = make_scorer(log_loss, greater_is_better=False, needs_proba=True)\n",
    "grid_cv = GridSearchCV(dt_clf, param_grid=params, cv=2,n_jobs=1,scoring=LogLoss)\n",
    "grid_cv.fit(X_train,y_train)"
   ]
  },
  {
   "cell_type": "code",
   "execution_count": 13,
   "id": "f8ed7692-ebae-4b02-91e3-dbda3dad0023",
   "metadata": {},
   "outputs": [
    {
     "name": "stdout",
     "output_type": "stream",
     "text": [
      "최적 hyperpareter :\n",
      "  {'max_depth': 6, 'min_samples_leaf': 18, 'min_samples_split': 12}\n",
      "최고 logloss score  0.926\n"
     ]
    }
   ],
   "source": [
    "# GridSearchCV 결과 확인\n",
    "print('최적 hyperpareter :\\n ',grid_cv.best_params_) # Best hyperpareter 확인\n",
    "print(f'최고 logloss score ',-round(grid_cv.best_score_,4)) # Best Score 확인"
   ]
  },
  {
   "cell_type": "markdown",
   "id": "c1bcc454-8bc3-4454-9b52-12fd9d163155",
   "metadata": {},
   "source": [
    "> 최적의 Parameter를 가지고 새로운 DecisionTree를 만들어 보겠습니다"
   ]
  },
  {
   "cell_type": "code",
   "execution_count": 24,
   "id": "d78267c4-f924-48d0-89d6-5b87e751bb6b",
   "metadata": {},
   "outputs": [
    {
     "data": {
      "text/plain": [
       "DecisionTreeClassifier(max_depth=12, min_samples_leaf=18, min_samples_split=18)"
      ]
     },
     "execution_count": 24,
     "metadata": {},
     "output_type": "execute_result"
    }
   ],
   "source": [
    "# Train\n",
    "dt_model = DecisionTreeClassifier( max_depth=12, min_samples_leaf=18, min_samples_split=18) # 모델 지정 + Hyperparameter 설정\n",
    "dt_model.fit(X_train,y_train) # 모델 학습"
   ]
  },
  {
   "cell_type": "code",
   "execution_count": 25,
   "id": "77a99bd1-928f-4fc3-9206-2d302656569b",
   "metadata": {},
   "outputs": [
    {
     "name": "stdout",
     "output_type": "stream",
     "text": [
      "accuracy_score :  0.618291761148904\n",
      "log_loss :  1.2278119782789445\n"
     ]
    }
   ],
   "source": [
    "# evaluation\n",
    "\n",
    "from sklearn.metrics import accuracy_score, log_loss\n",
    "\n",
    "val_pred = dt_model.predict(X_valid) # validation 예측\n",
    "print('accuracy_score : ' ,accuracy_score(y_valid,val_pred))\n",
    "\n",
    "val_pred2 = dt_model.predict_proba(X_valid) # validation 확률 예측\n",
    "print('log_loss : ' ,log_loss(y_valid,val_pred2))"
   ]
  },
  {
   "cell_type": "markdown",
   "id": "8837f186-c65b-48b9-8d8e-9b218db8f07c",
   "metadata": {},
   "source": [
    "> 3.1에서 만든 DecisionTree 모델과 accuracy_score와 log_loss 점수가 바뀐 것을 확인할 수 있습니다."
   ]
  },
  {
   "cell_type": "code",
   "execution_count": 26,
   "id": "559189a3-1c1c-48d6-acc1-d1c0153df4af",
   "metadata": {},
   "outputs": [
    {
     "data": {
      "text/html": [
       "<div>\n",
       "<style scoped>\n",
       "    .dataframe tbody tr th:only-of-type {\n",
       "        vertical-align: middle;\n",
       "    }\n",
       "\n",
       "    .dataframe tbody tr th {\n",
       "        vertical-align: top;\n",
       "    }\n",
       "\n",
       "    .dataframe thead th {\n",
       "        text-align: right;\n",
       "    }\n",
       "</style>\n",
       "<table border=\"1\" class=\"dataframe\">\n",
       "  <thead>\n",
       "    <tr style=\"text-align: right;\">\n",
       "      <th></th>\n",
       "      <th>index</th>\n",
       "      <th>0</th>\n",
       "      <th>1</th>\n",
       "      <th>2</th>\n",
       "    </tr>\n",
       "  </thead>\n",
       "  <tbody>\n",
       "    <tr>\n",
       "      <th>0</th>\n",
       "      <td>26457</td>\n",
       "      <td>0.047619</td>\n",
       "      <td>0.476190</td>\n",
       "      <td>0.476190</td>\n",
       "    </tr>\n",
       "    <tr>\n",
       "      <th>1</th>\n",
       "      <td>26458</td>\n",
       "      <td>0.047619</td>\n",
       "      <td>0.476190</td>\n",
       "      <td>0.476190</td>\n",
       "    </tr>\n",
       "    <tr>\n",
       "      <th>2</th>\n",
       "      <td>26459</td>\n",
       "      <td>0.047619</td>\n",
       "      <td>0.476190</td>\n",
       "      <td>0.476190</td>\n",
       "    </tr>\n",
       "    <tr>\n",
       "      <th>3</th>\n",
       "      <td>26460</td>\n",
       "      <td>0.047619</td>\n",
       "      <td>0.476190</td>\n",
       "      <td>0.476190</td>\n",
       "    </tr>\n",
       "    <tr>\n",
       "      <th>4</th>\n",
       "      <td>26461</td>\n",
       "      <td>0.080000</td>\n",
       "      <td>0.320000</td>\n",
       "      <td>0.600000</td>\n",
       "    </tr>\n",
       "    <tr>\n",
       "      <th>...</th>\n",
       "      <td>...</td>\n",
       "      <td>...</td>\n",
       "      <td>...</td>\n",
       "      <td>...</td>\n",
       "    </tr>\n",
       "    <tr>\n",
       "      <th>9995</th>\n",
       "      <td>36452</td>\n",
       "      <td>0.047619</td>\n",
       "      <td>0.476190</td>\n",
       "      <td>0.476190</td>\n",
       "    </tr>\n",
       "    <tr>\n",
       "      <th>9996</th>\n",
       "      <td>36453</td>\n",
       "      <td>0.111111</td>\n",
       "      <td>0.222222</td>\n",
       "      <td>0.666667</td>\n",
       "    </tr>\n",
       "    <tr>\n",
       "      <th>9997</th>\n",
       "      <td>36454</td>\n",
       "      <td>0.047619</td>\n",
       "      <td>0.476190</td>\n",
       "      <td>0.476190</td>\n",
       "    </tr>\n",
       "    <tr>\n",
       "      <th>9998</th>\n",
       "      <td>36455</td>\n",
       "      <td>0.047619</td>\n",
       "      <td>0.476190</td>\n",
       "      <td>0.476190</td>\n",
       "    </tr>\n",
       "    <tr>\n",
       "      <th>9999</th>\n",
       "      <td>36456</td>\n",
       "      <td>0.150000</td>\n",
       "      <td>0.350000</td>\n",
       "      <td>0.500000</td>\n",
       "    </tr>\n",
       "  </tbody>\n",
       "</table>\n",
       "<p>10000 rows × 4 columns</p>\n",
       "</div>"
      ],
      "text/plain": [
       "      index         0         1         2\n",
       "0     26457  0.047619  0.476190  0.476190\n",
       "1     26458  0.047619  0.476190  0.476190\n",
       "2     26459  0.047619  0.476190  0.476190\n",
       "3     26460  0.047619  0.476190  0.476190\n",
       "4     26461  0.080000  0.320000  0.600000\n",
       "...     ...       ...       ...       ...\n",
       "9995  36452  0.047619  0.476190  0.476190\n",
       "9996  36453  0.111111  0.222222  0.666667\n",
       "9997  36454  0.047619  0.476190  0.476190\n",
       "9998  36455  0.047619  0.476190  0.476190\n",
       "9999  36456  0.150000  0.350000  0.500000\n",
       "\n",
       "[10000 rows x 4 columns]"
      ]
     },
     "execution_count": 26,
     "metadata": {},
     "output_type": "execute_result"
    }
   ],
   "source": [
    "# Predict\n",
    "\n",
    "test_pred = dt_model.predict_proba(test) # test 예측\n",
    "submission.iloc[:,1:] = test_pred # DataFrame 생성\n",
    "submission"
   ]
  },
  {
   "cell_type": "code",
   "execution_count": null,
   "id": "15057e31-2e52-4641-b85a-8487cb6b97b0",
   "metadata": {},
   "outputs": [],
   "source": [
    "# Submission 생성\n",
    "submission.to_csv('submission_DecisionTreeClassifier_tunning.csv')"
   ]
  },
  {
   "cell_type": "markdown",
   "id": "c308e79c-3f45-48d8-a589-f1cbba486b07",
   "metadata": {
    "tags": []
   },
   "source": [
    "### Inst.\n",
    "\n",
    "- 2.5에서 사용한 모델을 가지고 RandomSearch를 진행하세요.\n",
    "- GridSearch에 없는 파라미터를 사용하세요\n",
    "- evaluation 점수를 확인하세요.\n",
    "- 대회에 Submission을 제출해 보세요."
   ]
  },
  {
   "cell_type": "code",
   "execution_count": null,
   "id": "ebeda241-d558-4180-a861-d9640d3411cf",
   "metadata": {},
   "outputs": [],
   "source": [
    "# 모델 Import\n",
    "\n",
    "# Train\n"
   ]
  },
  {
   "cell_type": "code",
   "execution_count": null,
   "id": "3604969e-e6a7-4089-9cb7-0ab8e2763e5d",
   "metadata": {},
   "outputs": [],
   "source": [
    "# evaluation\n"
   ]
  },
  {
   "cell_type": "code",
   "execution_count": null,
   "id": "755315b6-8902-4b9c-aeaa-bfb7ac9c0e1d",
   "metadata": {},
   "outputs": [],
   "source": [
    "# Predict\n"
   ]
  },
  {
   "cell_type": "code",
   "execution_count": null,
   "id": "fd0914e2-59fe-4a36-9bd2-73d108a579d9",
   "metadata": {},
   "outputs": [],
   "source": [
    "# Submission 생성\n"
   ]
  },
  {
   "cell_type": "markdown",
   "id": "dea4b296-42c5-4f70-b4ea-2ead224167e5",
   "metadata": {},
   "source": [
    "### Hint."
   ]
  },
  {
   "cell_type": "markdown",
   "id": "bd6ffedc-294e-4b85-87bb-225199c6479a",
   "metadata": {},
   "source": [
    "- RandomizedSearchCV를 Import 해보세요."
   ]
  },
  {
   "cell_type": "markdown",
   "id": "43d27d45-408a-4f51-970c-01f6acb7d6b5",
   "metadata": {
    "tags": []
   },
   "source": [
    "### Solution."
   ]
  },
  {
   "cell_type": "code",
   "execution_count": 29,
   "id": "09ec70f3-e6b8-4f0d-bcd2-6f8d682d9501",
   "metadata": {},
   "outputs": [],
   "source": [
    "# GridSearchCV 예시\n",
    "\n",
    "# GridSearchCV Import\n",
    "from sklearn.model_selection import RandomizedSearchCV\n",
    "\n",
    "# parameter setting\n",
    "\n",
    "params ={\n",
    "    'n_estimators' : range(10,50),\n",
    "    'max_depth' : (6,18),\n",
    "    'min_samples_leaf' : (8,18),\n",
    "    'min_samples_split' : (8,18)\n",
    "}"
   ]
  },
  {
   "cell_type": "code",
   "execution_count": 30,
   "id": "b7ee4468-ff2f-4915-90c4-ed78cb18233c",
   "metadata": {},
   "outputs": [
    {
     "data": {
      "text/plain": [
       "RandomizedSearchCV(cv=2, estimator=RandomForestClassifier(), n_jobs=1,\n",
       "                   param_distributions={'max_depth': (6, 18),\n",
       "                                        'min_samples_leaf': (8, 18),\n",
       "                                        'min_samples_split': (8, 18),\n",
       "                                        'n_estimators': range(10, 50)})"
      ]
     },
     "execution_count": 30,
     "metadata": {},
     "output_type": "execute_result"
    }
   ],
   "source": [
    "# RandomForestClassifier Import\n",
    "from sklearn.ensemble import RandomForestClassifier\n",
    "\n",
    "# GridSearchCV 진행\n",
    "rf_clf = RandomForestClassifier()\n",
    "grid_cv = RandomizedSearchCV(rf_clf, param_distributions=params, cv=2,n_jobs=1)\n",
    "grid_cv.fit(X_train,y_train)"
   ]
  },
  {
   "cell_type": "code",
   "execution_count": 31,
   "id": "cad89e10-f0c6-4a13-a713-aec4a0684f15",
   "metadata": {},
   "outputs": [
    {
     "name": "stdout",
     "output_type": "stream",
     "text": [
      "최적 hyperpareter :\n",
      "  {'n_estimators': 27, 'min_samples_split': 8, 'min_samples_leaf': 18, 'max_depth': 6}\n",
      "최고 accuracy score  0.6429\n"
     ]
    }
   ],
   "source": [
    "# GridSearchCV 결과 확인\n",
    "print('최적 hyperpareter :\\n ',grid_cv.best_params_) # Best hyperpareter 확인\n",
    "print(f'최고 accuracy score ',round(grid_cv.best_score_,4)) # Best Score 확인"
   ]
  },
  {
   "cell_type": "markdown",
   "id": "1c4cc209-5ff0-44f8-934b-045642494679",
   "metadata": {},
   "source": [
    "> 최적의 Parameter를 가지고 새로운 RandomForest를 만들어 보겠습니다"
   ]
  },
  {
   "cell_type": "code",
   "execution_count": 32,
   "id": "d04b063a-dfff-4679-ae2e-39d96b6d2591",
   "metadata": {},
   "outputs": [
    {
     "data": {
      "text/plain": [
       "RandomForestClassifier(max_depth=12, min_samples_leaf=18, min_samples_split=18,\n",
       "                       n_estimators=10)"
      ]
     },
     "execution_count": 32,
     "metadata": {},
     "output_type": "execute_result"
    }
   ],
   "source": [
    "# Train\n",
    "rf_model = RandomForestClassifier(n_estimators=10, max_depth=12, min_samples_leaf=18, min_samples_split=18) # 모델 지정 + Hyperparameter 설정\n",
    "rf_model.fit(X_train,y_train) # 모델 학습"
   ]
  },
  {
   "cell_type": "code",
   "execution_count": 33,
   "id": "2ada3a2c-c6a0-4842-bf46-0d568dba85de",
   "metadata": {},
   "outputs": [
    {
     "name": "stdout",
     "output_type": "stream",
     "text": [
      "accuracy_score :  0.6388259007306626\n",
      "log_loss :  0.8637965105943957\n"
     ]
    }
   ],
   "source": [
    "# evaluation\n",
    "\n",
    "from sklearn.metrics import accuracy_score, log_loss\n",
    "\n",
    "val_pred = rf_model.predict(X_valid) # validation 예측\n",
    "print('accuracy_score : ' ,accuracy_score(y_valid,val_pred))\n",
    "\n",
    "val_pred2 = rf_model.predict_proba(X_valid) # validation 확률 예측\n",
    "print('log_loss : ' ,log_loss(y_valid,val_pred2))"
   ]
  },
  {
   "cell_type": "markdown",
   "id": "e254ccae-fd2e-4adc-bbee-6b447d3602d9",
   "metadata": {},
   "source": [
    "> 3.1에서 만든 RandomForest 모델과 accuracy_score와 log_loss 점수가 바뀐 것을 확인할 수 있습니다."
   ]
  },
  {
   "cell_type": "code",
   "execution_count": 34,
   "id": "ac2fe9b0-5339-4d03-81ab-7d058d4f21c7",
   "metadata": {},
   "outputs": [
    {
     "data": {
      "text/html": [
       "<div>\n",
       "<style scoped>\n",
       "    .dataframe tbody tr th:only-of-type {\n",
       "        vertical-align: middle;\n",
       "    }\n",
       "\n",
       "    .dataframe tbody tr th {\n",
       "        vertical-align: top;\n",
       "    }\n",
       "\n",
       "    .dataframe thead th {\n",
       "        text-align: right;\n",
       "    }\n",
       "</style>\n",
       "<table border=\"1\" class=\"dataframe\">\n",
       "  <thead>\n",
       "    <tr style=\"text-align: right;\">\n",
       "      <th></th>\n",
       "      <th>index</th>\n",
       "      <th>0</th>\n",
       "      <th>1</th>\n",
       "      <th>2</th>\n",
       "    </tr>\n",
       "  </thead>\n",
       "  <tbody>\n",
       "    <tr>\n",
       "      <th>0</th>\n",
       "      <td>26457</td>\n",
       "      <td>0.103873</td>\n",
       "      <td>0.240535</td>\n",
       "      <td>0.655592</td>\n",
       "    </tr>\n",
       "    <tr>\n",
       "      <th>1</th>\n",
       "      <td>26458</td>\n",
       "      <td>0.136408</td>\n",
       "      <td>0.266931</td>\n",
       "      <td>0.596661</td>\n",
       "    </tr>\n",
       "    <tr>\n",
       "      <th>2</th>\n",
       "      <td>26459</td>\n",
       "      <td>0.106960</td>\n",
       "      <td>0.271898</td>\n",
       "      <td>0.621142</td>\n",
       "    </tr>\n",
       "    <tr>\n",
       "      <th>3</th>\n",
       "      <td>26460</td>\n",
       "      <td>0.128726</td>\n",
       "      <td>0.212287</td>\n",
       "      <td>0.658987</td>\n",
       "    </tr>\n",
       "    <tr>\n",
       "      <th>4</th>\n",
       "      <td>26461</td>\n",
       "      <td>0.117285</td>\n",
       "      <td>0.407585</td>\n",
       "      <td>0.475130</td>\n",
       "    </tr>\n",
       "    <tr>\n",
       "      <th>...</th>\n",
       "      <td>...</td>\n",
       "      <td>...</td>\n",
       "      <td>...</td>\n",
       "      <td>...</td>\n",
       "    </tr>\n",
       "    <tr>\n",
       "      <th>9995</th>\n",
       "      <td>36452</td>\n",
       "      <td>0.100494</td>\n",
       "      <td>0.255036</td>\n",
       "      <td>0.644470</td>\n",
       "    </tr>\n",
       "    <tr>\n",
       "      <th>9996</th>\n",
       "      <td>36453</td>\n",
       "      <td>0.044455</td>\n",
       "      <td>0.387659</td>\n",
       "      <td>0.567886</td>\n",
       "    </tr>\n",
       "    <tr>\n",
       "      <th>9997</th>\n",
       "      <td>36454</td>\n",
       "      <td>0.093706</td>\n",
       "      <td>0.204180</td>\n",
       "      <td>0.702114</td>\n",
       "    </tr>\n",
       "    <tr>\n",
       "      <th>9998</th>\n",
       "      <td>36455</td>\n",
       "      <td>0.093758</td>\n",
       "      <td>0.286040</td>\n",
       "      <td>0.620203</td>\n",
       "    </tr>\n",
       "    <tr>\n",
       "      <th>9999</th>\n",
       "      <td>36456</td>\n",
       "      <td>0.083307</td>\n",
       "      <td>0.386884</td>\n",
       "      <td>0.529809</td>\n",
       "    </tr>\n",
       "  </tbody>\n",
       "</table>\n",
       "<p>10000 rows × 4 columns</p>\n",
       "</div>"
      ],
      "text/plain": [
       "      index         0         1         2\n",
       "0     26457  0.103873  0.240535  0.655592\n",
       "1     26458  0.136408  0.266931  0.596661\n",
       "2     26459  0.106960  0.271898  0.621142\n",
       "3     26460  0.128726  0.212287  0.658987\n",
       "4     26461  0.117285  0.407585  0.475130\n",
       "...     ...       ...       ...       ...\n",
       "9995  36452  0.100494  0.255036  0.644470\n",
       "9996  36453  0.044455  0.387659  0.567886\n",
       "9997  36454  0.093706  0.204180  0.702114\n",
       "9998  36455  0.093758  0.286040  0.620203\n",
       "9999  36456  0.083307  0.386884  0.529809\n",
       "\n",
       "[10000 rows x 4 columns]"
      ]
     },
     "execution_count": 34,
     "metadata": {},
     "output_type": "execute_result"
    }
   ],
   "source": [
    "# Predict\n",
    "\n",
    "test_pred = rf_model.predict_proba(test) # test 예측\n",
    "submission.iloc[:,1:] = test_pred # DataFrame 생성\n",
    "submission"
   ]
  },
  {
   "cell_type": "code",
   "execution_count": null,
   "id": "b722fb43-2268-47ba-87e7-caa2b752699f",
   "metadata": {},
   "outputs": [],
   "source": [
    "# Submission 생성\n",
    "submission.to_csv('submission_RandomForestClassifier_tunning.csv')"
   ]
  },
  {
   "cell_type": "markdown",
   "id": "2d2d37c4-8fa3-4132-beee-1b502a75d2cc",
   "metadata": {},
   "source": [
    "# 4. EDA"
   ]
  },
  {
   "cell_type": "markdown",
   "id": "b1d3c4ca-3dcb-4636-8b50-0e9820e7e8f0",
   "metadata": {},
   "source": [
    "EDA는 수집한 데이터가 들어왔을 때, 이를 다양한 각도에서 관찰하고 이해하는 과정으로, 데이터를 분석하기 전에 그래프나 통계적인 방법으로 자료를 직관적으로 바라보는 과정을 말합니다.  \n",
    "\n",
    "EDA를 진행하는 이유는 크게 2가지를 들수 있습니다.\n",
    "\n",
    "\n",
    "> 1. 데이터의 분포 및 값을 검토함으로써 데이터가 표현하는 현상을 더 잘 이해하고, 데이터에 대한 잠재적인 문제를 발견할 수 있습니다.   \n",
    "이를 통해, 본격적인 분석에 들어가기에 앞서 데이터의 수집을 결정할 수 있습니다.\n",
    "\n",
    "\n",
    "> 2. 다양한 각도에서 살펴보는 과정을 통해 문제 정의 단계에서 미쳐 발생하지 못했을 다양한 패턴을 발견하고, 이를 바탕으로 기존의 가설을 수정하거나 새로운 가설을 세울 수 있습니다."
   ]
  },
  {
   "cell_type": "markdown",
   "id": "4ffc185d-dbea-4d60-a54f-b24a9f1155a6",
   "metadata": {},
   "source": [
    "지금부터는 데이터를 가지고 4개의 EDA를 진행해 보겠습니다!!  \n",
    "EDA는 여러 방법과 관점에서 정말 다양하게 결과가 도출되므로 많이 경험해 보시는 걸 추천합니다. 😘😘"
   ]
  },
  {
   "cell_type": "markdown",
   "id": "a2d3a962-f2cd-45c6-bbea-eafad76c5f56",
   "metadata": {},
   "source": [
    "먼저 EDA를 시작하기 전에 데이터를 다시 불러와주겠습니다."
   ]
  },
  {
   "cell_type": "code",
   "execution_count": 42,
   "id": "6a6c744c-89bf-474d-89cb-8fac74cdea28",
   "metadata": {},
   "outputs": [],
   "source": [
    "# pandas 불러오기\n",
    "import pandas as pd\n",
    "\n",
    "#train 데이터 불러오기\n",
    "df = pd.read_csv('train.csv')"
   ]
  },
  {
   "cell_type": "code",
   "execution_count": 43,
   "id": "73414782-b36b-444c-b3d9-1c170d0952eb",
   "metadata": {},
   "outputs": [],
   "source": [
    "# 시각화에서 가장 많이 쓰는 두가지 패키지\n",
    "import matplotlib.pyplot as plt\n",
    "import seaborn as sns"
   ]
  },
  {
   "cell_type": "markdown",
   "id": "efa88842-2b54-4302-989e-efecc40ad7c1",
   "metadata": {},
   "source": [
    "matplotlib에서는 한글이 출력되지 않아 아래의 코드를 실행해주어야 합니다."
   ]
  },
  {
   "cell_type": "code",
   "execution_count": 44,
   "id": "6d9e5202-6ad4-41f1-a887-2b9fde30d474",
   "metadata": {},
   "outputs": [],
   "source": [
    "# matplotlib 한글 폰트 출력코드\n",
    "import matplotlib\n",
    "from matplotlib import font_manager, rc\n",
    "import platform\n",
    "\n",
    "try : \n",
    "    if platform.system() == 'Windows':\n",
    "    # 윈도우인 경우\n",
    "        font_name = font_manager.FontProperties(fname=\"c:/Windows/Fonts/malgun.ttf\").get_name()\n",
    "        rc('font', family=font_name)\n",
    "    else:    \n",
    "    # Mac 인 경우\n",
    "        rc('font', family='AppleGothic')\n",
    "except : \n",
    "    pass\n",
    "matplotlib.rcParams['axes.unicode_minus'] = False"
   ]
  },
  {
   "cell_type": "markdown",
   "id": "aa001e95-503d-4765-b546-d854b85521c1",
   "metadata": {
    "tags": []
   },
   "source": [
    "### 4.1 Pie Chart"
   ]
  },
  {
   "cell_type": "markdown",
   "id": "13ace22d-f321-4768-864c-978f72a3097e",
   "metadata": {},
   "source": [
    "첫번째도 해볼 Chart는 **Pie Chart**입니다.  \n",
    "Pie Chart는 둥근란 형태로 데이터를 시각화해줍니다.  \n",
    "주로 `퍼센트`, `비율`과 같은 데이터를 표현할 때 사용합니다.  \n",
    "성별을 가지고 Pie Chart를 만들어 봅시다."
   ]
  },
  {
   "cell_type": "code",
   "execution_count": 45,
   "id": "68d5e0af-d6a1-484b-bbd5-d51e4078b069",
   "metadata": {},
   "outputs": [
    {
     "data": {
      "text/plain": [
       "gender\n",
       "F    17697\n",
       "M     8760\n",
       "Name: index, dtype: int64"
      ]
     },
     "execution_count": 45,
     "metadata": {},
     "output_type": "execute_result"
    }
   ],
   "source": [
    "df1= df.groupby('gender').count()['index'] # grouby 함수를 사용하여 데이터 생성\n",
    "df1"
   ]
  },
  {
   "cell_type": "markdown",
   "id": "d1966cab-63b8-4370-a362-3196121f4450",
   "metadata": {},
   "source": [
    "> 여자가 17697명 남자가 8760명인 것을 알 수 있습니다.   \n",
    "> 이것을 Pie Chart로 시각화 해볼까요?"
   ]
  },
  {
   "cell_type": "code",
   "execution_count": 46,
   "id": "6d9daa0f-c632-4b22-a1e4-383984d0a086",
   "metadata": {},
   "outputs": [
    {
     "data": {
      "image/png": "[encoded data removed]",
      "text/plain": [
       "<Figure size 500x500 with 1 Axes>"
      ]
     },
     "metadata": {},
     "output_type": "display_data"
    }
   ],
   "source": [
    "fig = plt.figure(figsize=(5,5)) ## 캔버스 생성\n",
    "fig.set_facecolor('white') # 배경색 설정\n",
    "\n",
    "plt.pie(df1, labels=df1.index,colors=['goldenrod','burlywood'], startangle=180,autopct='%1.1f%%',wedgeprops = {'edgecolor':'k','linestyle':'--','linewidth':2})\n",
    "# plt.pie(데이터 , 라벨, 색갈, 시작 각도, 소수점,디자인)\n",
    "\n",
    "plt.title('Gender distribution') # Chart 제목\n",
    "plt.show()"
   ]
  },
  {
   "cell_type": "markdown",
   "id": "efa55c90-0dc4-4981-8b46-70e25ddb958d",
   "metadata": {},
   "source": [
    "### 4.2 Hist"
   ]
  },
  {
   "cell_type": "markdown",
   "id": "9bec59b0-0cd4-4f27-b210-5a7e2870500b",
   "metadata": {},
   "source": [
    "두번째로 해볼 Chart는 **Hist Chart**입니다.  \n",
    "Hist Chart는 히스토그램을 표현하는 Chart로 주로 연속된 수를 범주로 나누어 보여줍니다.  \n",
    "나이를 가지고 Hist Chart를 만들어보겠습니다.  "
   ]
  },
  {
   "cell_type": "code",
   "execution_count": 47,
   "id": "118fcb43-0497-4a5f-96ab-ff7a67735a30",
   "metadata": {},
   "outputs": [
    {
     "data": {
      "text/html": [
       "<div>\n",
       "<style scoped>\n",
       "    .dataframe tbody tr th:only-of-type {\n",
       "        vertical-align: middle;\n",
       "    }\n",
       "\n",
       "    .dataframe tbody tr th {\n",
       "        vertical-align: top;\n",
       "    }\n",
       "\n",
       "    .dataframe thead th {\n",
       "        text-align: right;\n",
       "    }\n",
       "</style>\n",
       "<table border=\"1\" class=\"dataframe\">\n",
       "  <thead>\n",
       "    <tr style=\"text-align: right;\">\n",
       "      <th></th>\n",
       "      <th>index</th>\n",
       "      <th>gender</th>\n",
       "      <th>car</th>\n",
       "      <th>reality</th>\n",
       "      <th>child_num</th>\n",
       "      <th>income_total</th>\n",
       "      <th>income_type</th>\n",
       "      <th>edu_type</th>\n",
       "      <th>family_type</th>\n",
       "      <th>house_type</th>\n",
       "      <th>...</th>\n",
       "      <th>DAYS_EMPLOYED</th>\n",
       "      <th>FLAG_MOBIL</th>\n",
       "      <th>work_phone</th>\n",
       "      <th>phone</th>\n",
       "      <th>email</th>\n",
       "      <th>occyp_type</th>\n",
       "      <th>family_size</th>\n",
       "      <th>begin_month</th>\n",
       "      <th>credit</th>\n",
       "      <th>new_age</th>\n",
       "    </tr>\n",
       "  </thead>\n",
       "  <tbody>\n",
       "    <tr>\n",
       "      <th>0</th>\n",
       "      <td>0</td>\n",
       "      <td>F</td>\n",
       "      <td>N</td>\n",
       "      <td>N</td>\n",
       "      <td>0</td>\n",
       "      <td>202500.0</td>\n",
       "      <td>Commercial associate</td>\n",
       "      <td>Higher education</td>\n",
       "      <td>Married</td>\n",
       "      <td>Municipal apartment</td>\n",
       "      <td>...</td>\n",
       "      <td>-4709</td>\n",
       "      <td>1</td>\n",
       "      <td>0</td>\n",
       "      <td>0</td>\n",
       "      <td>0</td>\n",
       "      <td>NaN</td>\n",
       "      <td>2.0</td>\n",
       "      <td>-6.0</td>\n",
       "      <td>1.0</td>\n",
       "      <td>38</td>\n",
       "    </tr>\n",
       "    <tr>\n",
       "      <th>1</th>\n",
       "      <td>1</td>\n",
       "      <td>F</td>\n",
       "      <td>N</td>\n",
       "      <td>Y</td>\n",
       "      <td>1</td>\n",
       "      <td>247500.0</td>\n",
       "      <td>Commercial associate</td>\n",
       "      <td>Secondary / secondary special</td>\n",
       "      <td>Civil marriage</td>\n",
       "      <td>House / apartment</td>\n",
       "      <td>...</td>\n",
       "      <td>-1540</td>\n",
       "      <td>1</td>\n",
       "      <td>0</td>\n",
       "      <td>0</td>\n",
       "      <td>1</td>\n",
       "      <td>Laborers</td>\n",
       "      <td>3.0</td>\n",
       "      <td>-5.0</td>\n",
       "      <td>1.0</td>\n",
       "      <td>31</td>\n",
       "    </tr>\n",
       "  </tbody>\n",
       "</table>\n",
       "<p>2 rows × 21 columns</p>\n",
       "</div>"
      ],
      "text/plain": [
       "   index gender car reality  child_num  income_total           income_type  \\\n",
       "0      0      F   N       N          0      202500.0  Commercial associate   \n",
       "1      1      F   N       Y          1      247500.0  Commercial associate   \n",
       "\n",
       "                        edu_type     family_type           house_type  ...  \\\n",
       "0               Higher education         Married  Municipal apartment  ...   \n",
       "1  Secondary / secondary special  Civil marriage    House / apartment  ...   \n",
       "\n",
       "   DAYS_EMPLOYED  FLAG_MOBIL  work_phone  phone  email  occyp_type  \\\n",
       "0          -4709           1           0      0      0         NaN   \n",
       "1          -1540           1           0      0      1    Laborers   \n",
       "\n",
       "  family_size  begin_month  credit  new_age  \n",
       "0         2.0         -6.0     1.0       38  \n",
       "1         3.0         -5.0     1.0       31  \n",
       "\n",
       "[2 rows x 21 columns]"
      ]
     },
     "execution_count": 47,
     "metadata": {},
     "output_type": "execute_result"
    }
   ],
   "source": [
    "# DAYS_BIRTH 변환 작업\n",
    "import numpy as np\n",
    "df['new_age'] = round(abs(df['DAYS_BIRTH'])/365.5,0).astype(np.int32)\n",
    "df.head(2)"
   ]
  },
  {
   "cell_type": "code",
   "execution_count": 48,
   "id": "1e0bb477-31b2-46b1-a366-964c588e0b15",
   "metadata": {},
   "outputs": [
    {
     "data": {
      "image/png": "[encoded data removed]",
      "text/plain": [
       "<Figure size 640x480 with 1 Axes>"
      ]
     },
     "metadata": {},
     "output_type": "display_data"
    }
   ],
   "source": [
    "df['new_age'].plot.hist(bins=range(10,81,10),color='c', edgecolor='k')\n",
    "# 데이터.plot.hist(bins=range(시작 값, 끝 값, 나누는 값),컬러, 엣지 컬러)\n",
    "\n",
    "plt.xlabel('age') # X축 설정\n",
    "plt.title('Age distribution') # Chart 제목\n",
    "plt.show()"
   ]
  },
  {
   "cell_type": "markdown",
   "id": "0d9c2ea4-0904-47d6-a026-24266a93ae06",
   "metadata": {},
   "source": [
    "### 4.3 Bar Chart"
   ]
  },
  {
   "cell_type": "markdown",
   "id": "69bcf6ea-c5c2-42ca-b1ee-8e528d3b8f9a",
   "metadata": {},
   "source": [
    "세번쨰로 해볼 Chart는 **Bar Chart**입니다.  \n",
    "Bar Chart는 갯수, 수량 등 값을 비교하기 좋은 그래프입니다.  \n",
    "Bar Chart를 가지고 교육 수준을 파악해 보겠습니다.  "
   ]
  },
  {
   "cell_type": "code",
   "execution_count": 49,
   "id": "46782230-84ba-4e41-a0ce-89cec164b8af",
   "metadata": {},
   "outputs": [
    {
     "data": {
      "text/html": [
       "<div>\n",
       "<style scoped>\n",
       "    .dataframe tbody tr th:only-of-type {\n",
       "        vertical-align: middle;\n",
       "    }\n",
       "\n",
       "    .dataframe tbody tr th {\n",
       "        vertical-align: top;\n",
       "    }\n",
       "\n",
       "    .dataframe thead th {\n",
       "        text-align: right;\n",
       "    }\n",
       "</style>\n",
       "<table border=\"1\" class=\"dataframe\">\n",
       "  <thead>\n",
       "    <tr style=\"text-align: right;\">\n",
       "      <th></th>\n",
       "      <th>edu_type</th>\n",
       "      <th>index</th>\n",
       "    </tr>\n",
       "  </thead>\n",
       "  <tbody>\n",
       "    <tr>\n",
       "      <th>0</th>\n",
       "      <td>Academic degree</td>\n",
       "      <td>23</td>\n",
       "    </tr>\n",
       "    <tr>\n",
       "      <th>1</th>\n",
       "      <td>Higher education</td>\n",
       "      <td>7162</td>\n",
       "    </tr>\n",
       "    <tr>\n",
       "      <th>2</th>\n",
       "      <td>Incomplete higher</td>\n",
       "      <td>1020</td>\n",
       "    </tr>\n",
       "    <tr>\n",
       "      <th>3</th>\n",
       "      <td>Lower secondary</td>\n",
       "      <td>257</td>\n",
       "    </tr>\n",
       "    <tr>\n",
       "      <th>4</th>\n",
       "      <td>Secondary / secondary special</td>\n",
       "      <td>17995</td>\n",
       "    </tr>\n",
       "  </tbody>\n",
       "</table>\n",
       "</div>"
      ],
      "text/plain": [
       "                        edu_type  index\n",
       "0                Academic degree     23\n",
       "1               Higher education   7162\n",
       "2              Incomplete higher   1020\n",
       "3                Lower secondary    257\n",
       "4  Secondary / secondary special  17995"
      ]
     },
     "execution_count": 49,
     "metadata": {},
     "output_type": "execute_result"
    }
   ],
   "source": [
    "et = df.groupby('edu_type').count()['index']\n",
    "et = et.reset_index()\n",
    "et"
   ]
  },
  {
   "cell_type": "code",
   "execution_count": 50,
   "id": "86fcb724-56d5-4204-b016-5f82b872a086",
   "metadata": {},
   "outputs": [
    {
     "data": {
      "image/png": "[encoded data removed]",
      "text/plain": [
       "<Figure size 640x480 with 1 Axes>"
      ]
     },
     "metadata": {},
     "output_type": "display_data"
    }
   ],
   "source": [
    "sns.barplot(data=et, y=\"edu_type\", x=\"index\", orient='h',color='dodgerblue')\n",
    "#sns.barplot(데이터, y값, x값, 방향, 컬러)\n",
    "\n",
    "title_color = 'black' # 제목 색갈\n",
    "plt.title('Education type',color=title_color) # 제목\n",
    "plt.show()"
   ]
  },
  {
   "cell_type": "markdown",
   "id": "a824c739-0a1a-4a67-9bed-c91a23363cc2",
   "metadata": {},
   "source": [
    "### 4.4 Box Plot"
   ]
  },
  {
   "cell_type": "markdown",
   "id": "a3c4c1df-2b09-4972-80f6-fb379968c33d",
   "metadata": {},
   "source": [
    "네번째로 볼 Chart는 Box plot입니다.  \n",
    "Box Plot은 데이터의 분포와 이상치를 볼 때 많이 사용합니다.  \n",
    "Box Plot을 활용하여 연간 소득을 파악해보겠습니다.  "
   ]
  },
  {
   "cell_type": "code",
   "execution_count": 51,
   "id": "14aad1f6-5d16-46e8-9ee5-0fc75b71c7dc",
   "metadata": {},
   "outputs": [
    {
     "data": {
      "image/png": "[encoded data removed]",
      "text/plain": [
       "<Figure size 640x480 with 1 Axes>"
      ]
     },
     "metadata": {},
     "output_type": "display_data"
    }
   ],
   "source": [
    "sns.boxplot(data=df,y=\"income_total\", width=0.3, color='tab:purple')\n",
    "#sns.boxplot(데이터,y값, 넓이, 컬러)\n",
    "\n",
    "plt.title('Annual income distribution') # 제목\n",
    "plt.ylim(2000, 600000) # y값 범위\n",
    "plt.show()"
   ]
  },
  {
   "cell_type": "markdown",
   "id": "151df5dc-7934-4388-8f9f-b092cb98e4e5",
   "metadata": {},
   "source": [
    "### 4.5 Heatmap"
   ]
  },
  {
   "cell_type": "markdown",
   "id": "cd5e8944-737e-4522-abc8-a974984b57b4",
   "metadata": {},
   "source": [
    "수치형 데이터 간의 상관관계를 알아보는 Heatmap을 그려보겠습니다.  \n",
    "먼저 수치형 데이터 3개만 추출하겠습니다."
   ]
  },
  {
   "cell_type": "code",
   "execution_count": 52,
   "id": "54afddd4-0415-4dce-a2c0-852fd3deecd5",
   "metadata": {},
   "outputs": [],
   "source": [
    "df2 = df[['new_age','income_total','child_num']]"
   ]
  },
  {
   "cell_type": "code",
   "execution_count": 53,
   "id": "86b4ccfa-f961-4168-9277-70ec25a55796",
   "metadata": {},
   "outputs": [],
   "source": [
    "corr = df2.corr() # 3개의 수치형 데이터에 대한 상관관계 계산"
   ]
  },
  {
   "cell_type": "code",
   "execution_count": 54,
   "id": "ee708397-7931-46b4-a13c-a85410af4f2c",
   "metadata": {},
   "outputs": [
    {
     "data": {
      "text/plain": [
       "<AxesSubplot:>"
      ]
     },
     "execution_count": 54,
     "metadata": {},
     "output_type": "execute_result"
    },
    {
     "data": {
      "image/png": "[encoded data removed]",
      "text/plain": [
       "<Figure size 1000x500 with 2 Axes>"
      ]
     },
     "metadata": {},
     "output_type": "display_data"
    }
   ],
   "source": [
    "plt.figure(figsize=(10, 5))\n",
    "sns.heatmap(corr, cmap = \"RdYlGn\", annot = True, vmin=0, vmax=1) \n",
    "#sns.heatmap(데이터, 디자인, 상관관계 표시,최솟값, 최댓값) "
   ]
  },
  {
   "cell_type": "markdown",
   "id": "232f157d-e727-42ed-bfbf-d54a1da74cbc",
   "metadata": {},
   "source": [
    "- 상관관계는 1이 될수록 높은 상관관계를 0에 가까울 수록 낮은 상관관계를 가집니다.  \n",
    "- +는 양의 상관관계를 -는 음의 상관관계를 가집니다.  \n",
    "- 해당 heatMap을 보니 3개의 특성들은 낮은 상관관계를 가짐을 알 수 있습니다. "
   ]
  },
  {
   "cell_type": "markdown",
   "id": "99a49276-aa9d-4144-ae42-a8600cfd7844",
   "metadata": {},
   "source": [
    "- 이외에도 LinePlot, KdePlot 등 많은 시각화 방법들이 있으니, 데이터에 맞게 EDA를 진행하면 문제를 해결하는데 많은 도움이 될것 입니다."
   ]
  },
  {
   "cell_type": "markdown",
   "id": "2b0f9746-17ef-4cd1-89db-bb29d9ccf3bb",
   "metadata": {
    "tags": []
   },
   "source": [
    "### Inst.\n",
    "\n",
    "- 앞서 배운 5개의 EDA를 진행하세요.\n",
    "- 추가적으로 배우지 않은 Chart 1개를 만들어 보세요."
   ]
  },
  {
   "cell_type": "code",
   "execution_count": 55,
   "id": "b133a3bb-52db-47ab-8225-6bf14d8ff3e6",
   "metadata": {},
   "outputs": [],
   "source": [
    "# EDA\n"
   ]
  },
  {
   "cell_type": "markdown",
   "id": "766c2362-b2d4-4649-bab3-961695a82dc7",
   "metadata": {},
   "source": [
    "### Hint.\n",
    "- Line,Kde Plot을 진행해 보세요."
   ]
  },
  {
   "cell_type": "markdown",
   "id": "ee935c4e-48d9-4e1c-b074-957fd35c6dde",
   "metadata": {},
   "source": [
    "### Solution."
   ]
  },
  {
   "cell_type": "code",
   "execution_count": 56,
   "id": "bfc9d59c-c69a-46e2-85ee-ac2b866753ee",
   "metadata": {},
   "outputs": [],
   "source": [
    "df['new_begin_month'] = [0 if s >=0 else round(abs(s)/12,2) for s in df['begin_month']]"
   ]
  },
  {
   "cell_type": "code",
   "execution_count": 57,
   "id": "c850307e-b250-4a95-970c-79c427478a7e",
   "metadata": {},
   "outputs": [
    {
     "data": {
      "image/png": "[encoded data removed]",
      "text/plain": [
       "<Figure size 500x500 with 1 Axes>"
      ]
     },
     "metadata": {},
     "output_type": "display_data"
    }
   ],
   "source": [
    "sns.displot(data=df,x='new_begin_month',kind='kde')\n",
    "title_color = 'black'\n",
    "plt.title('Average Credit Card Issuance Date',color=title_color)\n",
    "plt.show()"
   ]
  },
  {
   "cell_type": "markdown",
   "id": "3165ec82-b597-4205-8b5c-6c61b551229a",
   "metadata": {},
   "source": [
    "## Outro\n",
    "\n",
    "오늘 많은 것을 배웠는데, 자주 사용하고 많이 사용하다보면 익숙해질 날이 올거에요~  \n",
    "\n",
    "중요한 부분이니까 많이 찾아보고, 실습 과제를 다하면 실력이 팍팍오를거에요!!  \n",
    "\n",
    "다음 시간에는 EDA를 활용하는 방법에 대해 배울 예정입니다.  \n",
    "\n",
    "모두들 안녕~~ 👍"
   ]
  }
 ],
 "metadata": {
  "kernelspec": {
   "display_name": "Python 3 (ipykernel)",
   "language": "python",
   "name": "python3"
  },
  "language_info": {
   "codemirror_mode": {
    "name": "ipython",
    "version": 3
   },
   "file_extension": ".py",
   "mimetype": "text/x-python",
   "name": "python",
   "nbconvert_exporter": "python",
   "pygments_lexer": "ipython3",
   "version": "3.9.12"
  }
 },
 "nbformat": 4,
 "nbformat_minor": 5
}
