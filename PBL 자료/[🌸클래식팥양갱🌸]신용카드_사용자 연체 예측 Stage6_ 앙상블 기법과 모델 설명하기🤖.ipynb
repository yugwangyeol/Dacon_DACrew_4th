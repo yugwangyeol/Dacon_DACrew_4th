{
 "cells": [
  {
   "cell_type": "markdown",
   "id": "365a39dc",
   "metadata": {},
   "source": [
    "# Stage6"
   ]
  },
  {
   "cell_type": "markdown",
   "id": "42c8d1e0",
   "metadata": {},
   "source": [
    "# Intro"
   ]
  },
  {
   "cell_type": "markdown",
   "id": "38061a5b",
   "metadata": {},
   "source": [
    "숱한 관문을 거치고 어느덧 Stage6까지 오신 여러분 축하드립니다. 👏🏻👏🏻👏🏻  \n",
    "\n",
    "그간의 Stage들을 통해 데이터 분석과 조금 친해지셨나요?  \n",
    "\n",
    "이번 Stage에서는 여태까지 해온 데이터 분석 과정을 간단하게 복습하고 더 나아가 고급 분석기법을 사용하여 모델을 고도화 시켜보도록 하겠습니다!!  \n",
    "\n",
    "마지막 Stage인 만큼 이전에 나왔던 개념들이 다시 나오기 때문에 이전 Stage를 꼼꼼히 보고 오시면 좋겠죠?   \n",
    "\n",
    "그럼 시작해봅시다! 🧑🏻‍💻\n",
    "\n",
    "<p style='text-align: right;'> Start</p>\n",
    "\n",
    "--- "
   ]
  },
  {
   "cell_type": "markdown",
   "id": "b95e968c",
   "metadata": {},
   "source": [
    "<img src='https://drive.google.com/uc?export=download&id=1U0zB9lcVjEE6VaJlfn2_mTDj-oKVhzgj' width=\"\" height =\"\" /><br>"
   ]
  },
  {
   "cell_type": "markdown",
   "id": "0c6df6e0",
   "metadata": {},
   "source": [
    "이번 시간에 다루어 볼 내용은 데이터 분석 과정 중에서도 **모델링(앙상블) / 설명** 과정에 속합니다.  \n",
    "\n",
    "Stage 4에서는 모델링을 통해 점수를 올렸고, Stage 5 에서는 Feature를 바꾸어 가면 성능을 향상시켰었죠?  \n",
    "\n",
    "이전시간 까지는 단일 모델을 통해서만 성능을 향상시켰다면 이번 시간에는 이러한 <font color=\"coral\">**모델들을 서로 합쳐가며 성능을 향상**</font>시키는 방법에 대해 설명해 보겠습니다. 백짓장도 맞들면 낫다! 라는 옛날 말처럼 과연 모델들을 합치면 성능이 많이 상승할지!! 굉장히 궁금해 지는군요🤗 ㅎㅎ  \n",
    "\n",
    "또한 데이터 분석에서는 모델의 성능을 향상시키는 것 뿐 아니라 <font color=\"coral\">**모델을 설명**</font>하는 것도 상당히 중요합니다.\n",
    "\n",
    "그렇다면 어떻게 우리가 만든 모델을 설명할 수 있을지도 한 번 배워봅시다.\n",
    "\n",
    "---"
   ]
  },
  {
   "cell_type": "markdown",
   "id": "ee57bdc0",
   "metadata": {},
   "source": [
    "# 1. 이전 Stage 복습 및 본인 데이터 불러오기"
   ]
  },
  {
   "cell_type": "markdown",
   "id": "d1274d10",
   "metadata": {},
   "source": [
    ">먼저 본인이 만든 Feature를 불러오고 Stage4에서 배운 Random Search를 이용해 Hyperparameter들을 Tuning한 후 저장해보겠습니다.  \n",
    ">\n",
    ">실습으로 RandomForest까지 밖에 안해봤지만 다른 모델들도 적용시켜봅시다.  \n",
    ">\n",
    ">코드가 어려울 수 있으나 간단한 for문과 dictionary형태로 이루어진 것 뿐이니 겁먹지 말고 필사하며 이해해봅시다."
   ]
  },
  {
   "cell_type": "code",
   "execution_count": 1,
   "id": "c2bdbf1d",
   "metadata": {},
   "outputs": [],
   "source": [
    "import pandas as pd\n",
    "import numpy as np\n",
    "import warnings\n",
    "warnings.filterwarnings('ignore')\n",
    "from sklearn.model_selection import train_test_split \n",
    "\n",
    " \n",
    "# 이전 시간 까지 만들어 놓은 feature들 불러오기\n",
    "train = pd.read_csv('./전처리 파일 및 데이터/train_stage6.csv').copy()\n",
    "test = pd.read_csv('./전처리 파일 및 데이터/test_stage6.csv').copy()\n",
    "submission = pd.read_csv('./sample_submission.csv').copy()\n",
    "\n",
    "target = train.credit\n",
    "train.drop(['index','credit'], axis = 1, inplace = True)\n",
    "test.drop('index', axis = 1, inplace = True)"
   ]
  },
  {
   "cell_type": "code",
   "execution_count": 2,
   "id": "8e6d27fc",
   "metadata": {},
   "outputs": [],
   "source": [
    "# train, val 데이터 분할 \n",
    "\n",
    "X_train, X_valid, y_train, y_valid = train_test_split(train, target, test_size=0.3)"
   ]
  },
  {
   "cell_type": "code",
   "execution_count": 3,
   "id": "98560a7c",
   "metadata": {},
   "outputs": [],
   "source": [
    "# 모델 불러오기 \n",
    "\n",
    "from sklearn.neighbors import KNeighborsClassifier\n",
    "# Tree 기반 모델\n",
    "from sklearn.ensemble import RandomForestClassifier \n",
    "from sklearn.ensemble import ExtraTreesClassifier\n",
    "\n",
    "#  Boosting models\n",
    "from sklearn.ensemble import GradientBoostingClassifier\n",
    "from xgboost import XGBClassifier\n",
    "from lightgbm import LGBMClassifier\n",
    "\n",
    "# random state를 위한 seed 지정 \n",
    "seed = 77"
   ]
  },
  {
   "cell_type": "code",
   "execution_count": 4,
   "id": "19311a99",
   "metadata": {},
   "outputs": [],
   "source": [
    "# 사용하고자 하는 모델과 tuning하기 위한 hyperparameter의 범위를 지정하시오\n",
    "# 현재 KNN, RandomForest, Extra Tree, GBM, LGBM, XGB에 대한 하이퍼 파라미터가 담겨있음  \n",
    "### 성능을 위해 DT는 사용하지 않습니다.\n",
    "\n",
    "clfs = [\n",
    "    (\n",
    "        KNeighborsClassifier(),              # 사용하려는 모델\n",
    "        {'n_neighbors': [3,5,7,9,11],        # 최적화하려는 하이퍼파라미터 dictionary형태로 삽입\n",
    "         'weights': ['uniform','distance']}\n",
    "    ),\n",
    "    \n",
    "    (\n",
    "        RandomForestClassifier(random_state=seed),\n",
    "        {'n_estimators': [100,200,300],\n",
    "         'max_depth': [None,3,4,5],\n",
    "         'max_features': (0.8, 0.9 ,1.0),\n",
    "         'min_samples_split': (2, 3, 4, 5),                                     \n",
    "         'min_samples_leaf': (1, 2, 3, 4, 5)}\n",
    "    ),\n",
    "    \n",
    "    (\n",
    "       ExtraTreesClassifier(random_state=seed),\n",
    "        {'n_estimators': (100, 200, 300, 400 ,500),\n",
    "            'max_depth': (10, 20, 30, 50),    \n",
    "            'max_features': (0.8, 0.9 ,1.0),\n",
    "            'min_samples_split': (2, 3, 4, 5),                                     \n",
    "            'min_samples_leaf': (1, 2, 3, 4, 5)}\n",
    "    ),\n",
    "    \n",
    "    (\n",
    "        GradientBoostingClassifier(random_state=seed),\n",
    "        {'n_estimators': [100, 200, 300],\n",
    "         'learning_rate': [1, 0.1, 0.01],\n",
    "         'max_depth': (7, 15),\n",
    "         'subsample': (0, 0.3, 0.5, 0.7, 1)}\n",
    "    ),\n",
    "    \n",
    "     (\n",
    "        XGBClassifier(random_state=seed, n_jobs=-1),\n",
    "        {'learning_rate': (1,  0.1, 0.01, 0.001),\n",
    "            'n_estimators': (100, 200, 300, 500),\n",
    "            'max_depth': (7, 15),   \n",
    "            'subsample': (0, 0.3, 0.5, 0.7, 1)}\n",
    "        \n",
    "    ),\n",
    "    \n",
    "     ( \n",
    "        LGBMClassifier(random_state=seed, n_jobs=-1),\n",
    "     {'num_leaves': (16, 64, 128, 256, 512),       \n",
    "        'learning_rate': (1,  0.1, 0.01, 0.001), \n",
    "        'n_estimators': (100, 200, 300, 500),      \n",
    "        'subsample': (0, 0.3, 0.5, 0.7, 1)}\n",
    "    )\n",
    "]"
   ]
  },
  {
   "cell_type": "code",
   "execution_count": 5,
   "id": "436db2cc",
   "metadata": {
    "scrolled": true
   },
   "outputs": [
    {
     "name": "stderr",
     "output_type": "stream",
     "text": [
      " 17%|██████████████                                                                      | 1/6 [00:27<02:16, 27.24s/it]"
     ]
    },
    {
     "name": "stdout",
     "output_type": "stream",
     "text": [
      "KNeighborsClassifier                                 2.607508 27.2\n"
     ]
    },
    {
     "name": "stderr",
     "output_type": "stream",
     "text": [
      "\r",
      " 33%|████████████████████████████                                                        | 2/6 [00:45<01:27, 21.89s/it]"
     ]
    },
    {
     "name": "stdout",
     "output_type": "stream",
     "text": [
      "RandomForestClassifier                               0.863147 18.1\n"
     ]
    },
    {
     "name": "stderr",
     "output_type": "stream",
     "text": [
      "\r",
      " 50%|██████████████████████████████████████████                                          | 3/6 [01:12<01:12, 24.06s/it]"
     ]
    },
    {
     "name": "stdout",
     "output_type": "stream",
     "text": [
      "ExtraTreesClassifier                                 0.843137 26.6\n"
     ]
    },
    {
     "name": "stderr",
     "output_type": "stream",
     "text": [
      "\r",
      " 67%|████████████████████████████████████████████████████████                            | 4/6 [03:09<02:01, 60.90s/it]"
     ]
    },
    {
     "name": "stdout",
     "output_type": "stream",
     "text": [
      "GradientBoostingClassifier                           0.850534 117.4\n"
     ]
    },
    {
     "name": "stderr",
     "output_type": "stream",
     "text": [
      "\r",
      " 83%|██████████████████████████████████████████████████████████████████████              | 5/6 [04:11<01:01, 61.49s/it]"
     ]
    },
    {
     "name": "stdout",
     "output_type": "stream",
     "text": [
      "XGBClassifier                                        0.907531 62.5\n"
     ]
    },
    {
     "name": "stderr",
     "output_type": "stream",
     "text": [
      "100%|████████████████████████████████████████████████████████████████████████████████████| 6/6 [04:36<00:00, 46.04s/it]"
     ]
    },
    {
     "name": "stdout",
     "output_type": "stream",
     "text": [
      "LGBMClassifier                                       0.798062 24.3\n"
     ]
    },
    {
     "name": "stderr",
     "output_type": "stream",
     "text": [
      "\n"
     ]
    }
   ],
   "source": [
    "# 모델 시간측정을 위해 tqdm과 time을 import\n",
    "from tqdm import tqdm\n",
    "import time\n",
    "from sklearn.model_selection import RandomizedSearchCV\n",
    "from sklearn.metrics import log_loss, make_scorer\n",
    "\n",
    "# 튜닝된 모델을 저장\n",
    "clfs_tuned = []  \n",
    "\n",
    "# logloss socore 만들기\n",
    "LogLoss = make_scorer(log_loss, greater_is_better=False, needs_proba=True)\n",
    "\n",
    "# 위에서 저장한 clfs를 모델 개수만큼 반복\n",
    "for clf, param_grid in tqdm(clfs):\n",
    "    start = time.time()                                     ## 걸리는 시간을 알기 위해 time 호출\n",
    "\n",
    "    rand_search = RandomizedSearchCV(clf,                  ## 모델\n",
    "                                     param_grid,           ## 위에서 지정한 hyper parameter들\n",
    "                                     n_iter = 5,           ## 몇번 반복할건지\n",
    "                                     scoring=LogLoss,      ## score를 logloss로 지정\n",
    "                                     cv = 3,               ## cv 횟수 \n",
    "                                     random_state = seed,\n",
    "                                     n_jobs=-1)\n",
    "    \n",
    "    rand_search.fit(X_train, y_train)                ## randomsearch 모델에 fit\n",
    "    \n",
    "    clf_name = type(clf).__name__                   ## 각 모델의 이름\n",
    "    clf_score = (-1 * rand_search.score(X_valid, y_valid))   ## 각 모델의 스코어\n",
    "    print('{:30s} {:30f} {:.1f}'.format(clf_name, clf_score, time.time() - start))   ## 걸리는 시간\n",
    "    clfs_tuned.append((clf_name, rand_search, clf_score))    ## 튜닝된 모델 저장"
   ]
  },
  {
   "cell_type": "code",
   "execution_count": 7,
   "id": "39e6509e",
   "metadata": {
    "scrolled": true
   },
   "outputs": [
    {
     "data": {
      "text/plain": [
       "[('KNeighborsClassifier',\n",
       "  RandomizedSearchCV(cv=3, estimator=KNeighborsClassifier(), n_iter=5, n_jobs=-1,\n",
       "                     param_distributions={'n_neighbors': [3, 5, 7, 9, 11],\n",
       "                                          'weights': ['uniform', 'distance']},\n",
       "                     random_state=77,\n",
       "                     scoring=make_scorer(log_loss, greater_is_better=False, needs_proba=True)),\n",
       "  2.6075075193979895),\n",
       " ('RandomForestClassifier',\n",
       "  RandomizedSearchCV(cv=3, estimator=RandomForestClassifier(random_state=77),\n",
       "                     n_iter=5, n_jobs=-1,\n",
       "                     param_distributions={'max_depth': [None, 3, 4, 5],\n",
       "                                          'max_features': (0.8, 0.9, 1.0),\n",
       "                                          'min_samples_leaf': (1, 2, 3, 4, 5),\n",
       "                                          'min_samples_split': (2, 3, 4, 5),\n",
       "                                          'n_estimators': [100, 200, 300]},\n",
       "                     random_state=77,\n",
       "                     scoring=make_scorer(log_loss, greater_is_better=False, needs_proba=True)),\n",
       "  0.8631472139744183),\n",
       " ('ExtraTreesClassifier',\n",
       "  RandomizedSearchCV(cv=3, estimator=ExtraTreesClassifier(random_state=77),\n",
       "                     n_iter=5, n_jobs=-1,\n",
       "                     param_distributions={'max_depth': (10, 20, 30, 50),\n",
       "                                          'max_features': (0.8, 0.9, 1.0),\n",
       "                                          'min_samples_leaf': (1, 2, 3, 4, 5),\n",
       "                                          'min_samples_split': (2, 3, 4, 5),\n",
       "                                          'n_estimators': (100, 200, 300, 400,\n",
       "                                                           500)},\n",
       "                     random_state=77,\n",
       "                     scoring=make_scorer(log_loss, greater_is_better=False, needs_proba=True)),\n",
       "  0.8431365056984708),\n",
       " ('GradientBoostingClassifier',\n",
       "  RandomizedSearchCV(cv=3, estimator=GradientBoostingClassifier(random_state=77),\n",
       "                     n_iter=5, n_jobs=-1,\n",
       "                     param_distributions={'learning_rate': [1, 0.1, 0.01],\n",
       "                                          'max_depth': (7, 15),\n",
       "                                          'n_estimators': [100, 200, 300],\n",
       "                                          'subsample': (0, 0.3, 0.5, 0.7, 1)},\n",
       "                     random_state=77,\n",
       "                     scoring=make_scorer(log_loss, greater_is_better=False, needs_proba=True)),\n",
       "  0.850533951683375),\n",
       " ('XGBClassifier',\n",
       "  RandomizedSearchCV(cv=3,\n",
       "                     estimator=XGBClassifier(base_score=None, booster=None,\n",
       "                                             callbacks=None,\n",
       "                                             colsample_bylevel=None,\n",
       "                                             colsample_bynode=None,\n",
       "                                             colsample_bytree=None,\n",
       "                                             early_stopping_rounds=None,\n",
       "                                             enable_categorical=False,\n",
       "                                             eval_metric=None, feature_types=None,\n",
       "                                             gamma=None, gpu_id=None,\n",
       "                                             grow_policy=None,\n",
       "                                             importance_type=None,\n",
       "                                             interaction_constraints=None,\n",
       "                                             learning_rate...\n",
       "                                             monotone_constraints=None,\n",
       "                                             n_estimators=100, n_jobs=-1,\n",
       "                                             num_parallel_tree=None,\n",
       "                                             predictor=None, random_state=77, ...),\n",
       "                     n_iter=5, n_jobs=-1,\n",
       "                     param_distributions={'learning_rate': (1, 0.1, 0.01, 0.001),\n",
       "                                          'max_depth': (7, 15),\n",
       "                                          'n_estimators': (100, 200, 300, 500),\n",
       "                                          'subsample': (0, 0.3, 0.5, 0.7, 1)},\n",
       "                     random_state=77,\n",
       "                     scoring=make_scorer(log_loss, greater_is_better=False, needs_proba=True)),\n",
       "  0.907531023513583),\n",
       " ('LGBMClassifier',\n",
       "  RandomizedSearchCV(cv=3, estimator=LGBMClassifier(random_state=77), n_iter=5,\n",
       "                     n_jobs=-1,\n",
       "                     param_distributions={'learning_rate': (1, 0.1, 0.01, 0.001),\n",
       "                                          'n_estimators': (100, 200, 300, 500),\n",
       "                                          'num_leaves': (16, 64, 128, 256, 512),\n",
       "                                          'subsample': (0, 0.3, 0.5, 0.7, 1)},\n",
       "                     random_state=77,\n",
       "                     scoring=make_scorer(log_loss, greater_is_better=False, needs_proba=True)),\n",
       "  0.7980621913837405)]"
      ]
     },
     "execution_count": 7,
     "metadata": {},
     "output_type": "execute_result"
    }
   ],
   "source": [
    "## 각 모델의 하이퍼 파라미터가 저장되어 있는걸 볼 수 있다.\n",
    "clfs_tuned"
   ]
  },
  {
   "cell_type": "markdown",
   "id": "43547865",
   "metadata": {},
   "source": [
    "##  Inst."
   ]
  },
  {
   "cell_type": "markdown",
   "id": "391dc9b6",
   "metadata": {},
   "source": [
    "- 이전 Stage까지의 본인 Feature를 불러오세요. \n",
    "- 예제 코드에 있는 model을 참고하여 데이터를 모델에 학습시키고 Hyper Parameter Tuning 후 정보를 저장하세요."
   ]
  },
  {
   "cell_type": "code",
   "execution_count": null,
   "id": "3b72f7db",
   "metadata": {},
   "outputs": [],
   "source": []
  },
  {
   "cell_type": "markdown",
   "id": "88207299",
   "metadata": {},
   "source": [
    "##  Hint."
   ]
  },
  {
   "cell_type": "markdown",
   "id": "703cc986",
   "metadata": {},
   "source": [
    "예제 코드를 필사하며 이해해보세요!\n",
    "clfs_tuned에 본인이 설정한 모델들이 들어가 있어야 합니다."
   ]
  },
  {
   "cell_type": "markdown",
   "id": "93bb148d",
   "metadata": {},
   "source": [
    "## Solution."
   ]
  },
  {
   "cell_type": "markdown",
   "id": "e23c73f2",
   "metadata": {},
   "source": [
    "Empty"
   ]
  },
  {
   "cell_type": "markdown",
   "id": "08e2a244",
   "metadata": {},
   "source": [
    "---"
   ]
  },
  {
   "cell_type": "markdown",
   "id": "cfb2c21b",
   "metadata": {},
   "source": [
    "# 2. 앙상블(Ensemble)"
   ]
  },
  {
   "cell_type": "markdown",
   "id": "72ca07d3",
   "metadata": {},
   "source": [
    "#### 앙상블이란?\n",
    "앙상블이란 전체적인 어울림이나 통일을 의미하는 프랑스어입니다. \n",
    "\n",
    "주로 연주회에서 많이 쓰이는 단어 인데요,  해당 어원을 가져와 머신러닝에서는 하나가 아닌 여러 모델을 사용하여 예측력을 향상시키는 것을 의미합니다.  "
   ]
  },
  {
   "cell_type": "markdown",
   "id": "dd4420cf",
   "metadata": {},
   "source": [
    " <img src='https://drive.google.com/uc?export=download&id=1Qs2GZ6zZGVCzoZ0KfDQ9tGcQKDTWlavz' width=\"\" height =\"\" /><br>"
   ]
  },
  {
   "cell_type": "markdown",
   "id": "911dc6e0",
   "metadata": {},
   "source": [
    "보시는 것 처럼 앙상블에도 다양한 종류가 존재합니다.  \n",
    "\n",
    "\n",
    "사실 여러분들이 앞서 배웠던 모델 중에서 Bagging이나 Boosting에 해당하는 모델이 있었습니다. \n",
    "\n",
    "과연 어떤 모델이 이러한 방식에 해당할지 밑에서 확인해 봅시다!"
   ]
  },
  {
   "cell_type": "markdown",
   "id": "02b3636d",
   "metadata": {},
   "source": [
    "## 2.1 같은 모델 앙상블"
   ]
  },
  {
   "cell_type": "markdown",
   "id": "a87aa113",
   "metadata": {},
   "source": [
    "### 2.1.1 배깅(Bagging)"
   ]
  },
  {
   "cell_type": "markdown",
   "id": "f0056407",
   "metadata": {},
   "source": [
    "<img src='https://drive.google.com/uc?export=download&id=15Vc2NKY0XiTqSezgkRGWKCnHoZ5IA7jy' width=\"\" height =\"\" /><br>\n"
   ]
  },
  {
   "cell_type": "markdown",
   "id": "668e4b94",
   "metadata": {},
   "source": [
    "`Bagging`이란 Bootstrap Aggregation의 약자로 <font color=\"coral\">**샘플을 여러 번 뽑아 각 모델을 학습시킨 결과물을 집계**</font>하는 방법입니다.  \n",
    "\n",
    "Bootstrap 이란 기존의 학습 데이터로 부터 <font color=\"coral\">**랜덤하게 복원추출**</font>을 시행하여 동일한 사이즈를 여러개 만들어 학습 시키는 방법입니다.\n",
    "\n",
    "여러분이 배우신 랜덤포레스트(RandomForest) 모델이 해당 기법을 사용한 모델인데요,   \n",
    "\n",
    "여러개의 Decision Tree 모델을 여러개 학습시켜 해당 값의 평균혹은 최빈값을 산출해 최종 결과를 내는 방식입니다.  \n",
    "\n",
    "회귀 문제일 때는 평균으로 집계가 되고, 분류 문제일 때에는 최빈값을 뽑는 방식으로 결과가 집계됩니다."
   ]
  },
  {
   "cell_type": "markdown",
   "id": "82ddb028",
   "metadata": {},
   "source": [
    "### 2.1.2 부스팅(Boosting)"
   ]
  },
  {
   "cell_type": "markdown",
   "id": "ac4cc1b7",
   "metadata": {},
   "source": [
    "<img src='https://drive.google.com/uc?export=download&id=1pfEib4GXubptg9n0ir7IJ5YnRwtwdb_G' width=\"\" height =\"\" /><br>"
   ]
  },
  {
   "cell_type": "markdown",
   "id": "3be1911b",
   "metadata": {},
   "source": [
    "<p style='text-align: right;'> 출처: Medium (Boosting and Bagging explained with examples)</p>"
   ]
  },
  {
   "cell_type": "markdown",
   "id": "74a2ad18",
   "metadata": {},
   "source": [
    "`Boosting`을 한마디로 설명하자면 <font color=\"coral\">**약한 분류기(Model)를 점점 진화시켜 강한 분류기로 만들어나가는 것**</font>입니다.\n",
    "\n",
    "가장 처음 모델이 예측을 수행하면 당연히 좋은 예측을 하기 힘들고, 오류값이 나올겁니다. \n",
    "\n",
    "그러면 해당 오류값에 가중치가 부여되고 다음 모델에서는 해당 가중치를 파악하여 예측을 수행합니다. \n",
    "\n",
    "잘못 분류된 데이터를 학습해 나가며 약한 분류기들을 통해 강한 분류기를 만드는 것이지요.\n",
    "\n",
    "마지막에는 결과값을 집계해 예측하게 됩니다."
   ]
  },
  {
   "cell_type": "markdown",
   "id": "797fd365",
   "metadata": {},
   "source": [
    "### 2.1.3 배깅 VS 부스팅"
   ]
  },
  {
   "cell_type": "markdown",
   "id": "6787a788",
   "metadata": {},
   "source": [
    "<img src='https://drive.google.com/uc?export=download&id=19XXWgvHehs9NQiNa1QUYlYKMbNfO_LtJ' width=\"\" height =\"\" /><br>"
   ]
  },
  {
   "cell_type": "markdown",
   "id": "d6e65692",
   "metadata": {},
   "source": [
    "<p style='text-align: right;'> 출처: swallow.github.io</p>"
   ]
  },
  {
   "cell_type": "markdown",
   "id": "65d11d7e",
   "metadata": {},
   "source": [
    "이론적으로만 보면 부스팅이 훨씬 좋은 모델같아 보입니다. 학습을 시키면 시킬수록 강한 모델을 만들 수 있으니까요. \n",
    "\n",
    "하지만 여기에도 단점은 존재합니다. 머신러닝을 수행하다보면 필연적으로 마주치게 되는 문제가 있는데요, 바로  <font color=\"coral\">**과적합 문제**</font>입니다. \n",
    "\n",
    "학습데이터에 모델이 너무 과하게 적합되면(적합은 Fitting 된다고도 표현합니다.) 실제 데이터를 모델에 주었을 때 오히려 모델의 성능이 떨어지게 되는 문제이지요.😰\n",
    "\n",
    "간단하게 예를 들어볼까요?   \n",
    "\n",
    "> 양갱이는 수학을 잘 못합니다. 그래서 수학 시험을 볼때면 문제를 외워서 풀곤 하는데, 이번 수학시험에도 족집게 선생님이 집어준 문제만 달달 외워서 시험을 봅니다. 당연히 학원에서는 만점을 받습니다.족집게 선생님이 외우라고 한 문제만 출제했으니까요.  \n",
    "( = Train 데이터를 기가막히게 맞춥니다.)   \n",
    "> 하지만 학교에서 시험을 보니 외운 문제가 반밖에 안나와 시험 점수가 떡락합니다. 수학은 수식을 이해하고 응용할 줄 알아야하니까 당연한 결과겠지요?( = 실제 Test 데이터에서는 오히려 성능이 떨어집니다.)  \n",
    " \n",
    " \n",
    " 이처럼 Boosting에도 단점이 존재합니다. 그러면 어떠한 모델을 사용해야 할까요? 정답은..... 🧐\n",
    " \n",
    " 그때그때 다릅니다!🤨 성능이 낮아서 문제라면 부스팅을 써야하고, 과적합이 문제인것 같으면 배깅을 사용하면 좋겠죠?"
   ]
  },
  {
   "cell_type": "markdown",
   "id": "46addb70",
   "metadata": {},
   "source": [
    "## 2.2 다른 모델 앙상블"
   ]
  },
  {
   "cell_type": "markdown",
   "id": "51a8f5e9",
   "metadata": {},
   "source": [
    "### 2.2.1 보팅(Voting)"
   ]
  },
  {
   "cell_type": "markdown",
   "id": "cbd9b9c7",
   "metadata": {},
   "source": [
    "`Voting` 은 의미 그대로 투표를 통해 결정하는 방식입니다. 서로 다른 모델로 부터 나온 결과를 투표를 통해 최종 결과를 예측합니다.  \n",
    "배깅과 비슷해 보이지만 **배깅은 같은 모델을 사용하고 보팅은 다른 모델을 사용한다는 점**이 다릅니다.  \n",
    "\n",
    "Voting에는 크게 `Hard Voting`과 `Soft Voting`이 존재합니다.\n",
    "> 1. Hard Voting  \n",
    "> 예측한 결과값 중 다수의 분류기가 결정한 예측 값을 최종 보팅 결과값에 선정합니다. \n",
    "\n",
    "> 2. Soft Voting  \n",
    "> 모델의 결과값을 평균 하여 사용합니다. 분류 문제일 경우에는 Class에 해당하는 확률을 평균합니다.\n",
    "\n",
    "이제 코드를 통해 구현해봅시다.\n",
    "위의 복습 코드를 돌려봤다는 가정 하에 보시면 됩니다."
   ]
  },
  {
   "cell_type": "code",
   "execution_count": 8,
   "id": "e1fdd59e",
   "metadata": {},
   "outputs": [],
   "source": [
    "# Ensemble\n",
    "from sklearn.ensemble import VotingClassifier\n",
    "from sklearn.ensemble import StackingClassifier\n",
    "\n",
    "# 랜덤 스테이트를 고정하여 모델이 항상 같은 값을 내도록 설정\n",
    "seed = 77"
   ]
  },
  {
   "cell_type": "code",
   "execution_count": 9,
   "id": "f1088f65",
   "metadata": {},
   "outputs": [
    {
     "name": "stdout",
     "output_type": "stream",
     "text": [
      "Voting에 사용할 모델과 하이퍼파라미터:  [('RandomForestClassifier', RandomForestClassifier(max_depth=5, max_features=0.9, min_samples_split=4,\n",
      "                       n_estimators=200)), ('KNeighborsClassifier', KNeighborsClassifier(n_neighbors=9))]\n"
     ]
    }
   ],
   "source": [
    "# Voting에 사용할 모델 불러오기\n",
    "rf_clf = RandomForestClassifier()\n",
    "knn_clf = KNeighborsClassifier()\n",
    "\n",
    "# models 변수에 voting에 사용할 모델 할당하기\n",
    "models = [rf_clf, knn_clf]\n",
    "\n",
    "# model에 해당하는 best param을 clfs_tuned에서 찾아서 할당하기\n",
    "for clf in clfs_tuned:\n",
    "    for model in models:\n",
    "        if clf[0] == model.__class__.__name__:\n",
    "            model.set_params(**clf[1].best_params_)\n",
    "        else: \n",
    "            continue\n",
    "\n",
    "\n",
    "# VotingClassifer에 할당할 모델들의 이름과 종류를 for문을 통해 estimators에 할당\n",
    "estimators = [(model.__class__.__name__, model) for model in models]\n",
    "\n",
    "print('Voting에 사용할 모델과 하이퍼파라미터: ', estimators)"
   ]
  },
  {
   "cell_type": "code",
   "execution_count": 10,
   "id": "fb4d16db",
   "metadata": {},
   "outputs": [
    {
     "name": "stdout",
     "output_type": "stream",
     "text": [
      "KNN / RF Voting Score:  0.8488509459037104\n"
     ]
    }
   ],
   "source": [
    "# VotingClassifer에 estimators에 사용 모델들을 파라미터로 주어 voting 실시\n",
    "voting_clf = VotingClassifier(estimators = estimators, \n",
    "                              voting='soft',      # voting 파라미터로 hard/soft 선택    # hard -> 최빈값, soft -> 평균\n",
    "                              n_jobs=-1)\n",
    "\n",
    "\n",
    "voting_clf.fit(X_train, y_train)\n",
    "\n",
    "# 예측값 생성\n",
    "pred = voting_clf.predict_proba(X_valid)\n",
    "\n",
    "test_score = log_loss(y_valid, pred)\n",
    "\n",
    "print('KNN / RF Voting Score: ', test_score)"
   ]
  },
  {
   "cell_type": "markdown",
   "id": "7a092858",
   "metadata": {},
   "source": [
    "### Inst."
   ]
  },
  {
   "cell_type": "markdown",
   "id": "fef1c679",
   "metadata": {},
   "source": [
    "- 다양한 모델들을 VotingClassifier의 인자로 주어 VotingClassifier를 학습시켜보세요.\n",
    "- voting 방식은 soft로 고정하세요\n",
    "- 모델은 위에 실습해본 모델을 포함하여 더 3개 이상 시도해보세요."
   ]
  },
  {
   "cell_type": "code",
   "execution_count": null,
   "id": "288bb7d8",
   "metadata": {},
   "outputs": [],
   "source": []
  },
  {
   "cell_type": "markdown",
   "id": "07f7ebb0",
   "metadata": {},
   "source": [
    "### Hint."
   ]
  },
  {
   "cell_type": "markdown",
   "id": "161151f2",
   "metadata": {},
   "source": [
    "각 모델을 할당할 때, 앞서 구한 Hyperparameter들을 넣어주면 더 좋은 성능을 낼 수 있습니다.   \n",
    "저장해놓은 파라미터들을 모델에 할당해 봅시다."
   ]
  },
  {
   "cell_type": "markdown",
   "id": "bfb41c1d",
   "metadata": {},
   "source": [
    "### Solution.\n",
    "(example)"
   ]
  },
  {
   "cell_type": "code",
   "execution_count": 11,
   "id": "40292d5a",
   "metadata": {},
   "outputs": [
    {
     "name": "stdout",
     "output_type": "stream",
     "text": [
      "0.8334221030501114\n"
     ]
    }
   ],
   "source": [
    "# 모델\n",
    "rf_clf = RandomForestClassifier()\n",
    "extra_clf = ExtraTreesClassifier()\n",
    "gbm_clf = GradientBoostingClassifier()\n",
    "xgb_clf = XGBClassifier()\n",
    "lgb_clf = LGBMClassifier()\n",
    "\n",
    "models = [rf_clf, extra_clf, gbm_clf, xgb_clf, lgb_clf]\n",
    "\n",
    "for clf in clfs_tuned:\n",
    "    for model in models:\n",
    "        if clf[0] == model.__class__.__name__:\n",
    "            model.set_params(**clf[1].best_params_)\n",
    "        else: \n",
    "            continue\n",
    "\n",
    "estimators = [(model.__class__.__name__, model) for model in models]\n",
    "\n",
    "voting_clf = VotingClassifier(estimators = estimators, voting='soft', n_jobs=-1)\n",
    "\n",
    "voting_clf.fit(X_train, y_train)\n",
    "\n",
    "pred = voting_clf.predict_proba(X_valid)\n",
    "\n",
    "test_score = log_loss(y_valid, pred)\n",
    "\n",
    "print(test_score)"
   ]
  },
  {
   "cell_type": "markdown",
   "id": "f1aec51a",
   "metadata": {},
   "source": [
    "### 2.2.2 스태킹(Stacking)"
   ]
  },
  {
   "cell_type": "markdown",
   "id": "61f4b650",
   "metadata": {},
   "source": [
    "다음은 `Stacking` 입니다. 해당 방법도 의미를 생각해보면 이해하기가 쉽습니다. '쌓는다'라는 의미로 말 그대로 모델을 쌓는겁니다!!   \n",
    "\n",
    "스태킹은 **총 2가지 단계**로 이루어져 있는데요, \n",
    "\n",
    "**1단계로**는 개별 모델을 통해 예측을 수행합니다. 여기서 예측 모델이 무엇이던 간에 어쨌든 예측값이 나오게 됩니다. \n",
    "\n",
    "그러면 **2단계**로 넘어갑니다. 각 모델이 예측한 결과를 한 모델에 다시 넣어 예측을 수행합니다. \n",
    "\n",
    "이렇게 마지막 모델을 <font color=\"coral\">**메타 모델**</font>이라고도 하며,  <font color=\"coral\">**모델의 예측값들을 피쳐로 가지고 한번 더 모델을 돌린다**</font>라고 생각하시면 이해가 쉬울겁니다.\n",
    "\n",
    "아래 그림을 보며 이해해보세요.🤗\n",
    "\n"
   ]
  },
  {
   "cell_type": "markdown",
   "id": "56249bcc",
   "metadata": {},
   "source": [
    "<img src='https://drive.google.com/uc?export=download&id=1XWJ7jZ-QTrKBvjnOnCgVdrE0i5PyCjjP' width=\"\" height =\"\" /><br>"
   ]
  },
  {
   "cell_type": "markdown",
   "id": "c4f14e68",
   "metadata": {},
   "source": [
    "스태킹도 코드를 통해 구현해 봅시다.\n",
    "\n",
    "하지만 스태킹 코드를 보기 앞서 이해해야할 개념이 있습니다. \n",
    "\n",
    "해당 개념은 Stage3 에서도 잠깐 다룬적이 있습니다. Stage3 자료를 보시고 다시 오시면 더 이해하기가 편합니다. \n",
    "\n",
    "저희에게는  **train / valid / test** 이렇게 3개의 데이터셋이 존재합니다. 원래 데이터셋을 모델에 적용할 때에는 train_dataset으로 모델을 학습시키고 valid_dataset으로 평가를 진행한 뒤 test_dataset 즉, submission을 위한 데이터를 적용시켰습니다.\n",
    "\n",
    "그러나 아래에 그림을 봅시다. "
   ]
  },
  {
   "cell_type": "markdown",
   "id": "ae8a0a11",
   "metadata": {},
   "source": [
    "<img src='https://drive.google.com/uc?export=download&id=1U2jkRu2jHMNeV0Ay4NVzEuFRcux0YVoL' width=\"\" height =\"\" /><br>"
   ]
  },
  {
   "cell_type": "markdown",
   "id": "ce7478f9",
   "metadata": {},
   "source": [
    "이와 같이 기존에는 모델에 대한 평가를 1번 진행했다면 지금은 2단계에 거쳐 2번 진행해야 하기 때문에 데이터셋이 부족한 것을 알 수 있습니다.\n",
    "\n",
    "Stacking 모델에서는 Train과 Valid dataset 모두 모델을 fitting 하는데 사용되기 때문이죠.\n",
    "\n",
    "따라서, 우리는 아래 그림처럼 <font color=\"coral\">**기존 데이터셋에서 한번 더 데이터를 분할**</font>해야 함을 알 수 있습니다."
   ]
  },
  {
   "cell_type": "markdown",
   "id": "cbe2a071",
   "metadata": {},
   "source": [
    "<img src='https://drive.google.com/uc?export=download&id=1vaBi5_KIPpbQvOvgtRlWx1PfdsxtXt8n' width=\"\" height =\"\" /><br>"
   ]
  },
  {
   "cell_type": "markdown",
   "id": "9afc622d",
   "metadata": {},
   "source": [
    "물론 데이터 분할 시에 K-fold와 같은 방식을 적용할 수 있습니다.\n",
    "\n",
    "K-fold를 통해 데이터를 나누게 되면 데이터를 더 많이 사용할 수 있다는 장점이 있지만 본 예시에서는 이해를 위해 먼저 Hold-out 방식을 사용해 데이터셋을 나누어 주겠습니다. "
   ]
  },
  {
   "cell_type": "markdown",
   "id": "a17a019d",
   "metadata": {},
   "source": [
    "#### 1단계. Base Model Train"
   ]
  },
  {
   "cell_type": "code",
   "execution_count": 12,
   "id": "f54817b8",
   "metadata": {},
   "outputs": [],
   "source": [
    "# base 모델 학습과 평가를 위한 새로운 데이터셋 분할\n",
    "X_BaseTrain, X_BaseValid, y_BaseTrain, y_BaseValid = train_test_split(X_train, y_train, test_size=0.3)"
   ]
  },
  {
   "cell_type": "code",
   "execution_count": 13,
   "id": "52c469fb",
   "metadata": {},
   "outputs": [],
   "source": [
    "# 베이스 모델 예측값 생성\n",
    "def get_stacking_base_datasets(model):\n",
    "    \n",
    "    # 모델 학습\n",
    "    model.fit(X_BaseTrain, y_BaseTrain)\n",
    "    \n",
    "    # 예측값 생성\n",
    "    train_base_pred = model.predict(X_BaseValid)    # train 예측값\n",
    "    valid_base_pred = model.predict(X_valid)      # valid 예측값\n",
    "    test_base_pred = model.predict(test)     # test 예측값\n",
    "    \n",
    "    return train_base_pred, valid_base_pred, test_base_pred    # 메타 모델을 위한 prediction 값 생성"
   ]
  },
  {
   "cell_type": "code",
   "execution_count": 14,
   "id": "6ae4c195",
   "metadata": {},
   "outputs": [],
   "source": [
    "# 객체 생성\n",
    "knn_clf = KNeighborsClassifier()\n",
    "rf_clf = RandomForestClassifier()\n",
    "xgb_clf = XGBClassifier()\n",
    "\n",
    "\n",
    "# 사용할 모델\n",
    "base_models = [knn_clf , rf_clf, xgb_clf]\n",
    "\n",
    "# 결과값을 저장할 리스트 생성\n",
    "train_preds = []\n",
    "valid_preds = []\n",
    "test_preds = []\n",
    "\n",
    "for base_model in base_models:\n",
    "   \n",
    "    base_model_train, base_model_valid, base_model_test  = get_stacking_base_datasets(base_model)\n",
    "    \n",
    "    # 결과값 저장\n",
    "    train_preds.append(base_model_train)\n",
    "    valid_preds.append(base_model_valid)\n",
    "    test_preds.append(base_model_test)\n",
    "\n",
    "    \n",
    "# 피쳐 형태로 변환하기 위해 array 변환 후 transpose\n",
    "meta_train = np.transpose(np.array(train_preds))\n",
    "meta_valid = np.transpose(np.array(valid_preds))\n",
    "meta_test = np.transpose(np.array(test_preds))"
   ]
  },
  {
   "cell_type": "markdown",
   "id": "64c70150",
   "metadata": {},
   "source": [
    "#### 2단계. Meta Model Train"
   ]
  },
  {
   "cell_type": "code",
   "execution_count": 15,
   "id": "dcec3f96",
   "metadata": {},
   "outputs": [],
   "source": [
    "# 메타 모델 설정\n",
    "meta_model =  RandomForestClassifier()\n",
    "\n",
    "# 모델 학습\n",
    "meta_model.fit(meta_train, y_BaseValid)\n",
    "\n",
    "# 평가를 위한 prediction과 submission(test)를 위한 prediction 생성\n",
    "stack_valid_pred = meta_model.predict_proba(meta_valid)    # log_loss 계산을 위해 predict_proba\n",
    "stack_test_pred = meta_model.predict(meta_test)    # submission을 위한 test prediction"
   ]
  },
  {
   "cell_type": "code",
   "execution_count": 16,
   "id": "c7e554cf",
   "metadata": {},
   "outputs": [
    {
     "name": "stdout",
     "output_type": "stream",
     "text": [
      "Stacking Logloss Score:  0.8357953304215485\n"
     ]
    }
   ],
   "source": [
    "# stacking model validation score 산출\n",
    "valid_score = log_loss(y_valid, stack_valid_pred)\n",
    "\n",
    "print('Stacking Logloss Score: ', valid_score)"
   ]
  },
  {
   "cell_type": "markdown",
   "id": "75ebb46f",
   "metadata": {},
   "source": [
    "---\n",
    "### <font color = red>스태킹에 대한 추가 정보</font>"
   ]
  },
  {
   "cell_type": "markdown",
   "id": "117add4a",
   "metadata": {},
   "source": [
    ">보시는 것 처럼 스태킹을 사용한다고 해서 항상 스코어가 올라가지는 않습니다. 또한 어떤 모델을 통해 BaseModel을 만들지, MetaModel은 무엇을 사용해야 할지 데이터에 따라 기준이 모호하기 때문에 모델 선정에서 민감한 모습을 보여줍니다.\n",
    ">\n",
    ">일반적으로 가장 점수가 잘 나오는 모델들을 BaseModel로 사용하고 MetaModel도 최신 모델을 사용한다면 스코어가 올라갈 것이라고 기대하며 사용하곤 합니다.\n",
    ">\n",
    ">이처럼 스태킹은 불안요소가 많고 다양한 모델들이 결합되기 때문에 모델을 만든 이후에 설명력이 떨어집니다. 따라서 캐글이나 데이콘처럼 점수경쟁이 치열한 대회에서 주로 사용된다는 것을 명심하세요!!"
   ]
  },
  {
   "cell_type": "markdown",
   "id": "d9a749a7",
   "metadata": {},
   "source": [
    "---\n",
    "#### <font color = red>(심화)이후의 정보는 K-fold Stacking에 대한 코드입니다. </font>\n",
    "\n",
    "위의 Hold-out 방식과 개념은 동일하나 BaseModel Train 시에 K-fold 방식으로 validation을 진행합니다. 코드를 하나하나 뜯어보며 이해해보시면 개념을 이해하고 실력을 향상하는데 도움이 될겁니다.\n",
    " \n",
    "<p style='text-align: right;'>본 코드는 파이썬 머신러닝 완벽 가이드(권철민, 2019) 교재에서 발췌하였습니다.</p>"
   ]
  },
  {
   "cell_type": "markdown",
   "id": "11e06e05",
   "metadata": {},
   "source": [
    "#### 1단계. Base Model Train"
   ]
  },
  {
   "cell_type": "code",
   "execution_count": 17,
   "id": "2083c0fa",
   "metadata": {},
   "outputs": [],
   "source": [
    "from sklearn.model_selection import KFold\n",
    "\n",
    "# 메타 모델을 위한 학습 및 테스트 데이터 생성\n",
    "def get_stacking_base_datasets_kfold(model, X_train_n, y_train_n, X_test_n, n_folds):\n",
    "    \n",
    "    kf = KFold(n_splits=n_folds, shuffle=True, random_state=seed)\n",
    "    \n",
    "    # prediction 값을 받기 위한 빈 배열 생성\n",
    "    train_fold_pred = np.zeros((X_train_n.shape[0],1))\n",
    "    test_pred = np.zeros((X_test_n.shape[0],n_folds))\n",
    "    \n",
    "    # 기존 X_train에서 validation set을 한번 더 만들어 주는 코드(위에서 학습했죠?)\n",
    "    for folder_counter, (train_index, valid_index) in enumerate(kf.split(X_train_n)):\n",
    "        print('폴드 세트 : ', folder_counter, ' 시작')\n",
    "        X_tr = np.array(X_train_n)[train_index]\n",
    "        y_tr = np.array(y_train_n)[train_index]\n",
    "        X_te = np.array(X_train_n)[valid_index] \n",
    "        \n",
    "        # 폴드 내 모델 학습\n",
    "        model.fit(X_tr, y_tr)\n",
    "        train_fold_pred[valid_index, :] = model.predict(X_te).reshape(-1,1) # y_train 생성, 이후 많은 모델들의 y값을 concat 하기 위해 reshape\n",
    "        test_pred[:, folder_counter] = model.predict(X_test_n) # y_test 예측\n",
    "        \n",
    "    test_pred_mean = np.mean(test_pred, axis=1).reshape(-1,1) # 폴드가 끝난 후 test prediction값을 평균\n",
    "    \n",
    "    return train_fold_pred, test_pred_mean # 하나의 모델에 대한 학습데이터, 테스트 데이터 생성"
   ]
  },
  {
   "cell_type": "markdown",
   "id": "da406944",
   "metadata": {},
   "source": [
    "#### 2단계. Meta Model Train"
   ]
  },
  {
   "cell_type": "code",
   "execution_count": 18,
   "id": "6b22a5c6",
   "metadata": {
    "scrolled": true
   },
   "outputs": [
    {
     "name": "stdout",
     "output_type": "stream",
     "text": [
      "폴드 세트 :  0  시작\n",
      "폴드 세트 :  1  시작\n",
      "폴드 세트 :  2  시작\n",
      "폴드 세트 :  3  시작\n",
      "폴드 세트 :  4  시작\n",
      "폴드 세트 :  5  시작\n",
      "폴드 세트 :  6  시작\n",
      "폴드 세트 :  0  시작\n",
      "폴드 세트 :  1  시작\n",
      "폴드 세트 :  2  시작\n",
      "폴드 세트 :  3  시작\n",
      "폴드 세트 :  4  시작\n",
      "폴드 세트 :  5  시작\n",
      "폴드 세트 :  6  시작\n",
      "폴드 세트 :  0  시작\n",
      "폴드 세트 :  1  시작\n",
      "폴드 세트 :  2  시작\n",
      "폴드 세트 :  3  시작\n",
      "폴드 세트 :  4  시작\n",
      "폴드 세트 :  5  시작\n",
      "폴드 세트 :  6  시작\n"
     ]
    }
   ],
   "source": [
    "from sklearn.neighbors import KNeighborsClassifier\n",
    "from sklearn.ensemble import RandomForestClassifier\n",
    "from sklearn.tree import DecisionTreeClassifier\n",
    "\n",
    "\n",
    "# 객체 생성\n",
    "knn_clf = KNeighborsClassifier()\n",
    "rf_clf = RandomForestClassifier()\n",
    "dt_clf = DecisionTreeClassifier()\n",
    "\n",
    "meta_model = RandomForestClassifier()\n",
    "\n",
    "# 개별 모델로부터 메타 모델에 필요한 데이터 셋 생성\n",
    "knn_train, knn_test = get_stacking_base_datasets_kfold(knn_clf, X_train, y_train, test, 7)\n",
    "rf_train, rf_test = get_stacking_base_datasets_kfold(rf_clf, X_train, y_train, test, 7)\n",
    "dt_train, dt_test = get_stacking_base_datasets_kfold(dt_clf, X_train, y_train, test, 7)\n",
    "\n",
    "# 개별 모델로부터 나온 y_train 예측값 병합\n",
    "Stack_final_X_train = np.concatenate((knn_train,rf_train,dt_train), axis=1)\n",
    "\n",
    "# 개별 모델로부터 나온 y_test 예측값 병합\n",
    "Stack_final_X_test = np.concatenate((knn_test,rf_test,dt_test), axis=1)\n",
    "\n",
    "\n",
    "meta_model.fit(Stack_final_X_train, y_train)         ## 위의 hold-out 예시와는 다르게 y_train값을 통해 fitting 시키는 점에 유의하세요.\n",
    "stack_final = meta_model.predict(Stack_final_X_test) "
   ]
  },
  {
   "cell_type": "markdown",
   "id": "c592a61f",
   "metadata": {},
   "source": [
    "### Inst.\n",
    "사실 위 같은 코드로만 진행하게 되면 meta_model에 대한 Validation은 진행할 수 없게 됩니다.\n",
    "\n",
    "그렇다면 어떻게 validation set의 score를 구할 수 있을지 고민해 보시고, 코드를 수정해보세요!"
   ]
  },
  {
   "cell_type": "code",
   "execution_count": null,
   "id": "ac88784b",
   "metadata": {},
   "outputs": [],
   "source": []
  },
  {
   "cell_type": "markdown",
   "id": "7763174f",
   "metadata": {},
   "source": [
    "### Hint."
   ]
  },
  {
   "cell_type": "markdown",
   "id": "3b5b7c38",
   "metadata": {},
   "source": [
    "현재 파라미터가 X_test밖에 없죠? 해당 자리가 Validation data가 들어가야 할 자리입니다.\n",
    "\n",
    "그렇담 Test data를 함수에 할당해 주어야 겠죠?"
   ]
  },
  {
   "cell_type": "markdown",
   "id": "d4201f9c",
   "metadata": {},
   "source": [
    "### Solution."
   ]
  },
  {
   "cell_type": "markdown",
   "id": "cabd241f",
   "metadata": {},
   "source": [
    "#### 1단계. Base Model Train"
   ]
  },
  {
   "cell_type": "code",
   "execution_count": 19,
   "id": "b08eb9c5",
   "metadata": {},
   "outputs": [],
   "source": [
    "def get_stacking_base_datasets_kfold(model, X_train_n, y_train_n, X_val_n, X_test_n, n_folds):\n",
    "    \n",
    "    kf = KFold(n_splits=n_folds, shuffle=True, random_state=seed)\n",
    "    \n",
    "    # prediction 값을 받기 위한 빈 배열 생성\n",
    "    train_fold_pred = np.zeros((X_train_n.shape[0],1))\n",
    "    val_pred = np.zeros((X_val_n.shape[0],n_folds))\n",
    "    test_pred = np.zeros((X_test_n.shape[0],n_folds))\n",
    "    \n",
    "    # 기존 X_train에서 validation set을 한번 더 만들어 주는 코드(위에서 학습했죠?)\n",
    "    for folder_counter, (train_index, valid_index) in enumerate(kf.split(X_train_n)):\n",
    "        print(f'{type(model).__name__} 폴드 세트 : ', folder_counter, ' 시작')\n",
    "        X_tr = np.array(X_train_n)[train_index]\n",
    "        y_tr = np.array(y_train_n)[train_index]\n",
    "        X_te = np.array(X_train_n)[valid_index] \n",
    "        \n",
    "        # 폴드 내 모델 학습\n",
    "        model.fit(X_tr, y_tr)\n",
    "        train_fold_pred[valid_index, :] = model.predict(X_te).reshape(-1,1) # y_train 생성, 이후 많은 모델들의 y값을 concat 하기 위해 reshape\n",
    "        val_pred[:, folder_counter] = model.predict(X_val_n) # y_val 예측\n",
    "        test_pred[:, folder_counter] = model.predict(X_test_n) # y_test 예측\n",
    "        \n",
    "    val_pred_mean = np.mean(val_pred, axis=1).reshape(-1,1) # 폴드가 끝난 후 val prediction값을 평균\n",
    "    test_pred_mean = np.mean(test_pred, axis=1).reshape(-1,1) # 폴드가 끝난 후 test prediction값을 평균\n",
    "    \n",
    "    return train_fold_pred, val_pred_mean, test_pred_mean # 하나의 모델에 대한 학습데이터, 평가 데이터, 테스트데이터 생성\n"
   ]
  },
  {
   "cell_type": "markdown",
   "id": "1d216602",
   "metadata": {},
   "source": [
    "#### 2단계. Meta Model Train"
   ]
  },
  {
   "cell_type": "code",
   "execution_count": 20,
   "id": "494b08dd",
   "metadata": {
    "scrolled": false
   },
   "outputs": [
    {
     "name": "stdout",
     "output_type": "stream",
     "text": [
      "KNeighborsClassifier 폴드 세트 :  0  시작\n",
      "KNeighborsClassifier 폴드 세트 :  1  시작\n",
      "KNeighborsClassifier 폴드 세트 :  2  시작\n",
      "KNeighborsClassifier 폴드 세트 :  3  시작\n",
      "KNeighborsClassifier 폴드 세트 :  4  시작\n",
      "KNeighborsClassifier 폴드 세트 :  5  시작\n",
      "KNeighborsClassifier 폴드 세트 :  6  시작\n",
      "RandomForestClassifier 폴드 세트 :  0  시작\n",
      "RandomForestClassifier 폴드 세트 :  1  시작\n",
      "RandomForestClassifier 폴드 세트 :  2  시작\n",
      "RandomForestClassifier 폴드 세트 :  3  시작\n",
      "RandomForestClassifier 폴드 세트 :  4  시작\n",
      "RandomForestClassifier 폴드 세트 :  5  시작\n",
      "RandomForestClassifier 폴드 세트 :  6  시작\n",
      "DecisionTreeClassifier 폴드 세트 :  0  시작\n",
      "DecisionTreeClassifier 폴드 세트 :  1  시작\n",
      "DecisionTreeClassifier 폴드 세트 :  2  시작\n",
      "DecisionTreeClassifier 폴드 세트 :  3  시작\n",
      "DecisionTreeClassifier 폴드 세트 :  4  시작\n",
      "DecisionTreeClassifier 폴드 세트 :  5  시작\n",
      "DecisionTreeClassifier 폴드 세트 :  6  시작\n",
      "Stacking Logloss Score:  0.8183539458107202\n"
     ]
    }
   ],
   "source": [
    "from sklearn.neighbors import KNeighborsClassifier\n",
    "from sklearn.ensemble import RandomForestClassifier\n",
    "from sklearn.tree import DecisionTreeClassifier\n",
    "\n",
    "\n",
    "# 객체 생성\n",
    "knn_clf = KNeighborsClassifier()\n",
    "rf_clf = RandomForestClassifier()\n",
    "dt_clf = DecisionTreeClassifier()\n",
    "\n",
    "meta_model = RandomForestClassifier()\n",
    "\n",
    "# 개별 모델로부터 메타 모델에 필요한 데이터 셋 생성\n",
    "knn_train, knn_val, knn_test = get_stacking_base_datasets_kfold(knn_clf, X_train, y_train, X_valid, test, 7)\n",
    "rf_train, rf_val, rf_test = get_stacking_base_datasets_kfold(rf_clf, X_train, y_train, X_valid, test, 7)\n",
    "dt_train, dt_val, dt_test = get_stacking_base_datasets_kfold(dt_clf, X_train, y_train, X_valid, test, 7)\n",
    "\n",
    "# 개별 모델로부터 나온 y_train 예측값 병합\n",
    "Stack_final_X_train = np.concatenate((knn_train,rf_train,dt_train), axis=1)\n",
    "\n",
    "# 개별 모델로부터 나온 y_val 예측값 병합\n",
    "Stack_final_X_val = np.concatenate((knn_val,rf_val,dt_val), axis=1)\n",
    "\n",
    "# 개별 모델로부터 나온 y_test 예측값 병합\n",
    "Stack_final_X_test = np.concatenate((knn_test,rf_test,dt_test), axis=1)\n",
    "\n",
    "\n",
    "meta_model.fit(Stack_final_X_train, y_train)\n",
    "stack_valid_pred = meta_model.predict_proba(Stack_final_X_val) \n",
    "\n",
    "# stacking model validation score 산출\n",
    "valid_score = log_loss(y_valid, stack_valid_pred)\n",
    "print('Stacking Logloss Score: ', valid_score)\n"
   ]
  },
  {
   "cell_type": "markdown",
   "id": "9f2abb4f",
   "metadata": {},
   "source": [
    "---"
   ]
  },
  {
   "cell_type": "markdown",
   "id": "c3986568",
   "metadata": {},
   "source": [
    "### Inst."
   ]
  },
  {
   "cell_type": "markdown",
   "id": "ccd58d01",
   "metadata": {},
   "source": [
    "- 다양한 모델들로 Baseline Model을 만들고 최종 분류기를 바꾸어가며 학습시켜 보세요.  \n",
    "    심화부분의 k-fold 방식을 사용하면 스코어를 더 높일 수도 있습니다.  \n",
    "    \n",
    "      \n",
    "- 학습 결과를 비교하며 성능을 올려보세요"
   ]
  },
  {
   "cell_type": "code",
   "execution_count": null,
   "id": "a0ac80e7",
   "metadata": {},
   "outputs": [],
   "source": []
  },
  {
   "cell_type": "markdown",
   "id": "ffab8cc2",
   "metadata": {},
   "source": [
    "### Hint."
   ]
  },
  {
   "cell_type": "markdown",
   "id": "dee2d93e",
   "metadata": {},
   "source": [
    "각 모델을 할당할 때, 앞서 구한 Hyperparameter들을 넣어주면 더 좋은 성능을 낼 수 있습니다. 저장해놓은 파라미터들을 모델에 할당해 봅시다.   \n",
    "\n",
    "메타 모델에서는 구해놓은 하이퍼 파라미터를 사용하면 안되겠죠?\n",
    "\n",
    "다음 코드를 사용하면 clf_tuned 에서 만들어 놓은 하이퍼 파라미터를 사용할 수 있습니다."
   ]
  },
  {
   "cell_type": "code",
   "execution_count": 21,
   "id": "076a91fc",
   "metadata": {},
   "outputs": [],
   "source": [
    "for base_model in base_models:\n",
    "    for i in range(len(clfs_tuned)):\n",
    "        if clfs_tuned[i][0] == type(base_model).__name__:\n",
    "            base_model.set_params(**clfs_tuned[i][1].best_params_)"
   ]
  },
  {
   "cell_type": "markdown",
   "id": "c7d3cc29",
   "metadata": {},
   "source": [
    "### Solution."
   ]
  },
  {
   "cell_type": "markdown",
   "id": "bdb18941",
   "metadata": {},
   "source": [
    "k-fold stacking 활용한 예시"
   ]
  },
  {
   "cell_type": "code",
   "execution_count": 22,
   "id": "ce24050e",
   "metadata": {},
   "outputs": [],
   "source": [
    "from sklearn.model_selection import KFold\n",
    "# random state를 위한 seed 지정 \n",
    "seed = 77\n",
    "\n",
    "def get_stacking_base_datasets_kfold(model, X_train_n, y_train_n, X_val_n, X_test_n, n_folds):\n",
    "    \n",
    "    kf = KFold(n_splits=n_folds, shuffle=True, random_state=seed)\n",
    "    \n",
    "    # prediction 값을 받기 위한 빈 배열 생성\n",
    "    train_fold_pred = np.zeros((X_train_n.shape[0],1))\n",
    "    val_pred = np.zeros((X_val_n.shape[0],n_folds))\n",
    "    test_pred = np.zeros((X_test_n.shape[0],n_folds))\n",
    "    \n",
    "    # 기존 X_train에서 validation set을 한번 더 만들어 주는 코드(위에서 학습했죠?)\n",
    "    for folder_counter, (train_index, valid_index) in enumerate(kf.split(X_train_n)):\n",
    "        print(f'{type(model).__name__} 폴드 세트 : ', folder_counter, ' 시작')\n",
    "        X_tr = np.array(X_train_n)[train_index]\n",
    "        y_tr = np.array(y_train_n)[train_index]\n",
    "        X_te = np.array(X_train_n)[valid_index] \n",
    "        \n",
    "        # 폴드 내 모델 학습\n",
    "        model.fit(X_tr, y_tr)\n",
    "        train_fold_pred[valid_index, :] = model.predict(X_te).reshape(-1,1) # y_train 생성, 이후 많은 모델들의 y값을 concat 하기 위해 reshape\n",
    "        val_pred[:, folder_counter] = model.predict(X_val_n) # y_val 예측\n",
    "        test_pred[:, folder_counter] = model.predict(X_test_n) # y_test 예측\n",
    "        \n",
    "    val_pred_mean = np.mean(val_pred, axis=1).reshape(-1,1) # 폴드가 끝난 후 val prediction값을 평균\n",
    "    test_pred_mean = np.mean(test_pred, axis=1).reshape(-1,1) # 폴드가 끝난 후 test prediction값을 평균\n",
    "    \n",
    "    return train_fold_pred, val_pred_mean, test_pred_mean # 하나의 모델에 대한 학습데이터, 평가 데이터, 테스트데이터 생성\n"
   ]
  },
  {
   "cell_type": "code",
   "execution_count": 23,
   "id": "43e9a3de",
   "metadata": {},
   "outputs": [],
   "source": [
    "# Tree 기반 모델\n",
    "from sklearn.ensemble import RandomForestClassifier \n",
    "from sklearn.ensemble import ExtraTreesClassifier\n",
    "\n",
    "#  Boosting models\n",
    "from sklearn.ensemble import GradientBoostingClassifier\n",
    "from xgboost import XGBClassifier\n",
    "from lightgbm import LGBMClassifier\n",
    "\n",
    "from sklearn.ensemble import VotingClassifier\n",
    "\n",
    "# 객체 생성\n",
    "rf_clf =  RandomForestClassifier()\n",
    "et_clf = ExtraTreesClassifier()\n",
    "xgb_clf = XGBClassifier()\n",
    "lgbm_clf = LGBMClassifier()\n",
    "gbm_clf = GradientBoostingClassifier()\n",
    "\n",
    "# 사용할 모델\n",
    "base_models = [rf_clf , et_clf, gbm_clf, xgb_clf, lgbm_clf]\n",
    "\n",
    "# clf_tuned에서 best parameter 가져와서 설정해주기\n",
    "for base_model in base_models:\n",
    "    for i in range(len(clfs_tuned)):\n",
    "        if clfs_tuned[i][0] == type(base_model).__name__:\n",
    "            base_model.set_params(**clfs_tuned[i][1].best_params_)"
   ]
  },
  {
   "cell_type": "code",
   "execution_count": 24,
   "id": "b5e491fd",
   "metadata": {},
   "outputs": [
    {
     "name": "stdout",
     "output_type": "stream",
     "text": [
      "RandomForestClassifier 폴드 세트 :  0  시작\n",
      "RandomForestClassifier 폴드 세트 :  1  시작\n",
      "RandomForestClassifier 폴드 세트 :  2  시작\n",
      "RandomForestClassifier 폴드 세트 :  3  시작\n",
      "RandomForestClassifier 폴드 세트 :  4  시작\n",
      "ExtraTreesClassifier 폴드 세트 :  0  시작\n",
      "ExtraTreesClassifier 폴드 세트 :  1  시작\n",
      "ExtraTreesClassifier 폴드 세트 :  2  시작\n",
      "ExtraTreesClassifier 폴드 세트 :  3  시작\n",
      "ExtraTreesClassifier 폴드 세트 :  4  시작\n",
      "GradientBoostingClassifier 폴드 세트 :  0  시작\n",
      "GradientBoostingClassifier 폴드 세트 :  1  시작\n",
      "GradientBoostingClassifier 폴드 세트 :  2  시작\n",
      "GradientBoostingClassifier 폴드 세트 :  3  시작\n",
      "GradientBoostingClassifier 폴드 세트 :  4  시작\n",
      "XGBClassifier 폴드 세트 :  0  시작\n",
      "XGBClassifier 폴드 세트 :  1  시작\n",
      "XGBClassifier 폴드 세트 :  2  시작\n",
      "XGBClassifier 폴드 세트 :  3  시작\n",
      "XGBClassifier 폴드 세트 :  4  시작\n",
      "LGBMClassifier 폴드 세트 :  0  시작\n",
      "LGBMClassifier 폴드 세트 :  1  시작\n",
      "LGBMClassifier 폴드 세트 :  2  시작\n",
      "LGBMClassifier 폴드 세트 :  3  시작\n",
      "LGBMClassifier 폴드 세트 :  4  시작\n",
      "-------------------------------------------------\n",
      "Stacking Logloss Score:  0.8559592517179097\n"
     ]
    }
   ],
   "source": [
    "# 메타 모델 설정\n",
    "meta_model = LGBMClassifier(random_state = seed, n_jobs=-1)\n",
    "\n",
    "\n",
    "# 개별 모델로부터 메타 모델에 필요한 데이터 셋 생성\n",
    "rf_train, rf_val, rf_test = get_stacking_base_datasets_kfold(rf_clf, X_train, y_train, X_valid, test, 5)\n",
    "et_train, et_val, et_test = get_stacking_base_datasets_kfold(et_clf, X_train, y_train, X_valid, test, 5)\n",
    "gbm_train, gbm_val, gbm_test = get_stacking_base_datasets_kfold(gbm_clf, X_train, y_train, X_valid, test, 5)\n",
    "xgb_train, xgb_val, xgb_test = get_stacking_base_datasets_kfold(xgb_clf, X_train, y_train, X_valid, test, 5)\n",
    "lgbm_train, lgbm_val, lgbm_test = get_stacking_base_datasets_kfold(lgbm_clf, X_train, y_train, X_valid, test, 5)\n",
    "\n",
    "# 개별 모델로부터 나온 y_train 예측값 병합\n",
    "Stack_final_X_train = np.concatenate((rf_train, et_train, gbm_train,xgb_train, lgbm_train), axis=1)\n",
    "\n",
    "# 개별 모델로부터 나온 y_val 예측값 병합\n",
    "Stack_final_X_val = np.concatenate((rf_val, et_val,gbm_val, xgb_val, lgbm_val), axis=1)\n",
    "\n",
    "# 개별 모델로부터 나온 y_test 예측값 병합\n",
    "Stack_final_X_test = np.concatenate((rf_test, et_test,gbm_test, xgb_test, lgbm_test), axis=1)\n",
    "\n",
    "\n",
    "meta_model.fit(Stack_final_X_train, y_train)\n",
    "stack_valid_pred = meta_model.predict_proba(Stack_final_X_val) \n",
    "\n",
    "# stacking model validation score 산출\n",
    "valid_score = log_loss(y_valid, stack_valid_pred)\n",
    "print('-------------------------------------------------')\n",
    "print('Stacking Logloss Score: ', valid_score)"
   ]
  },
  {
   "cell_type": "markdown",
   "id": "41252da5",
   "metadata": {},
   "source": [
    "#### Deployment"
   ]
  },
  {
   "cell_type": "code",
   "execution_count": 27,
   "id": "ee44326d",
   "metadata": {
    "scrolled": true
   },
   "outputs": [
    {
     "data": {
      "text/html": [
       "<div>\n",
       "<style scoped>\n",
       "    .dataframe tbody tr th:only-of-type {\n",
       "        vertical-align: middle;\n",
       "    }\n",
       "\n",
       "    .dataframe tbody tr th {\n",
       "        vertical-align: top;\n",
       "    }\n",
       "\n",
       "    .dataframe thead th {\n",
       "        text-align: right;\n",
       "    }\n",
       "</style>\n",
       "<table border=\"1\" class=\"dataframe\">\n",
       "  <thead>\n",
       "    <tr style=\"text-align: right;\">\n",
       "      <th></th>\n",
       "      <th>index</th>\n",
       "      <th>0</th>\n",
       "      <th>1</th>\n",
       "      <th>2</th>\n",
       "    </tr>\n",
       "  </thead>\n",
       "  <tbody>\n",
       "    <tr>\n",
       "      <th>0</th>\n",
       "      <td>26457</td>\n",
       "      <td>0.108121</td>\n",
       "      <td>0.204218</td>\n",
       "      <td>0.687660</td>\n",
       "    </tr>\n",
       "    <tr>\n",
       "      <th>1</th>\n",
       "      <td>26458</td>\n",
       "      <td>0.108121</td>\n",
       "      <td>0.204218</td>\n",
       "      <td>0.687660</td>\n",
       "    </tr>\n",
       "    <tr>\n",
       "      <th>2</th>\n",
       "      <td>26459</td>\n",
       "      <td>0.108121</td>\n",
       "      <td>0.204218</td>\n",
       "      <td>0.687660</td>\n",
       "    </tr>\n",
       "    <tr>\n",
       "      <th>3</th>\n",
       "      <td>26460</td>\n",
       "      <td>0.108121</td>\n",
       "      <td>0.204218</td>\n",
       "      <td>0.687660</td>\n",
       "    </tr>\n",
       "    <tr>\n",
       "      <th>4</th>\n",
       "      <td>26461</td>\n",
       "      <td>0.104406</td>\n",
       "      <td>0.509908</td>\n",
       "      <td>0.385687</td>\n",
       "    </tr>\n",
       "    <tr>\n",
       "      <th>...</th>\n",
       "      <td>...</td>\n",
       "      <td>...</td>\n",
       "      <td>...</td>\n",
       "      <td>...</td>\n",
       "    </tr>\n",
       "    <tr>\n",
       "      <th>9995</th>\n",
       "      <td>36452</td>\n",
       "      <td>0.108121</td>\n",
       "      <td>0.204218</td>\n",
       "      <td>0.687660</td>\n",
       "    </tr>\n",
       "    <tr>\n",
       "      <th>9996</th>\n",
       "      <td>36453</td>\n",
       "      <td>0.108121</td>\n",
       "      <td>0.204218</td>\n",
       "      <td>0.687660</td>\n",
       "    </tr>\n",
       "    <tr>\n",
       "      <th>9997</th>\n",
       "      <td>36454</td>\n",
       "      <td>0.108121</td>\n",
       "      <td>0.204218</td>\n",
       "      <td>0.687660</td>\n",
       "    </tr>\n",
       "    <tr>\n",
       "      <th>9998</th>\n",
       "      <td>36455</td>\n",
       "      <td>0.108121</td>\n",
       "      <td>0.204218</td>\n",
       "      <td>0.687660</td>\n",
       "    </tr>\n",
       "    <tr>\n",
       "      <th>9999</th>\n",
       "      <td>36456</td>\n",
       "      <td>0.104406</td>\n",
       "      <td>0.509908</td>\n",
       "      <td>0.385687</td>\n",
       "    </tr>\n",
       "  </tbody>\n",
       "</table>\n",
       "<p>10000 rows × 4 columns</p>\n",
       "</div>"
      ],
      "text/plain": [
       "      index         0         1         2\n",
       "0     26457  0.108121  0.204218  0.687660\n",
       "1     26458  0.108121  0.204218  0.687660\n",
       "2     26459  0.108121  0.204218  0.687660\n",
       "3     26460  0.108121  0.204218  0.687660\n",
       "4     26461  0.104406  0.509908  0.385687\n",
       "...     ...       ...       ...       ...\n",
       "9995  36452  0.108121  0.204218  0.687660\n",
       "9996  36453  0.108121  0.204218  0.687660\n",
       "9997  36454  0.108121  0.204218  0.687660\n",
       "9998  36455  0.108121  0.204218  0.687660\n",
       "9999  36456  0.104406  0.509908  0.385687\n",
       "\n",
       "[10000 rows x 4 columns]"
      ]
     },
     "execution_count": 27,
     "metadata": {},
     "output_type": "execute_result"
    }
   ],
   "source": [
    "# --------------------------------------------- deploy test predict\n",
    "stack_final_pred = meta_model.predict_proba(Stack_final_X_test) \n",
    "submission.iloc[:, 1:] = stack_final_pred\n",
    "\n",
    "submission"
   ]
  },
  {
   "cell_type": "code",
   "execution_count": 29,
   "id": "0bd6c855",
   "metadata": {},
   "outputs": [],
   "source": [
    "submission.to_csv('./Stacking_prediction.csv', index = False)"
   ]
  },
  {
   "cell_type": "markdown",
   "id": "5c2b44c7",
   "metadata": {},
   "source": [
    "<font color = red>**[ 첨언 ]**</font>\n",
    "\n",
    "스태킹을 진행한다고 해서 항상 스코어가 올라가지는 않습니다. \n",
    "\n",
    "예제코드처럼 어떠한 모델을 사용하느냐에 따라 Train Set에 과적합되어 오히려 Valid시에 점수가 떨어지거나 각 모델의 값들이 오히려 Noise로 작용하여 스코어가 낮아질 수 있습니다.\n",
    "\n",
    "따라서 항상 시도해보고 결과를 확인하는 습관을 기르는 것이 필요하며 어떤 모델을 사용했는지 기록하는 습관을 가지세요!"
   ]
  },
  {
   "cell_type": "markdown",
   "id": "136275d1",
   "metadata": {},
   "source": [
    "---"
   ]
  },
  {
   "cell_type": "markdown",
   "id": "30f31712",
   "metadata": {},
   "source": [
    "# 3. Explaining Model"
   ]
  },
  {
   "cell_type": "markdown",
   "id": "8a2c9224",
   "metadata": {},
   "source": [
    "데이터 분석가라면 정확도가 높은 모델을 만드는 것도 중요하지만 <font color = coral>**모델을 설명하는 능력또한 중요**</font>합니다.\n",
    "\n",
    "실무에서 이해관계자는 머신러닝이 무엇을 하는 건지 이해하기가 힘들겁니다. 그렇게 되면 애써 한 분석이 물거품이 되는 것이지요.\n",
    "\n",
    "따라서 결과를 예측하는데 어떤 모델이 도움이 될 것인지, 또한 해당 모델에서 어떠한 변수가 가장 중요하게 사용되었는지를 설명하면서 분석의 당위성을 확보하고 또, 설명할 수 있어야 하는 것입니다!!! 👨🏻‍💼\n",
    "\n",
    "그렇다면 신용카드 대금 연체정도를 예측하는데, 모델은 어떠한 변수를 중요하게 측정했을까요?"
   ]
  },
  {
   "cell_type": "code",
   "execution_count": 30,
   "id": "85ff3c03",
   "metadata": {},
   "outputs": [
    {
     "data": {
      "text/plain": [
       "RandomForestClassifier()"
      ]
     },
     "execution_count": 30,
     "metadata": {},
     "output_type": "execute_result"
    }
   ],
   "source": [
    "from matplotlib import pyplot as plt \n",
    "\n",
    "# data split\n",
    "X_train, X_val, y_train, y_val = train_test_split(train, target ,test_size=0.3)\n",
    "\n",
    "# 변수에 모델 할당 \n",
    "rf = RandomForestClassifier()\n",
    "\n",
    "rf.fit(X_train, y_train)"
   ]
  },
  {
   "cell_type": "code",
   "execution_count": 31,
   "id": "7a0b5a02",
   "metadata": {
    "scrolled": false
   },
   "outputs": [
    {
     "data": {
      "image/png": "[encoded data removed]",
      "text/plain": [
       "<Figure size 640x480 with 1 Axes>"
      ]
     },
     "metadata": {},
     "output_type": "display_data"
    }
   ],
   "source": [
    "# Tree 기반 모델에서 feature importance 시각화 코드\n",
    "def feature_importances(model, train):\n",
    "    n_features = train.shape[1]\n",
    "    tp_df = pd.DataFrame(model.feature_importances_).rename(columns = ({0:'feature_import'}))\n",
    "    tp_df['feat'] = train.columns\n",
    "    tp_df.sort_values(by = 'feature_import', inplace = True)\n",
    "    tp_df.reset_index(inplace = True)\n",
    "    \n",
    "    plt.barh(tp_df.index, tp_df['feature_import'], align = 'center')\n",
    "    plt.yticks(tp_df.index, tp_df['feat'], fontsize = 7)\n",
    "    plt.xlabel('RandomForest Feature importance')\n",
    "    plt.ylabel('Feature')\n",
    "\n",
    "\n",
    "feature_importances(rf, X_train)"
   ]
  },
  {
   "cell_type": "markdown",
   "id": "f7f2fbf3",
   "metadata": {},
   "source": [
    "결과를 보면 저희가 만들어 놓은 데이터 및 원본 데이터에 대해 RandomForest 모델이 위와 같이 중요도를 파악한 것을 알 수 있습니다.\n",
    "\n",
    "`begin_month`, `income_total_beforeEMP_RATIO`, `before_EMPLOYED` 변수들이 Target을 예측하는데 중요하게 사용되었군요.\n",
    "\n",
    "반면에 `FLAG_MOBIL`, `emp`, `DAYS_EMPLOYED` 같은 변수들은 거의 중요하지 않다고 나옵니다."
   ]
  },
  {
   "cell_type": "markdown",
   "id": "29abd7c1",
   "metadata": {},
   "source": [
    "### Feature Importance의 활용"
   ]
  },
  {
   "cell_type": "markdown",
   "id": "c9e0e54f",
   "metadata": {},
   "source": [
    "이러한 척도를 통해 무엇을 할 수 있을까요? 🧐\n",
    "\n",
    "앞서 말했듯이 **모델의 설명력을 키울 수 있게** 됩니다.  \n",
    "\n",
    "물론 해당 모델에서는 Feature가 Target을 예측하는데 중요도가 크지만 실생활에서는 정말로 중요하게 적용되지 않는 경우도 많습니다.\n",
    "Tree 모델의 Importance는 불순도를 통해서 계산되기 때문이죠.(현재는 Default값인 Gini 계수를 통해 측정이 되었는데, 더 궁금하시다면 검색해보시길 바랍니다😓) \n",
    "\n",
    "어쨌던 부족한 점이 존재하여 해당 모델에만 완전히 의존하여 결론을 낼 수는 없습니다. 따라서 이러한 <font color = coral>**척도를 참고하여 통계적으로, 혹은 도메인 지식을 활용한 사후분석**</font>을 해볼 수도 있겠습니다.\n",
    "\n",
    "이 뿐 아니라 **쓸모없는 Feature를 판별하여 제거**할 수도 있습니다. `FLAG_MOBIL` 같은 경우에는 중요도가 거의 0으로 나오기 때문에 모델에 fitting할 필요도 없겠죠! 분석 시에 Feature가 너무 많다면  <font color = coral>**컴퓨팅 코스트를 아끼기 위해 척도를 기반으로 이같은 Feature를 제거**</font>하는 경우도 있습니다."
   ]
  },
  {
   "cell_type": "markdown",
   "id": "2f6738e4",
   "metadata": {},
   "source": [
    "---"
   ]
  },
  {
   "cell_type": "markdown",
   "id": "b140418d",
   "metadata": {},
   "source": [
    "####  <font color = red>**주의점**</font> \n",
    "\n"
   ]
  },
  {
   "cell_type": "markdown",
   "id": "c37496f8",
   "metadata": {},
   "source": [
    "1. **설명할 모델은 예측에 사용한 모델이어야 합니다.**\n",
    "     \n",
    "     이것이 무슨말인가 하니! 만약 앙상블 모델을 통해서 Prediction 값을 예측했는데, 갑자기 다른 모델을 사용하여 Feature를 설명하면 안된다는 말입니다. 따라서 앙상블을 사용할 경우에는 이같은 모델 설명을 할 수 없게됩니다.  \n",
    "     \n",
    "        \n",
    "2. **위에서 예시를 든 Feature Importance 그래프는 Tree기반 모델에서만 사용 가능합니다.**\n",
    "     \n",
    "    코드를 보면 알 수 있듯 Tree기반 모델의 경우에는 대부분 Feature Importance를 자체적으로 제공합니다. Tree기반이 아닌 다른 모델에서는 이같은 코드를 사용할 수 없습니다.  \n",
    "     \n",
    "         Tree 기반 모델 예시: RandomForest, ExtraTree, GBM, XGB, LGBM 등...\n",
    "         \n",
    "3. **이 외에도 중요도를 계산해주는 패키지들이 있습니다.** \n",
    "    \n",
    "    eli5 / shap 등... Jupyter Light 환경에서는 실행이 불가하지만 이것들을 활용해 중요도를 파악하는 것도 굉장히 도움이 됩니다."
   ]
  },
  {
   "cell_type": "markdown",
   "id": "7dddead4",
   "metadata": {},
   "source": [
    "### Inst."
   ]
  },
  {
   "cell_type": "markdown",
   "id": "39380a66",
   "metadata": {},
   "source": [
    "- LGBM 모델을 사용하여 Feature Importance를 구해보세요\n",
    "- 모델에서 중요하게 생각하는 Feature는 무엇인지 또, 그렇지 않은 Feature는 무엇인지 살펴보세요"
   ]
  },
  {
   "cell_type": "code",
   "execution_count": null,
   "id": "a1302f6e",
   "metadata": {},
   "outputs": [],
   "source": []
  },
  {
   "cell_type": "markdown",
   "id": "565b4905",
   "metadata": {},
   "source": [
    "### Hint."
   ]
  },
  {
   "cell_type": "markdown",
   "id": "de491e01",
   "metadata": {},
   "source": [
    "- lgbm모델은 LGBMClassifier 로 할당할 수 있습니다.\n",
    "- 미리 구해놓은 하이퍼 파라미터를 사용하는 것도 좋습니다."
   ]
  },
  {
   "cell_type": "markdown",
   "id": "edfbd01b",
   "metadata": {},
   "source": [
    "### Solution."
   ]
  },
  {
   "cell_type": "code",
   "execution_count": 32,
   "id": "ce5f5863",
   "metadata": {},
   "outputs": [
    {
     "data": {
      "text/plain": [
       "LGBMClassifier(learning_rate=0.01, n_estimators=300, num_leaves=256,\n",
       "               subsample=0.3)"
      ]
     },
     "execution_count": 32,
     "metadata": {},
     "output_type": "execute_result"
    }
   ],
   "source": [
    "# data split\n",
    "X_train, X_val, y_train, y_val = train_test_split(train, target ,test_size=0.3)\n",
    "\n",
    "\n",
    "#  앞서 구해놓은 clfs_tuned에서 사용할 모델의 파라미터 가져오기\n",
    "for i in range(len(clfs_tuned)):\n",
    "    if clfs_tuned[i][0] == 'LGBMClassifier':\n",
    "        params = clfs_tuned[i][1].best_params_\n",
    "        \n",
    "# 변수에 모델 할당 \n",
    "lgbm =  LGBMClassifier (**params)             # best params들을 unpacking하여 모델에 할당\n",
    "\n",
    "lgbm.fit(X_train, y_train)"
   ]
  },
  {
   "cell_type": "code",
   "execution_count": 33,
   "id": "93f30c22",
   "metadata": {
    "scrolled": false
   },
   "outputs": [
    {
     "data": {
      "image/png": "[encoded data removed]",
      "text/plain": [
       "<Figure size 640x480 with 1 Axes>"
      ]
     },
     "metadata": {},
     "output_type": "display_data"
    }
   ],
   "source": [
    "def feature_importances(model, train):\n",
    "    n_features = train.shape[1]\n",
    "    tp_df = pd.DataFrame(model.feature_importances_).rename(columns = ({0:'feature_import'}))\n",
    "    tp_df['feat'] = train.columns\n",
    "    tp_df.sort_values(by = 'feature_import', inplace = True)\n",
    "    tp_df.reset_index(inplace = True)\n",
    "    \n",
    "    plt.barh(tp_df.index, tp_df['feature_import'], align = 'center')\n",
    "    plt.yticks(tp_df.index, tp_df['feat'], fontsize = 7)\n",
    "    plt.xlabel('LGBM Feature importance')\n",
    "    plt.ylabel('Feature')\n",
    "    plt.ylim(-1, n_features)\n",
    "\n",
    "\n",
    "feature_importances(lgbm, X_train)"
   ]
  },
  {
   "cell_type": "markdown",
   "id": "a1f5bcd2",
   "metadata": {},
   "source": [
    "- 중요 Feature  \n",
    "        BIRTH_MINUS_EMPLOYED\n",
    "        income_totla_beforeEMP_RAIO\n",
    "        INCOME_FAM_RATIO\n",
    "    \n",
    "- 중요하지 않은 Feature  \n",
    "        before_EMPLOYED\n",
    "        emp\n",
    "        FLAG_MOBIL\n",
    "        income_per_person\n",
    "        DAYS_EMPLOYED"
   ]
  },
  {
   "cell_type": "markdown",
   "id": "93b03071",
   "metadata": {},
   "source": [
    "### <font color = red>Last Inst.</font>"
   ]
  },
  {
   "cell_type": "markdown",
   "id": "a7f726eb",
   "metadata": {},
   "source": [
    "현재까지 배운 기술들을 활용하여 DACON 대회에서 점수를 향상시켜 보세요!\n",
    "\n",
    "\n",
    "좋은 Score가 나오길 응원합니다 👍🏻"
   ]
  },
  {
   "cell_type": "markdown",
   "id": "1c33f97c",
   "metadata": {},
   "source": [
    "# Outro "
   ]
  },
  {
   "cell_type": "markdown",
   "id": "4546a69f",
   "metadata": {},
   "source": [
    "자! 여기까지 데이터 분석에 대해 기초부터 심화까지 살펴보았습니다.  \n",
    " \n",
    "짧은 시간동안 따라오시느라 고생 많으셨습니다. 👏🏻👏🏻👏🏻\n",
    "\n",
    "물론 저희가 소개시켜드린 방법 말고도 더 다양한 기법들이 존재하고, 쉬운 이해를 고려하여 생략한 설명도 존재합니다. \n",
    "\n",
    "데이터 분석의 세계는 넓고도 깊습니다. 저희의 자료를 기반으로 혼자 꾸준히 학습을 진행해보시고 코드를 업그레이드 시켜 보세요.\n",
    "\n",
    "즐거운 학습이 되셨길 바라겠습니다! 안녕~ 👋"
   ]
  }
 ],
 "metadata": {
  "kernelspec": {
   "display_name": "Python 3 (ipykernel)",
   "language": "python",
   "name": "python3"
  },
  "language_info": {
   "codemirror_mode": {
    "name": "ipython",
    "version": 3
   },
   "file_extension": ".py",
   "mimetype": "text/x-python",
   "name": "python",
   "nbconvert_exporter": "python",
   "pygments_lexer": "ipython3",
   "version": "3.9.13"
  }
 },
 "nbformat": 4,
 "nbformat_minor": 5
}
