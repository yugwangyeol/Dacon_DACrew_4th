{
 "cells": [
  {
   "cell_type": "markdown",
   "id": "c8594720",
   "metadata": {},
   "source": [
    "# Stage1"
   ]
  },
  {
   "cell_type": "markdown",
   "id": "f12859e2",
   "metadata": {},
   "source": [
    "# 1. Intro\n",
    "<img src='https://drive.google.com/uc?export=download&id=1RhYU0LuzaQJW63dlMyLJpJ5YpyFM0a0c' width=\"\" height =\"\" /><br>\n",
    "\n",
    "\n",
    "우리는 일상에서 다양한 종류의 데이터들을 어디에서든 만날 수 있습니다. 그 중에서도 하루에 한번은 꼭 마주치는게 있죠!! 바로 금융 데이터입니다.\n",
    "\n",
    "\n",
    "우리는 신용카드, 체크카드, 교통카드 할것 없이 돈이 흘러가는 과정을 직,간접적으로 경험하고 있습니다. \n",
    "\n",
    "이렇게나 일상에 밀접한 데이터를 다룰 수 있다니 정말 설레지 않나요?\n",
    "\n",
    "이러한 데이터를 기반으로 분석의 가장 기초부터 심화버전 까지 모두 경험할 수 있는 사용자의 신용카드 대금 연체 정도를 예측 프로젝트를 소개합니다!\n",
    "\n",
    "<p style='text-align: right;'> 2023.01 </p>\n",
    "\n",
    "---\n",
    "####  세상의 모든 데이터 중에서도 금융에 관련된 <font color=\"coral\">**사용자의 신용카드 대금 연체 정도를 예측**</font>에 참여하신 데이커 여러분, 환영합니다.🙋🏻\n",
    "\n",
    "카드사에서는 고객의 편의를 위해 다방면으로 서비스를 제공하고 있습니다.고객에게 차별없는 서비스를 제공하기 위해서는 비즈니스 의사결정을 위해 많은 노력을 기울여야겠지요. \n",
    "\n",
    "실제로 현재 많은 금융업계에서는 머신러닝과 인공지능을 활용해 금융 서비스를 구현하고자 합니다.\n",
    "\n",
    "본 교육 자료를 통해 **<font color=\"green\">데이터를 기반으로 비즈니스 문제의 솔루션을 제공</font>**하며 멋진 데이터 사이언티스트로 성장해보세요!\n",
    "\n",
    "---"
   ]
  },
  {
   "cell_type": "markdown",
   "id": "94428ad0",
   "metadata": {},
   "source": [
    "# 2. 프로젝트 배경 \n",
    "<font color=\"grey\">[그림1] \"21년도 카드대출 연체율과 19년 비교 20대의 카드대출 연체액</font>\n",
    "<img src='https://drive.google.com/uc?export=download&id=1YveZhsY1sO_pJwy_poX0tgjXQxFRn5OF' width=\"\" height =\"\" /><br>\n",
    "그렇다면 고객의 정보만으로 신용카드 대금 연체 정도를 예측할 수 있다면 기업에게 얼마나 도움이 될까요?   \n",
    "\n",
    "카드 대금 연체로 인한 카드사의 손해를 예방 할 뿐만 아니라 선제적인 조치를 통해 고객의 신용불량률 감소 등에도 도움을 줄 수 있을 겁니다.\n",
    "\n",
    "이렇게 비즈니스 의사결정에는 고객의 데이터를 분석하는 과정이 반드시 필요하기 마련이고, 여러분도 충분히 이러한 인사이트를 도출할 수 있습니다!\n",
    "\n",
    "자 이제 프로젝트를 본격적으로 시작해봅시다! 🤗\n",
    "\n",
    "---"
   ]
  },
  {
   "cell_type": "markdown",
   "id": "7587d7e4",
   "metadata": {},
   "source": [
    "# 3. 데이터 살펴보기\n",
    "## 3.1. 데이터 불러오기\n",
    "분석을 진행하기 앞서 사용할 데이터를 먼저 확인해야 합니다.\n",
    "\n",
    "데이터 분석을 요리와 비교했을때 본 단계는 요리를 시작하기 앞서 어떤 재료를 사용하는지 알아가는 단계라고 할 수 있습니다.\n",
    "\n",
    "이처럼 분석에 사용될 데이터가 어떠한 형태를 띄고 있는지, 데이터의 내용은 어떻게 되는지, 행과 열은 어떤 식으로 구성되어 있는지를 파악할 수 있어야 앞으로의 분석 방향을 정할 수 있습니다.\n",
    "\n",
    "본 프로젝트에서 제공하는 csv 파일은 총 3가지 입니다.\n",
    "\n",
    "    1. train.csv: 데이터 분석 모델을 학습(train)하기 위해 사용하는 데이터 \n",
    "    2. test.csv: 데이터 분석 모델을 통해 정답을 예측하기 위해 사용하는 데이터\n",
    "    3. sample_submission.csv: 예측한 정답 값을 기록하여 제출하기 위한 샘플 정답 파일\n",
    "    \n",
    "위와 같은 데이터 파일을 불러오기 위해서는 pandas 패키지가 필요합니다. pandas는 데이터 처리와 분석을 위한 기본 라이브러리입니다.\n",
    "\n",
    "먼저 pandas 패키지를 불러오고 `read_csv()` 함수를 사용해 데이터를 가져오겠습니다!\n",
    "\n",
    "<font color=\"coral\">**pandas를 처음 접하는 분들은 데이콘에서 제공하는 입문 과정을 먼저 수료하고 오시면 더욱 원활하게 프로젝트를 진행할 수 있습니다!**</font>"
   ]
  },
  {
   "cell_type": "code",
   "execution_count": 2,
   "id": "8e87c181",
   "metadata": {},
   "outputs": [],
   "source": [
    "# pyhon 기본 함수인 import를 이용해 pandas 라이브러리를 가져오고 이름을 명명하기\n",
    "import pandas as pd\n",
    "\n",
    "# submission 객체 'sample_submission.csv' 파일을 할당 \n",
    "submission = pd.read_csv('sample_submission.csv')"
   ]
  },
  {
   "cell_type": "markdown",
   "id": "1f77c157",
   "metadata": {},
   "source": [
    "먼저 패키지를 불러오기 위해 import 함수를 사용해 봅시다.\n",
    "\n",
    "> <font color=\"green\">**\"import\"**</font> 패키지명 <font color=\"green\">**\"as\"**</font> 약어  \n",
    "\n",
    "> <font color=\"green\">**\"import\"**</font> 명령어는 설치된 \"pandas\" 패키지를 불러와서 실행할 수 있게 대기 상태로 만들어 주는 명령어입니다.  \n",
    "> <font color=\"green\">**\"as\"**</font> 명령어는 \"alias\"의 약자로, \"pandas\"를 사용할 때마다 긴 이름을 적기 귀찮으니 이름을 줄이는 목적으로 사용됩니다. 특히나 많이 사용할 패키지를 이렇게 약자로 표시합니다. \"pandas\"의 경우에는 \"pd\"라고 명시하는 것을 암묵적인 룰이라고 생각해주세요 :) </br>\n",
    "\n",
    "---\n",
    "\n",
    "다음으로 csv 파일을 불러오기 위해 pandas 함수 중 \"read_csv\"를 사용하여 데이콘에서 제공한 샘플 데이터를 \"submission\"이라는 이름으로 저장합니다. 이 것을 객체(이름)에 할당(저장)한다고 표현합니다.\n",
    "\n",
    "> <font color=\"green\">**read_csv(\"`파일 위치/파일명.확장자명`\")**</font>\n",
    "\n",
    ">read_csv() 함수는 ('파일이 있는 위치/파일명.확장자명') 의 형식을 받아 데이터를 불러옵니다.  \n",
    ">현재 코드가 실행되고 있는 파일(.ipynb)과 불러오고 싶은 데이터 파일(.csv)은 동일한 위치에 존재합니다.    \n",
    ">이런 경우에 read_csv() 함수는 파일이 있는 위치를 생략하고 (‘파일명.확장자명’) 의 형식을 받아 데이터를 불러올 수 있습니다.    \n",
    "\n",
    "  \n",
    "**이제 키보드에 손을 올리고 데이터를 불러와 봅시다!!**"
   ]
  },
  {
   "cell_type": "markdown",
   "id": "62cdc5f5",
   "metadata": {},
   "source": [
    "### Inst.\n",
    "분석에 사용할 데이터를 한번 불러와 봅시다.\n",
    "\n",
    "- pandas 패키지를 pd라는 별칭으로 import하세요\n",
    "- sample_submission.csv 파일을 submission이라는 객체에 할당하세요\n",
    "- submission 파일을 출력해보세요"
   ]
  },
  {
   "cell_type": "code",
   "execution_count": null,
   "id": "dc102e20",
   "metadata": {},
   "outputs": [],
   "source": [
    "# pandas를 불러 오세요\n",
    "\n",
    "# csv 파일을 submission에 할당하세요\n",
    "\n",
    "# submission 파일을 출력해보세요 \n"
   ]
  },
  {
   "cell_type": "markdown",
   "id": "a2236b6d",
   "metadata": {},
   "source": [
    "### Hint.\n",
    "read_csv() 함수는 pandas 패키지 안에 있기 때문에 pd. 을 먼저 입력해주어야 합니다."
   ]
  },
  {
   "cell_type": "markdown",
   "id": "a4fe735a",
   "metadata": {},
   "source": [
    "### Solution."
   ]
  },
  {
   "cell_type": "code",
   "execution_count": 3,
   "id": "2d67403b",
   "metadata": {
    "scrolled": true
   },
   "outputs": [
    {
     "data": {
      "text/html": [
       "<div>\n",
       "<style scoped>\n",
       "    .dataframe tbody tr th:only-of-type {\n",
       "        vertical-align: middle;\n",
       "    }\n",
       "\n",
       "    .dataframe tbody tr th {\n",
       "        vertical-align: top;\n",
       "    }\n",
       "\n",
       "    .dataframe thead th {\n",
       "        text-align: right;\n",
       "    }\n",
       "</style>\n",
       "<table border=\"1\" class=\"dataframe\">\n",
       "  <thead>\n",
       "    <tr style=\"text-align: right;\">\n",
       "      <th></th>\n",
       "      <th>index</th>\n",
       "      <th>0</th>\n",
       "      <th>1</th>\n",
       "      <th>2</th>\n",
       "    </tr>\n",
       "  </thead>\n",
       "  <tbody>\n",
       "    <tr>\n",
       "      <th>0</th>\n",
       "      <td>26457</td>\n",
       "      <td>0</td>\n",
       "      <td>0</td>\n",
       "      <td>0</td>\n",
       "    </tr>\n",
       "    <tr>\n",
       "      <th>1</th>\n",
       "      <td>26458</td>\n",
       "      <td>0</td>\n",
       "      <td>0</td>\n",
       "      <td>0</td>\n",
       "    </tr>\n",
       "    <tr>\n",
       "      <th>2</th>\n",
       "      <td>26459</td>\n",
       "      <td>0</td>\n",
       "      <td>0</td>\n",
       "      <td>0</td>\n",
       "    </tr>\n",
       "    <tr>\n",
       "      <th>3</th>\n",
       "      <td>26460</td>\n",
       "      <td>0</td>\n",
       "      <td>0</td>\n",
       "      <td>0</td>\n",
       "    </tr>\n",
       "    <tr>\n",
       "      <th>4</th>\n",
       "      <td>26461</td>\n",
       "      <td>0</td>\n",
       "      <td>0</td>\n",
       "      <td>0</td>\n",
       "    </tr>\n",
       "    <tr>\n",
       "      <th>...</th>\n",
       "      <td>...</td>\n",
       "      <td>...</td>\n",
       "      <td>...</td>\n",
       "      <td>...</td>\n",
       "    </tr>\n",
       "    <tr>\n",
       "      <th>9995</th>\n",
       "      <td>36452</td>\n",
       "      <td>0</td>\n",
       "      <td>0</td>\n",
       "      <td>0</td>\n",
       "    </tr>\n",
       "    <tr>\n",
       "      <th>9996</th>\n",
       "      <td>36453</td>\n",
       "      <td>0</td>\n",
       "      <td>0</td>\n",
       "      <td>0</td>\n",
       "    </tr>\n",
       "    <tr>\n",
       "      <th>9997</th>\n",
       "      <td>36454</td>\n",
       "      <td>0</td>\n",
       "      <td>0</td>\n",
       "      <td>0</td>\n",
       "    </tr>\n",
       "    <tr>\n",
       "      <th>9998</th>\n",
       "      <td>36455</td>\n",
       "      <td>0</td>\n",
       "      <td>0</td>\n",
       "      <td>0</td>\n",
       "    </tr>\n",
       "    <tr>\n",
       "      <th>9999</th>\n",
       "      <td>36456</td>\n",
       "      <td>0</td>\n",
       "      <td>0</td>\n",
       "      <td>0</td>\n",
       "    </tr>\n",
       "  </tbody>\n",
       "</table>\n",
       "<p>10000 rows × 4 columns</p>\n",
       "</div>"
      ],
      "text/plain": [
       "      index  0  1  2\n",
       "0     26457  0  0  0\n",
       "1     26458  0  0  0\n",
       "2     26459  0  0  0\n",
       "3     26460  0  0  0\n",
       "4     26461  0  0  0\n",
       "...     ... .. .. ..\n",
       "9995  36452  0  0  0\n",
       "9996  36453  0  0  0\n",
       "9997  36454  0  0  0\n",
       "9998  36455  0  0  0\n",
       "9999  36456  0  0  0\n",
       "\n",
       "[10000 rows x 4 columns]"
      ]
     },
     "execution_count": 3,
     "metadata": {},
     "output_type": "execute_result"
    }
   ],
   "source": [
    "import pandas as pd\n",
    "\n",
    "submission = pd.read_csv('sample_submission.csv')\n",
    "\n",
    "submission"
   ]
  },
  {
   "cell_type": "markdown",
   "id": "44ac1f33",
   "metadata": {},
   "source": [
    "---"
   ]
  },
  {
   "cell_type": "markdown",
   "id": "d250e4ae",
   "metadata": {},
   "source": [
    "## 3.2. 데이터 확인\n",
    "\n",
    "데이터가 잘 불러와졌는지 확인해봅시다.\n",
    "\n",
    "먼저 `head()` 메서드를 사용해 데이터를 확인합니다.\n",
    "\n",
    "다음 `info()` 입니다. 해당 메서드는 불러온 데이터의 전반을 요약해줍니다. 데이터의 타입이나 용량을 확인할 수 있으며, **결측치**를 찾는데 매우 용이합니다. \n",
    "\n",
    "\n",
    "- head( ) : 처음 5행 선택    \n",
    "\\* (숫자)를 넣으면 지정 숫자만큼의 행을 선택할 수 있습니다.\n",
    "\n",
    "- info( ) : 데이터 변수들의 타입 및 결측치 확인\n",
    "\n",
    "그럼 데이터가 어떻게 생겼는지 이 두 가지 메소드를 이용하여 직접 확인해 보세요!"
   ]
  },
  {
   "cell_type": "code",
   "execution_count": 4,
   "id": "0aeac0be",
   "metadata": {
    "scrolled": true
   },
   "outputs": [
    {
     "data": {
      "text/html": [
       "<div>\n",
       "<style scoped>\n",
       "    .dataframe tbody tr th:only-of-type {\n",
       "        vertical-align: middle;\n",
       "    }\n",
       "\n",
       "    .dataframe tbody tr th {\n",
       "        vertical-align: top;\n",
       "    }\n",
       "\n",
       "    .dataframe thead th {\n",
       "        text-align: right;\n",
       "    }\n",
       "</style>\n",
       "<table border=\"1\" class=\"dataframe\">\n",
       "  <thead>\n",
       "    <tr style=\"text-align: right;\">\n",
       "      <th></th>\n",
       "      <th>index</th>\n",
       "      <th>0</th>\n",
       "      <th>1</th>\n",
       "      <th>2</th>\n",
       "    </tr>\n",
       "  </thead>\n",
       "  <tbody>\n",
       "    <tr>\n",
       "      <th>0</th>\n",
       "      <td>26457</td>\n",
       "      <td>0</td>\n",
       "      <td>0</td>\n",
       "      <td>0</td>\n",
       "    </tr>\n",
       "    <tr>\n",
       "      <th>1</th>\n",
       "      <td>26458</td>\n",
       "      <td>0</td>\n",
       "      <td>0</td>\n",
       "      <td>0</td>\n",
       "    </tr>\n",
       "    <tr>\n",
       "      <th>2</th>\n",
       "      <td>26459</td>\n",
       "      <td>0</td>\n",
       "      <td>0</td>\n",
       "      <td>0</td>\n",
       "    </tr>\n",
       "    <tr>\n",
       "      <th>3</th>\n",
       "      <td>26460</td>\n",
       "      <td>0</td>\n",
       "      <td>0</td>\n",
       "      <td>0</td>\n",
       "    </tr>\n",
       "    <tr>\n",
       "      <th>4</th>\n",
       "      <td>26461</td>\n",
       "      <td>0</td>\n",
       "      <td>0</td>\n",
       "      <td>0</td>\n",
       "    </tr>\n",
       "  </tbody>\n",
       "</table>\n",
       "</div>"
      ],
      "text/plain": [
       "   index  0  1  2\n",
       "0  26457  0  0  0\n",
       "1  26458  0  0  0\n",
       "2  26459  0  0  0\n",
       "3  26460  0  0  0\n",
       "4  26461  0  0  0"
      ]
     },
     "execution_count": 4,
     "metadata": {},
     "output_type": "execute_result"
    }
   ],
   "source": [
    "# 데이터 상위 5개 행 출력\n",
    "submission.head()"
   ]
  },
  {
   "cell_type": "markdown",
   "id": "07068796",
   "metadata": {},
   "source": [
    "### Inst.\n",
    "- 데이터프레임의 첫 5행을 뽑아보세요\n",
    "- 데이터들의 타입을 출력해보세요"
   ]
  },
  {
   "cell_type": "code",
   "execution_count": null,
   "id": "ffa8de28",
   "metadata": {},
   "outputs": [],
   "source": [
    "# 상위 5개 행을 출력하세요\n",
    "\n",
    "# 데이터 전반의 요약을 출력하고, 각 데이터가 어떤 타입인지 확인해 보세요! 더불어 행열 개수도 확인해보세요\n"
   ]
  },
  {
   "cell_type": "markdown",
   "id": "ba496bed",
   "metadata": {},
   "source": [
    "### Hint.\n",
    "해당 메서드들은 데이터 프레임에 대해 적용하기 때문에 `dataframe명.메서드` 로 사용할 수 있습니다. "
   ]
  },
  {
   "cell_type": "markdown",
   "id": "c023c3b6",
   "metadata": {},
   "source": [
    "### Solution"
   ]
  },
  {
   "cell_type": "code",
   "execution_count": 7,
   "id": "b6661128",
   "metadata": {},
   "outputs": [
    {
     "data": {
      "text/html": [
       "<div>\n",
       "<style scoped>\n",
       "    .dataframe tbody tr th:only-of-type {\n",
       "        vertical-align: middle;\n",
       "    }\n",
       "\n",
       "    .dataframe tbody tr th {\n",
       "        vertical-align: top;\n",
       "    }\n",
       "\n",
       "    .dataframe thead th {\n",
       "        text-align: right;\n",
       "    }\n",
       "</style>\n",
       "<table border=\"1\" class=\"dataframe\">\n",
       "  <thead>\n",
       "    <tr style=\"text-align: right;\">\n",
       "      <th></th>\n",
       "      <th>index</th>\n",
       "      <th>0</th>\n",
       "      <th>1</th>\n",
       "      <th>2</th>\n",
       "    </tr>\n",
       "  </thead>\n",
       "  <tbody>\n",
       "    <tr>\n",
       "      <th>0</th>\n",
       "      <td>26457</td>\n",
       "      <td>0</td>\n",
       "      <td>0</td>\n",
       "      <td>0</td>\n",
       "    </tr>\n",
       "    <tr>\n",
       "      <th>1</th>\n",
       "      <td>26458</td>\n",
       "      <td>0</td>\n",
       "      <td>0</td>\n",
       "      <td>0</td>\n",
       "    </tr>\n",
       "    <tr>\n",
       "      <th>2</th>\n",
       "      <td>26459</td>\n",
       "      <td>0</td>\n",
       "      <td>0</td>\n",
       "      <td>0</td>\n",
       "    </tr>\n",
       "    <tr>\n",
       "      <th>3</th>\n",
       "      <td>26460</td>\n",
       "      <td>0</td>\n",
       "      <td>0</td>\n",
       "      <td>0</td>\n",
       "    </tr>\n",
       "    <tr>\n",
       "      <th>4</th>\n",
       "      <td>26461</td>\n",
       "      <td>0</td>\n",
       "      <td>0</td>\n",
       "      <td>0</td>\n",
       "    </tr>\n",
       "  </tbody>\n",
       "</table>\n",
       "</div>"
      ],
      "text/plain": [
       "   index  0  1  2\n",
       "0  26457  0  0  0\n",
       "1  26458  0  0  0\n",
       "2  26459  0  0  0\n",
       "3  26460  0  0  0\n",
       "4  26461  0  0  0"
      ]
     },
     "execution_count": 7,
     "metadata": {},
     "output_type": "execute_result"
    }
   ],
   "source": [
    "submission.head()"
   ]
  },
  {
   "cell_type": "code",
   "execution_count": 5,
   "id": "9e430fa2",
   "metadata": {},
   "outputs": [
    {
     "name": "stdout",
     "output_type": "stream",
     "text": [
      "<class 'pandas.core.frame.DataFrame'>\n",
      "RangeIndex: 10000 entries, 0 to 9999\n",
      "Data columns (total 4 columns):\n",
      " #   Column  Non-Null Count  Dtype\n",
      "---  ------  --------------  -----\n",
      " 0   index   10000 non-null  int64\n",
      " 1   0       10000 non-null  int64\n",
      " 2   1       10000 non-null  int64\n",
      " 3   2       10000 non-null  int64\n",
      "dtypes: int64(4)\n",
      "memory usage: 312.6 KB\n"
     ]
    }
   ],
   "source": [
    "submission.info()"
   ]
  },
  {
   "cell_type": "markdown",
   "id": "c1bb1b0a",
   "metadata": {},
   "source": [
    "sample_submission 데이터는 `index`, `0`, `1`, `2` 총 4가지 Column으로 구성되어 있습니다. Column명이 무엇을 의미하는지는 항상 데이터 설명을 참고하시기 바랍니다!!! </br>지금과 같은 경우에는 사용자의 신용카드 대금 연체를 기준으로 한 신용도를 나타내고, 값이 낮을 수록 높은 신용의 신용카드 사용자를 의미합니다.</br>  \n",
    "\n",
    "sample_submission을 살펴보며 본 프로젝트에서는 각 사용자들의 신용도를 예측해야 되는 것을 알 수 있습니다.\n",
    "\n",
    "**최종적으로 모두 0으로 채워진 submission 파일을 유저별로 0인지 1인지 2인지 예측한 값으로 채우면 되겠습니다.**\n",
    "\n",
    "---"
   ]
  },
  {
   "cell_type": "markdown",
   "id": "c2cb3ea9",
   "metadata": {},
   "source": [
    "# 4. 제출 준비하기\n",
    "\n",
    "이제 제출준비를 해보겠습니다.\n",
    "\n",
    "<font color=coral>**천리길도 한걸음부터**</font> 라는 말이 있습니다. 천리길을 가려면 먼저 한 걸음을 내딛어야겠지요? </br>이번 스테이지에서는 무언가 시도했다! 라는 결과물을 먼저 내봅시다. </br>\n",
    "\n",
    "스테이지가 지나며 여러분의 점수는 점점 올라갈 것이고, 그럼 더욱 짜릿하겠죠!! 😆😆\n",
    "  \n",
    "to_csv 메소드를 이용해 submission을 **submission.csv**로 저장해 제출해 보겠습니다.\n",
    "> <font color=\"green\">**to_csv(\"`파일위치/파일명.확장자명`, `index = boolean`\")**</font>\n",
    "\n",
    "> <font color=\"green\">**to_csv**</font>메소드는 객체에 할당된 DataFrame을 csv로 내보내는 역할을 합니다. 따라서 객체에 적용시키기 위해 `DataFrame명.to_csv()`로 시작합니다.  \n",
    "> 그 다음 <font color=\"green\">**파일위치와 파일명**</font>은 read_csv와 다르게 `어떤 위치에 어떤 이름으로 내보낼 것`인지 정하게 됩니다.  \n",
    "> <font color=\"green\">**index인자**</font>는 해당 파일에 index를 설정할 것인지 아닌지 `True / False`를 적용해 선택할 수 있습니다.\n",
    "\n",
    "**이처럼 파일을 불러서 처리한 후, 저장하는 일련의 과정을 \"데이터 i/o(input/output)를 처리한다\" 라고 합니다.   \n",
    "분석 결과를 제출하기 위해서는 꼭 필요한 과정입니다.**"
   ]
  },
  {
   "cell_type": "code",
   "execution_count": null,
   "id": "5155fe9c",
   "metadata": {},
   "outputs": [],
   "source": [
    "submission.to_csv('submission.csv', index=False)"
   ]
  },
  {
   "cell_type": "markdown",
   "id": "df120b24",
   "metadata": {},
   "source": [
    "### Inst.\n",
    "\n",
    "- to_csv 메소드를 이용하여 submission 객체의 내용을 csv 파일 형태로 만들어보세요.   \n",
    "    index=False를 하여 추가적인 인덱스 설정을 하지 마세요.(정확한 채점을 위해서 index=False를 꼭 넣어 주세요.)"
   ]
  },
  {
   "cell_type": "code",
   "execution_count": null,
   "id": "ea3ae1d7",
   "metadata": {},
   "outputs": [],
   "source": [
    "# submission 파일을 내보내세요\n"
   ]
  },
  {
   "cell_type": "markdown",
   "id": "c68ffb89",
   "metadata": {},
   "source": [
    "### Hint.\n",
    "empty"
   ]
  },
  {
   "cell_type": "markdown",
   "id": "ece5bf1e",
   "metadata": {},
   "source": [
    "### Solution.\n",
    "empty"
   ]
  },
  {
   "cell_type": "markdown",
   "id": "d0950cff",
   "metadata": {},
   "source": [
    "---"
   ]
  },
  {
   "cell_type": "markdown",
   "id": "79a6ac4d",
   "metadata": {},
   "source": [
    "# Outro"
   ]
  },
  {
   "cell_type": "markdown",
   "id": "75874b69",
   "metadata": {},
   "source": [
    "데이터 분석의 첫걸음을 내딛으신 기분이 어떠신가요?  \n",
    "\n",
    "저희가 오늘 다루어본 주제는 기초에 불과하지만 여정의 첫 걸음은 가볍게 시작하는 법이지요. 어찌됐던 첫 stage를 마무리 하신 여러분께 박수를 보내드립니다! 👏🏻👏🏻👏🏻\n",
    "\n",
    "다음 stage 부터는 본격적으로 데이터를 탐구하고, 실무 분석의 기초에대해 살펴 볼 예정입니다!\n",
    "\n",
    "**다음 시간에 만나요~** 🧑🏻‍💻"
   ]
  }
 ],
 "metadata": {
  "kernelspec": {
   "display_name": "Python 3 (ipykernel)",
   "language": "python",
   "name": "python3"
  },
  "language_info": {
   "codemirror_mode": {
    "name": "ipython",
    "version": 3
   },
   "file_extension": ".py",
   "mimetype": "text/x-python",
   "name": "python",
   "nbconvert_exporter": "python",
   "pygments_lexer": "ipython3",
   "version": "3.9.13"
  }
 },
 "nbformat": 4,
 "nbformat_minor": 5
}
